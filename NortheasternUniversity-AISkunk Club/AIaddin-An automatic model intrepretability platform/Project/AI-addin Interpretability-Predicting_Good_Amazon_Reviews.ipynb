{
 "cells": [
  {
   "cell_type": "markdown",
   "metadata": {},
   "source": [
    "## Predict Good Amazon Review："
   ]
  },
  {
   "cell_type": "markdown",
   "metadata": {},
   "source": [
    "### 0. Data import & parse:"
   ]
  },
  {
   "cell_type": "code",
   "execution_count": 1,
   "metadata": {},
   "outputs": [],
   "source": [
    "import h2o\n",
    "from h2o.automl import H2OAutoML\n",
    "import random, os, sys\n",
    "from datetime import datetime\n",
    "import pandas as pd\n",
    "import logging\n",
    "import csv\n",
    "import optparse\n",
    "import time\n",
    "import json\n",
    "from distutils.util import strtobool\n",
    "import psutil\n",
    "import numpy as np\n",
    "from matplotlib import pyplot as plt\n",
    "import warnings\n",
    "warnings.filterwarnings(\"ignore\")"
   ]
  },
  {
   "cell_type": "code",
   "execution_count": 2,
   "metadata": {},
   "outputs": [],
   "source": [
    "#h2o.cluster().shutdown()"
   ]
  },
  {
   "cell_type": "code",
   "execution_count": 3,
   "metadata": {},
   "outputs": [],
   "source": [
    "min_mem_size=30 \n",
    "run_time=500"
   ]
  },
  {
   "cell_type": "code",
   "execution_count": 4,
   "metadata": {},
   "outputs": [
    {
     "name": "stdout",
     "output_type": "stream",
     "text": [
      "30\n"
     ]
    }
   ],
   "source": [
    "pct_memory=0.5\n",
    "virtual_memory=psutil.virtual_memory()\n",
    "# min_mem_size=int(round(int(pct_memory*virtual_memory.available)/1073741824,0))\n",
    "print(min_mem_size)"
   ]
  },
  {
   "cell_type": "code",
   "execution_count": 5,
   "metadata": {},
   "outputs": [
    {
     "name": "stdout",
     "output_type": "stream",
     "text": [
      "Checking whether there is an H2O instance running at http://localhost:54321..... not found.\n",
      "Attempting to start a local H2O server...\n",
      "; Java HotSpot(TM) 64-Bit Server VM (build 25.144-b01, mixed mode)\n",
      "  Starting server from c:\\python37\\lib\\site-packages\\h2o\\backend\\bin\\h2o.jar\n",
      "  Ice root: C:\\Users\\ZIWEIF~1\\AppData\\Local\\Temp\\tmpqfn3ipas\n",
      "  JVM stdout: C:\\Users\\ZIWEIF~1\\AppData\\Local\\Temp\\tmpqfn3ipas\\h2o_Zi_Wei_Fan_started_from_python.out\n",
      "  JVM stderr: C:\\Users\\ZIWEIF~1\\AppData\\Local\\Temp\\tmpqfn3ipas\\h2o_Zi_Wei_Fan_started_from_python.err\n",
      "  Server is running at http://127.0.0.1:54321\n",
      "Connecting to H2O server at http://127.0.0.1:54321... successful.\n"
     ]
    },
    {
     "data": {
      "text/html": [
       "<div style=\"overflow:auto\"><table style=\"width:50%\"><tr><td>H2O cluster uptime:</td>\n",
       "<td>03 secs</td></tr>\n",
       "<tr><td>H2O cluster timezone:</td>\n",
       "<td>America/New_York</td></tr>\n",
       "<tr><td>H2O data parsing timezone:</td>\n",
       "<td>UTC</td></tr>\n",
       "<tr><td>H2O cluster version:</td>\n",
       "<td>3.22.1.5</td></tr>\n",
       "<tr><td>H2O cluster version age:</td>\n",
       "<td>27 days </td></tr>\n",
       "<tr><td>H2O cluster name:</td>\n",
       "<td>H2O_from_python_Zi_Wei_Fan_cz7vu0</td></tr>\n",
       "<tr><td>H2O cluster total nodes:</td>\n",
       "<td>1</td></tr>\n",
       "<tr><td>H2O cluster free memory:</td>\n",
       "<td>26.67 Gb</td></tr>\n",
       "<tr><td>H2O cluster total cores:</td>\n",
       "<td>4</td></tr>\n",
       "<tr><td>H2O cluster allowed cores:</td>\n",
       "<td>4</td></tr>\n",
       "<tr><td>H2O cluster status:</td>\n",
       "<td>accepting new members, healthy</td></tr>\n",
       "<tr><td>H2O connection url:</td>\n",
       "<td>http://127.0.0.1:54321</td></tr>\n",
       "<tr><td>H2O connection proxy:</td>\n",
       "<td>None</td></tr>\n",
       "<tr><td>H2O internal security:</td>\n",
       "<td>False</td></tr>\n",
       "<tr><td>H2O API Extensions:</td>\n",
       "<td>Amazon S3, Algos, AutoML, Core V3, Core V4</td></tr>\n",
       "<tr><td>Python version:</td>\n",
       "<td>3.7.0 beta</td></tr></table></div>"
      ],
      "text/plain": [
       "--------------------------  ------------------------------------------\n",
       "H2O cluster uptime:         03 secs\n",
       "H2O cluster timezone:       America/New_York\n",
       "H2O data parsing timezone:  UTC\n",
       "H2O cluster version:        3.22.1.5\n",
       "H2O cluster version age:    27 days\n",
       "H2O cluster name:           H2O_from_python_Zi_Wei_Fan_cz7vu0\n",
       "H2O cluster total nodes:    1\n",
       "H2O cluster free memory:    26.67 Gb\n",
       "H2O cluster total cores:    4\n",
       "H2O cluster allowed cores:  4\n",
       "H2O cluster status:         accepting new members, healthy\n",
       "H2O connection url:         http://127.0.0.1:54321\n",
       "H2O connection proxy:\n",
       "H2O internal security:      False\n",
       "H2O API Extensions:         Amazon S3, Algos, AutoML, Core V3, Core V4\n",
       "Python version:             3.7.0 beta\n",
       "--------------------------  ------------------------------------------"
      ]
     },
     "metadata": {},
     "output_type": "display_data"
    }
   ],
   "source": [
    "h2o.init(strict_version_check=False,max_mem_size=min_mem_size)"
   ]
  },
  {
   "cell_type": "code",
   "execution_count": 6,
   "metadata": {},
   "outputs": [
    {
     "name": "stdout",
     "output_type": "stream",
     "text": [
      "Parse progress: |█████████████████████████████████████████████████████████| 100%\n"
     ]
    }
   ],
   "source": [
    "data_path = \"Dataset/AmazonReviews.Small.csv\"\n",
    "\n",
    "# Load data into H2O\n",
    "reviews = h2o.import_file(data_path)"
   ]
  },
  {
   "cell_type": "code",
   "execution_count": 7,
   "metadata": {},
   "outputs": [
    {
     "data": {
      "text/plain": [
       "(55554, 10)"
      ]
     },
     "execution_count": 7,
     "metadata": {},
     "output_type": "execute_result"
    }
   ],
   "source": [
    "reviews.shape"
   ]
  },
  {
   "cell_type": "code",
   "execution_count": 8,
   "metadata": {},
   "outputs": [
    {
     "data": {
      "text/html": [
       "<table>\n",
       "<thead>\n",
       "<tr><th>ProductId  </th><th>UserId        </th><th>Summary                     </th><th style=\"text-align: right;\">  Score</th><th style=\"text-align: right;\">  HelpfulnessDenominator</th><th style=\"text-align: right;\">    Id</th><th>ProfileName        </th><th style=\"text-align: right;\">  HelpfulnessNumerator</th><th style=\"text-align: right;\">       Time</th><th>Text                                                                                                                                                                                                                                                                                                                                                                            </th></tr>\n",
       "</thead>\n",
       "<tbody>\n",
       "<tr><td>B00141QYSQ </td><td>A1YS02UZZGRDCT</td><td>Do Not Buy                  </td><td style=\"text-align: right;\">      1</td><td style=\"text-align: right;\">                       2</td><td style=\"text-align: right;\"> 41471</td><td>Evan Eberhardt     </td><td style=\"text-align: right;\">                     2</td><td style=\"text-align: right;\">1.34836e+09</td><td>These are made in China (do not buy ANY pet food from China).  Dogswell has been using propylene glycol to soften their treats (what are they thinkng?).  Do not purchase or support this company in any way until they clean up their act.  And for whatever reason Amazon doesn't allow returns of this item, so I had to toss mine out.  Bad business all around on this one.</td></tr>\n",
       "<tr><td>B0089SPEO2 </td><td>A3JOYNYL458QHP</td><td>Less lemon and less zing    </td><td style=\"text-align: right;\">      3</td><td style=\"text-align: right;\">                       0</td><td style=\"text-align: right;\"> 28582</td><td>coleridge          </td><td style=\"text-align: right;\">                     0</td><td style=\"text-align: right;\">1.32391e+09</td><td>Everything is ok, except it just isn't as good as it is in the bags.  Just considerably more bland -- less lemon and less zing.  Boring.                                                                                                                                                                                                                                        </td></tr>\n",
       "<tr><td>B001PMCDK2 </td><td>A14TTMM0Z03Y2W</td><td>my cat goes crazy for these!</td><td style=\"text-align: right;\">      5</td><td style=\"text-align: right;\">                       0</td><td style=\"text-align: right;\">389965</td><td>Lindsay S. Bradford</td><td style=\"text-align: right;\">                     0</td><td style=\"text-align: right;\">1.3106e+09 </td><td>Best cat treat ever. There isn't anything comparable to the love my cat has for these treats, he snubs away any other kind now.<br />I know he likes to manipulate me with his cattiness but these treats are my way of manipulating him to come sit on my lap and have some chill time. :)                                                                                     </td></tr>\n",
       "</tbody>\n",
       "</table>"
      ]
     },
     "metadata": {},
     "output_type": "display_data"
    },
    {
     "data": {
      "text/plain": []
     },
     "execution_count": 8,
     "metadata": {},
     "output_type": "execute_result"
    }
   ],
   "source": [
    "reviews.head(3)"
   ]
  },
  {
   "cell_type": "markdown",
   "metadata": {},
   "source": [
    "Add Target Column: \"PositiveReview\", mean score around 4.2"
   ]
  },
  {
   "cell_type": "code",
   "execution_count": 9,
   "metadata": {},
   "outputs": [],
   "source": [
    "reviews['PositiveReview']=(reviews['Score']>=4.2).ifelse('1','0')"
   ]
  },
  {
   "cell_type": "code",
   "execution_count": 10,
   "metadata": {},
   "outputs": [
    {
     "data": {
      "text/html": [
       "<table>\n",
       "<thead>\n",
       "<tr><th>ProductId  </th><th>UserId        </th><th>Summary                 </th><th style=\"text-align: right;\">  Score</th><th style=\"text-align: right;\">  HelpfulnessDenominator</th><th style=\"text-align: right;\">   Id</th><th>ProfileName   </th><th style=\"text-align: right;\">  HelpfulnessNumerator</th><th style=\"text-align: right;\">       Time</th><th>Text                                                                                                                                                                                                                                                                                                                                                                            </th><th style=\"text-align: right;\">  PositiveReview</th></tr>\n",
       "</thead>\n",
       "<tbody>\n",
       "<tr><td>B00141QYSQ </td><td>A1YS02UZZGRDCT</td><td>Do Not Buy              </td><td style=\"text-align: right;\">      1</td><td style=\"text-align: right;\">                       2</td><td style=\"text-align: right;\">41471</td><td>Evan Eberhardt</td><td style=\"text-align: right;\">                     2</td><td style=\"text-align: right;\">1.34836e+09</td><td>These are made in China (do not buy ANY pet food from China).  Dogswell has been using propylene glycol to soften their treats (what are they thinkng?).  Do not purchase or support this company in any way until they clean up their act.  And for whatever reason Amazon doesn't allow returns of this item, so I had to toss mine out.  Bad business all around on this one.</td><td style=\"text-align: right;\">               0</td></tr>\n",
       "<tr><td>B0089SPEO2 </td><td>A3JOYNYL458QHP</td><td>Less lemon and less zing</td><td style=\"text-align: right;\">      3</td><td style=\"text-align: right;\">                       0</td><td style=\"text-align: right;\">28582</td><td>coleridge     </td><td style=\"text-align: right;\">                     0</td><td style=\"text-align: right;\">1.32391e+09</td><td>Everything is ok, except it just isn't as good as it is in the bags.  Just considerably more bland -- less lemon and less zing.  Boring.                                                                                                                                                                                                                                        </td><td style=\"text-align: right;\">               0</td></tr>\n",
       "</tbody>\n",
       "</table>"
      ]
     },
     "metadata": {},
     "output_type": "display_data"
    },
    {
     "data": {
      "text/plain": []
     },
     "execution_count": 10,
     "metadata": {},
     "output_type": "execute_result"
    }
   ],
   "source": [
    "reviews.head(2)"
   ]
  },
  {
   "cell_type": "code",
   "execution_count": 11,
   "metadata": {},
   "outputs": [
    {
     "data": {
      "text/html": [
       "<table>\n",
       "<thead>\n",
       "<tr><th style=\"text-align: right;\">  PositiveReview</th><th style=\"text-align: right;\">  Count</th></tr>\n",
       "</thead>\n",
       "<tbody>\n",
       "<tr><td style=\"text-align: right;\">               0</td><td style=\"text-align: right;\">  20106</td></tr>\n",
       "<tr><td style=\"text-align: right;\">               1</td><td style=\"text-align: right;\">  35448</td></tr>\n",
       "</tbody>\n",
       "</table>"
      ]
     },
     "metadata": {},
     "output_type": "display_data"
    },
    {
     "data": {
      "text/plain": []
     },
     "execution_count": 11,
     "metadata": {},
     "output_type": "execute_result"
    }
   ],
   "source": [
    "reviews['PositiveReview'].table()"
   ]
  },
  {
   "cell_type": "markdown",
   "metadata": {},
   "source": [
    "### 1. Train Baseline Model:\n",
    "We will start by training a baseline model that does not use the review and instead uses other attributes in our dataset."
   ]
  },
  {
   "cell_type": "code",
   "execution_count": 12,
   "metadata": {},
   "outputs": [
    {
     "data": {
      "text/html": [
       "<table>\n",
       "<thead>\n",
       "<tr><th style=\"text-align: right;\">  Probs</th><th style=\"text-align: right;\">  TimeQuantiles</th></tr>\n",
       "</thead>\n",
       "<tbody>\n",
       "<tr><td style=\"text-align: right;\">    0.8</td><td style=\"text-align: right;\">    1.33644e+09</td></tr>\n",
       "</tbody>\n",
       "</table>"
      ]
     },
     "metadata": {},
     "output_type": "display_data"
    },
    {
     "data": {
      "text/plain": []
     },
     "execution_count": 12,
     "metadata": {},
     "output_type": "execute_result"
    }
   ],
   "source": [
    "# Find the 80th quantile of time in the dataset\n",
    "time_split = reviews[\"Time\"].quantile(prob=[0.8])\n",
    "time_split"
   ]
  },
  {
   "cell_type": "code",
   "execution_count": 13,
   "metadata": {},
   "outputs": [],
   "source": [
    "time_split=time_split[1]"
   ]
  },
  {
   "cell_type": "code",
   "execution_count": 14,
   "metadata": {},
   "outputs": [
    {
     "data": {
      "text/html": [
       "<table>\n",
       "<thead>\n",
       "<tr><th>Train  </th></tr>\n",
       "</thead>\n",
       "<tbody>\n",
       "<tr><td>No     </td></tr>\n",
       "<tr><td>Yes    </td></tr>\n",
       "<tr><td>Yes    </td></tr>\n",
       "</tbody>\n",
       "</table>"
      ]
     },
     "metadata": {},
     "output_type": "display_data"
    },
    {
     "data": {
      "text/plain": []
     },
     "execution_count": 14,
     "metadata": {},
     "output_type": "execute_result"
    }
   ],
   "source": [
    "reviews['Train']=(reviews['Time']<time_split).ifelse(\"Yes\",\"No\")\n",
    "reviews['Train'].head(3)"
   ]
  },
  {
   "cell_type": "markdown",
   "metadata": {},
   "source": [
    "The 'Time' is the line to split the train set & test set."
   ]
  },
  {
   "cell_type": "code",
   "execution_count": 15,
   "metadata": {},
   "outputs": [],
   "source": [
    "train = reviews[reviews['Train'] == 'Yes']\n",
    "test = reviews[reviews['Train'] == 'No']"
   ]
  },
  {
   "cell_type": "markdown",
   "metadata": {},
   "source": [
    "- Train an baseline model: GradientBoostingEstimator."
   ]
  },
  {
   "cell_type": "code",
   "execution_count": 16,
   "metadata": {},
   "outputs": [
    {
     "name": "stdout",
     "output_type": "stream",
     "text": [
      "gbm Model Build progress: |███████████████████████████████████████████████| 100%\n"
     ]
    }
   ],
   "source": [
    "from h2o.estimators import H2OGradientBoostingEstimator\n",
    "\n",
    "predictors = ['ProductId', 'UserId', 'HelpfulnessNumerator', 'HelpfulnessDenominator', 'Time']\n",
    "response = 'PositiveReview'\n",
    "\n",
    "gbm_baseline = H2OGradientBoostingEstimator(stopping_metric = \"AUC\",\n",
    "                                           stopping_tolerance = 0.001,\n",
    "                                           stopping_rounds = 5, \n",
    "                                           score_tree_interval = 10, \n",
    "                                           model_id = 'gbm_baseline.hex')\n",
    "gbm_baseline.train(x = predictors, \n",
    "                   y = response,\n",
    "                  training_frame = train,\n",
    "                  validation_frame = test)"
   ]
  },
  {
   "cell_type": "markdown",
   "metadata": {},
   "source": [
    "- Calculate AUC & Confusion Matrix:"
   ]
  },
  {
   "cell_type": "code",
   "execution_count": 17,
   "metadata": {},
   "outputs": [
    {
     "name": "stdout",
     "output_type": "stream",
     "text": [
      "AUC on validation data: 0.595\n"
     ]
    }
   ],
   "source": [
    "print(\"AUC on validation data: \" + str(round(gbm_baseline.auc(valid = True), 3)))"
   ]
  },
  {
   "cell_type": "code",
   "execution_count": 18,
   "metadata": {
    "scrolled": true
   },
   "outputs": [
    {
     "name": "stdout",
     "output_type": "stream",
     "text": [
      "Confusion Matrix (Act/Pred) for max f1 @ threshold = 0.48181784133938027: \n"
     ]
    },
    {
     "data": {
      "text/html": [
       "<div style=\"overflow:auto\"><table style=\"width:50%\"><tr><td><b></b></td>\n",
       "<td><b>0</b></td>\n",
       "<td><b>1</b></td>\n",
       "<td><b>Error</b></td>\n",
       "<td><b>Rate</b></td></tr>\n",
       "<tr><td>0</td>\n",
       "<td>640.0</td>\n",
       "<td>3572.0</td>\n",
       "<td>0.8481</td>\n",
       "<td> (3572.0/4212.0)</td></tr>\n",
       "<tr><td>1</td>\n",
       "<td>237.0</td>\n",
       "<td>6703.0</td>\n",
       "<td>0.0341</td>\n",
       "<td> (237.0/6940.0)</td></tr>\n",
       "<tr><td>Total</td>\n",
       "<td>877.0</td>\n",
       "<td>10275.0</td>\n",
       "<td>0.3416</td>\n",
       "<td> (3809.0/11152.0)</td></tr></table></div>"
      ],
      "text/plain": [
       "       0    1      Error    Rate\n",
       "-----  ---  -----  -------  ----------------\n",
       "0      640  3572   0.8481   (3572.0/4212.0)\n",
       "1      237  6703   0.0341   (237.0/6940.0)\n",
       "Total  877  10275  0.3416   (3809.0/11152.0)"
      ]
     },
     "metadata": {},
     "output_type": "display_data"
    },
    {
     "data": {
      "text/plain": []
     },
     "execution_count": 18,
     "metadata": {},
     "output_type": "execute_result"
    }
   ],
   "source": [
    "gbm_baseline.confusion_matrix(valid=True)"
   ]
  },
  {
   "cell_type": "code",
   "execution_count": 19,
   "metadata": {},
   "outputs": [
    {
     "data": {
      "text/plain": [
       "{'train': 0.167988645532125, 'valid': 0.04741187777451328}"
      ]
     },
     "execution_count": 19,
     "metadata": {},
     "output_type": "execute_result"
    }
   ],
   "source": [
    "gbm_baseline.r2(train=True, valid=True)"
   ]
  },
  {
   "cell_type": "markdown",
   "metadata": {},
   "source": [
    "### 2. Interpret based on Baseline Model (GradientBoosting)"
   ]
  },
  {
   "cell_type": "markdown",
   "metadata": {},
   "source": [
    "- Plot Variable Importance: "
   ]
  },
  {
   "cell_type": "code",
   "execution_count": 20,
   "metadata": {},
   "outputs": [
    {
     "data": {
      "image/png": "[encoded data removed]",
      "text/plain": [
       "<Figure size 1008x720 with 1 Axes>"
      ]
     },
     "metadata": {
      "needs_background": "light"
     },
     "output_type": "display_data"
    }
   ],
   "source": [
    "gbm_baseline.varimp_plot()"
   ]
  },
  {
   "cell_type": "markdown",
   "metadata": {},
   "source": [
    "- Partial Dependence Plot:  \n",
    "Based on the top1 feature-'HelpfulnessNumerator':"
   ]
  },
  {
   "cell_type": "code",
   "execution_count": 21,
   "metadata": {},
   "outputs": [
    {
     "name": "stdout",
     "output_type": "stream",
     "text": [
      "PartialDependencePlot progress: |█████████████████████████████████████████| 100%\n"
     ]
    },
    {
     "data": {
      "image/png": "[encoded data removed]",
      "text/plain": [
       "<Figure size 504x720 with 1 Axes>"
      ]
     },
     "metadata": {
      "needs_background": "light"
     },
     "output_type": "display_data"
    }
   ],
   "source": [
    "%matplotlib inline\n",
    "pdp_helpfulness = gbm_baseline.partial_plot(train, cols = ['HelpfulnessNumerator'])"
   ]
  },
  {
   "cell_type": "markdown",
   "metadata": {},
   "source": [
    "### 3. Tokenize words in Review:"
   ]
  },
  {
   "cell_type": "markdown",
   "metadata": {},
   "source": [
    "- The tokenize():  \n",
    "    This will __split the reviews into words and remove any stop words, small words, or words with numbers in them__."
   ]
  },
  {
   "cell_type": "code",
   "execution_count": 22,
   "metadata": {},
   "outputs": [],
   "source": [
    "data_path = \"Dataset/stopwords.csv\"\n",
    "\n",
    "STOP_WORDS = pd.read_csv(data_path, header=0)\n",
    "STOP_WORDS = list(STOP_WORDS['STOP_WORD'])"
   ]
  },
  {
   "cell_type": "code",
   "execution_count": 23,
   "metadata": {},
   "outputs": [],
   "source": [
    "def tokenize(sentences, stop_word = STOP_WORDS):\n",
    "    tokenized = sentences.tokenize('\\\\W+')\n",
    "    tokenized_lower = tokenized.tolower()\n",
    "    tokenized_filtered = tokenized_lower[(tokenized_lower.nchar() >= 2)|(tokenized_lower.isna()), :]\n",
    "    tokenized_words = tokenized_filtered[tokenized_filtered.grep(\"[0-9]\",invert=True,output_logical=True), :]\n",
    "    tokenized_words = tokenized_words[(tokenized_words.isna()) | (~ tokenized_words.isin(STOP_WORDS)), :]\n",
    "    return tokenized_words"
   ]
  },
  {
   "cell_type": "code",
   "execution_count": 24,
   "metadata": {},
   "outputs": [],
   "source": [
    "words = tokenize(reviews['Text'])"
   ]
  },
  {
   "cell_type": "code",
   "execution_count": 25,
   "metadata": {
    "scrolled": true
   },
   "outputs": [
    {
     "data": {
      "text/html": [
       "<table>\n",
       "<thead>\n",
       "<tr><th>C1       </th></tr>\n",
       "</thead>\n",
       "<tbody>\n",
       "<tr><td>made     </td></tr>\n",
       "<tr><td>china    </td></tr>\n",
       "<tr><td>buy      </td></tr>\n",
       "<tr><td>pet      </td></tr>\n",
       "<tr><td>food     </td></tr>\n",
       "<tr><td>china    </td></tr>\n",
       "<tr><td>dogswell </td></tr>\n",
       "<tr><td>using    </td></tr>\n",
       "<tr><td>propylene</td></tr>\n",
       "<tr><td>glycol   </td></tr>\n",
       "</tbody>\n",
       "</table>"
      ]
     },
     "metadata": {},
     "output_type": "display_data"
    },
    {
     "data": {
      "text/plain": []
     },
     "execution_count": 25,
     "metadata": {},
     "output_type": "execute_result"
    }
   ],
   "source": [
    "words.head()"
   ]
  },
  {
   "cell_type": "markdown",
   "metadata": {},
   "source": [
    "### 4. Train Word2Vec Model:"
   ]
  },
  {
   "cell_type": "markdown",
   "metadata": {},
   "source": [
    "#### The purpose and usefulness of Word2vec is to group the vectors of similar words together in vectorspace.  \n",
    "Word2vec can make highly accurate guesses about a word’s meaning based on past appearances.  "
   ]
  },
  {
   "cell_type": "code",
   "execution_count": 26,
   "metadata": {},
   "outputs": [],
   "source": [
    "from h2o.estimators.word2vec import H2OWord2vecEstimator"
   ]
  },
  {
   "cell_type": "markdown",
   "metadata": {},
   "source": [
    "- Train Word2Vec model:"
   ]
  },
  {
   "cell_type": "code",
   "execution_count": 27,
   "metadata": {},
   "outputs": [],
   "source": [
    "'''\n",
    "w2v_model = H2OWord2vecEstimator(vec_size=100, model_id=\"w2v.hex\")\n",
    "w2v_model.train(training_frame = words)\n",
    "\n",
    "models_path = 'data'\n",
    "h2o.save_model(w2v_model, path=models_path, force=True)\n",
    "'''"
   ]
  },
  {
   "cell_type": "markdown",
   "metadata": {},
   "source": [
    "- Pre-trained model built with commented out code"
   ]
  },
  {
   "cell_type": "code",
   "execution_count": 28,
   "metadata": {},
   "outputs": [],
   "source": [
    "w2v_model = h2o.load_model('data/w2v.hex')"
   ]
  },
  {
   "cell_type": "markdown",
   "metadata": {},
   "source": [
    "- Find synonyms for the word 'coffee'"
   ]
  },
  {
   "cell_type": "code",
   "execution_count": 29,
   "metadata": {},
   "outputs": [
    {
     "data": {
      "text/plain": [
       "OrderedDict([('coffe', 0.7971817851066589),\n",
       "             ('coffees', 0.7716221213340759),\n",
       "             ('espresso', 0.7542204260826111),\n",
       "             ('expresso', 0.7467491030693054),\n",
       "             ('brew', 0.7268418669700623)])"
      ]
     },
     "execution_count": 29,
     "metadata": {},
     "output_type": "execute_result"
    }
   ],
   "source": [
    "w2v_model.find_synonyms(\"coffee\", count=5)"
   ]
  },
  {
   "cell_type": "code",
   "execution_count": 30,
   "metadata": {},
   "outputs": [
    {
     "data": {
      "text/plain": [
       "OrderedDict([('rancid', 0.6558939814567566),\n",
       "             ('tasteless', 0.616191029548645),\n",
       "             ('staleness', 0.6071882843971252),\n",
       "             ('moldy', 0.6061089634895325),\n",
       "             ('inedible', 0.5991473197937012),\n",
       "             ('unedible', 0.5878211855888367),\n",
       "             ('smashed', 0.5808124542236328)])"
      ]
     },
     "execution_count": 30,
     "metadata": {},
     "output_type": "execute_result"
    }
   ],
   "source": [
    "w2v_model.find_synonyms(\"stale\", count=7)"
   ]
  },
  {
   "cell_type": "markdown",
   "metadata": {},
   "source": [
    "- Calculate a vector for each review"
   ]
  },
  {
   "cell_type": "code",
   "execution_count": 31,
   "metadata": {},
   "outputs": [
    {
     "data": {
      "text/html": [
       "<table>\n",
       "<thead>\n",
       "<tr><th style=\"text-align: right;\">         C1</th><th style=\"text-align: right;\">         C2</th><th style=\"text-align: right;\">         C3</th><th style=\"text-align: right;\">        C4</th><th style=\"text-align: right;\">         C5</th><th style=\"text-align: right;\">         C6</th><th style=\"text-align: right;\">          C7</th><th style=\"text-align: right;\">        C8</th><th style=\"text-align: right;\">        C9</th><th style=\"text-align: right;\">     C10</th><th style=\"text-align: right;\">        C11</th><th style=\"text-align: right;\">        C12</th><th style=\"text-align: right;\">        C13</th><th style=\"text-align: right;\">       C14</th><th style=\"text-align: right;\">        C15</th><th style=\"text-align: right;\">        C16</th><th style=\"text-align: right;\">      C17</th><th style=\"text-align: right;\">        C18</th><th style=\"text-align: right;\">      C19</th><th style=\"text-align: right;\">        C20</th><th style=\"text-align: right;\">         C21</th><th style=\"text-align: right;\">        C22</th><th style=\"text-align: right;\">       C23</th><th style=\"text-align: right;\">        C24</th><th style=\"text-align: right;\">         C25</th><th style=\"text-align: right;\">        C26</th><th style=\"text-align: right;\">       C27</th><th style=\"text-align: right;\">        C28</th><th style=\"text-align: right;\">       C29</th><th style=\"text-align: right;\">       C30</th><th style=\"text-align: right;\">        C31</th><th style=\"text-align: right;\">        C32</th><th style=\"text-align: right;\">        C33</th><th style=\"text-align: right;\">        C34</th><th style=\"text-align: right;\">      C35</th><th style=\"text-align: right;\">       C36</th><th style=\"text-align: right;\">        C37</th><th style=\"text-align: right;\">       C38</th><th style=\"text-align: right;\">        C39</th><th style=\"text-align: right;\">       C40</th><th style=\"text-align: right;\">        C41</th><th style=\"text-align: right;\">       C42</th><th style=\"text-align: right;\">        C43</th><th style=\"text-align: right;\">         C44</th><th style=\"text-align: right;\">     C45</th><th style=\"text-align: right;\">      C46</th><th style=\"text-align: right;\">         C47</th><th style=\"text-align: right;\">       C48</th><th style=\"text-align: right;\">       C49</th><th style=\"text-align: right;\">       C50</th><th style=\"text-align: right;\">        C51</th><th style=\"text-align: right;\">       C52</th><th style=\"text-align: right;\">        C53</th><th style=\"text-align: right;\">       C54</th><th style=\"text-align: right;\">       C55</th><th style=\"text-align: right;\">       C56</th><th style=\"text-align: right;\">       C57</th><th style=\"text-align: right;\">        C58</th><th style=\"text-align: right;\">       C59</th><th style=\"text-align: right;\">       C60</th><th style=\"text-align: right;\">        C61</th><th style=\"text-align: right;\">        C62</th><th style=\"text-align: right;\">        C63</th><th style=\"text-align: right;\">        C64</th><th style=\"text-align: right;\">       C65</th><th style=\"text-align: right;\">        C66</th><th style=\"text-align: right;\">        C67</th><th style=\"text-align: right;\">       C68</th><th style=\"text-align: right;\">       C69</th><th style=\"text-align: right;\">       C70</th><th style=\"text-align: right;\">        C71</th><th style=\"text-align: right;\">        C72</th><th style=\"text-align: right;\">        C73</th><th style=\"text-align: right;\">      C74</th><th style=\"text-align: right;\">        C75</th><th style=\"text-align: right;\">         C76</th><th style=\"text-align: right;\">       C77</th><th style=\"text-align: right;\">       C78</th><th style=\"text-align: right;\">       C79</th><th style=\"text-align: right;\">      C80</th><th style=\"text-align: right;\">        C81</th><th style=\"text-align: right;\">      C82</th><th style=\"text-align: right;\">       C83</th><th style=\"text-align: right;\">     C84</th><th style=\"text-align: right;\">      C85</th><th style=\"text-align: right;\">      C86</th><th style=\"text-align: right;\">         C87</th><th style=\"text-align: right;\">       C88</th><th style=\"text-align: right;\">        C89</th><th style=\"text-align: right;\">       C90</th><th style=\"text-align: right;\">        C91</th><th style=\"text-align: right;\">        C92</th><th style=\"text-align: right;\">       C93</th><th style=\"text-align: right;\">       C94</th><th style=\"text-align: right;\">        C95</th><th style=\"text-align: right;\">       C96</th><th style=\"text-align: right;\">        C97</th><th style=\"text-align: right;\">       C98</th><th style=\"text-align: right;\">      C99</th><th style=\"text-align: right;\">     C100</th></tr>\n",
       "</thead>\n",
       "<tbody>\n",
       "<tr><td style=\"text-align: right;\"> 0.194685  </td><td style=\"text-align: right;\"> 0.00855027</td><td style=\"text-align: right;\"> 0.0556024 </td><td style=\"text-align: right;\"> 0.0132407</td><td style=\"text-align: right;\">-0.0412942 </td><td style=\"text-align: right;\">-0.0494328 </td><td style=\"text-align: right;\"> 0.110016   </td><td style=\"text-align: right;\"> 0.0748653</td><td style=\"text-align: right;\">-0.0736722</td><td style=\"text-align: right;\">0.264164</td><td style=\"text-align: right;\">-0.00197007</td><td style=\"text-align: right;\">-0.110286  </td><td style=\"text-align: right;\">-0.0680656 </td><td style=\"text-align: right;\">-0.0310144</td><td style=\"text-align: right;\">-0.0648039 </td><td style=\"text-align: right;\"> 0.0899888 </td><td style=\"text-align: right;\">0.0196221</td><td style=\"text-align: right;\"> 0.0874387 </td><td style=\"text-align: right;\">0.0919997</td><td style=\"text-align: right;\">-0.0575128 </td><td style=\"text-align: right;\"> 0.0433614  </td><td style=\"text-align: right;\"> 0.0927071 </td><td style=\"text-align: right;\"> 0.0343757</td><td style=\"text-align: right;\">-0.168186  </td><td style=\"text-align: right;\"> 0.036349   </td><td style=\"text-align: right;\"> 0.101088  </td><td style=\"text-align: right;\"> 0.151522 </td><td style=\"text-align: right;\">-0.0733731 </td><td style=\"text-align: right;\"> 0.0587866</td><td style=\"text-align: right;\"> 0.0373975</td><td style=\"text-align: right;\"> 0.00521516</td><td style=\"text-align: right;\"> 0.0495378 </td><td style=\"text-align: right;\"> 0.121387  </td><td style=\"text-align: right;\">-0.128774  </td><td style=\"text-align: right;\">0.119871 </td><td style=\"text-align: right;\">-0.167793 </td><td style=\"text-align: right;\">-0.142495  </td><td style=\"text-align: right;\"> 0.0160686</td><td style=\"text-align: right;\">-0.0942158 </td><td style=\"text-align: right;\"> 0.0782214</td><td style=\"text-align: right;\"> 0.0924726 </td><td style=\"text-align: right;\">-0.0934786</td><td style=\"text-align: right;\"> 0.00437295</td><td style=\"text-align: right;\">-0.189194   </td><td style=\"text-align: right;\">0.15728 </td><td style=\"text-align: right;\">-0.15877 </td><td style=\"text-align: right;\"> 0.0298581  </td><td style=\"text-align: right;\">-0.0519759</td><td style=\"text-align: right;\">-0.107477 </td><td style=\"text-align: right;\">-0.0115648</td><td style=\"text-align: right;\"> 0.0818877 </td><td style=\"text-align: right;\"> 0.133477 </td><td style=\"text-align: right;\">-0.00474498</td><td style=\"text-align: right;\">-0.0575912</td><td style=\"text-align: right;\">-0.131289 </td><td style=\"text-align: right;\"> 0.048236 </td><td style=\"text-align: right;\">-0.101879 </td><td style=\"text-align: right;\"> 0.128776  </td><td style=\"text-align: right;\"> 0.0607913</td><td style=\"text-align: right;\">0.175643  </td><td style=\"text-align: right;\"> 0.00525741</td><td style=\"text-align: right;\"> 0.0868119 </td><td style=\"text-align: right;\"> 0.0192801 </td><td style=\"text-align: right;\"> 0.0542188 </td><td style=\"text-align: right;\"> 0.0523813</td><td style=\"text-align: right;\"> 0.00845419</td><td style=\"text-align: right;\"> 0.0297346 </td><td style=\"text-align: right;\">-0.144675 </td><td style=\"text-align: right;\">-0.0112719</td><td style=\"text-align: right;\">-0.115776 </td><td style=\"text-align: right;\">-0.0484223 </td><td style=\"text-align: right;\">-0.142405  </td><td style=\"text-align: right;\"> 0.00573513</td><td style=\"text-align: right;\">-0.184002</td><td style=\"text-align: right;\">-0.0616234 </td><td style=\"text-align: right;\"> 0.185523   </td><td style=\"text-align: right;\">-0.0620329</td><td style=\"text-align: right;\"> 0.110071 </td><td style=\"text-align: right;\">-0.150878 </td><td style=\"text-align: right;\">-0.184547</td><td style=\"text-align: right;\"> 0.0779494 </td><td style=\"text-align: right;\">0.257534 </td><td style=\"text-align: right;\"> 0.131887 </td><td style=\"text-align: right;\">0.121781</td><td style=\"text-align: right;\">0.0823335</td><td style=\"text-align: right;\">0.184185 </td><td style=\"text-align: right;\"> 0.0292501  </td><td style=\"text-align: right;\"> 0.10686  </td><td style=\"text-align: right;\">-0.00565672</td><td style=\"text-align: right;\"> 0.124804 </td><td style=\"text-align: right;\"> 0.011544  </td><td style=\"text-align: right;\"> 0.0871907 </td><td style=\"text-align: right;\"> 0.120759 </td><td style=\"text-align: right;\">-0.250487 </td><td style=\"text-align: right;\"> 0.00560116</td><td style=\"text-align: right;\"> 0.0119901</td><td style=\"text-align: right;\"> 0.00419926</td><td style=\"text-align: right;\"> 0.0298412</td><td style=\"text-align: right;\">0.212632 </td><td style=\"text-align: right;\">0.0151299</td></tr>\n",
       "<tr><td style=\"text-align: right;\">-0.0495431 </td><td style=\"text-align: right;\"> 0.23459   </td><td style=\"text-align: right;\">-0.0827007 </td><td style=\"text-align: right;\"> 0.0154918</td><td style=\"text-align: right;\"> 0.118114  </td><td style=\"text-align: right;\">-0.0144093 </td><td style=\"text-align: right;\">-0.0488147  </td><td style=\"text-align: right;\">-0.0588248</td><td style=\"text-align: right;\">-0.0695763</td><td style=\"text-align: right;\">0.282987</td><td style=\"text-align: right;\"> 0.268284  </td><td style=\"text-align: right;\">-0.0815992 </td><td style=\"text-align: right;\">-0.125285  </td><td style=\"text-align: right;\">-0.0521367</td><td style=\"text-align: right;\">-0.133489  </td><td style=\"text-align: right;\">-0.0700413 </td><td style=\"text-align: right;\">0.125722 </td><td style=\"text-align: right;\"> 0.0471023 </td><td style=\"text-align: right;\">0.063242 </td><td style=\"text-align: right;\"> 0.0168585 </td><td style=\"text-align: right;\"> 0.0576769  </td><td style=\"text-align: right;\"> 0.0708625 </td><td style=\"text-align: right;\">-0.071372 </td><td style=\"text-align: right;\">-0.0973553 </td><td style=\"text-align: right;\"> 0.000624424</td><td style=\"text-align: right;\"> 0.00212797</td><td style=\"text-align: right;\"> 0.130798 </td><td style=\"text-align: right;\"> 0.0941267 </td><td style=\"text-align: right;\">-0.0560495</td><td style=\"text-align: right;\">-0.0385939</td><td style=\"text-align: right;\">-0.0913095 </td><td style=\"text-align: right;\"> 0.00962856</td><td style=\"text-align: right;\"> 0.191518  </td><td style=\"text-align: right;\">-0.107817  </td><td style=\"text-align: right;\">0.0183072</td><td style=\"text-align: right;\">-0.0593517</td><td style=\"text-align: right;\">-0.0910883 </td><td style=\"text-align: right;\">-0.092331 </td><td style=\"text-align: right;\"> 0.00750446</td><td style=\"text-align: right;\"> 0.0991813</td><td style=\"text-align: right;\"> 0.0411738 </td><td style=\"text-align: right;\"> 0.0780529</td><td style=\"text-align: right;\">-0.00188153</td><td style=\"text-align: right;\">-0.0343744  </td><td style=\"text-align: right;\">0.250716</td><td style=\"text-align: right;\">-0.116362</td><td style=\"text-align: right;\"> 0.000327063</td><td style=\"text-align: right;\">-0.0399014</td><td style=\"text-align: right;\">-0.0452933</td><td style=\"text-align: right;\">-0.0251108</td><td style=\"text-align: right;\"> 0.104617  </td><td style=\"text-align: right;\"> 0.099187 </td><td style=\"text-align: right;\"> 0.05714   </td><td style=\"text-align: right;\">-0.0210452</td><td style=\"text-align: right;\">-0.136585 </td><td style=\"text-align: right;\"> 0.138266 </td><td style=\"text-align: right;\">-0.0181873</td><td style=\"text-align: right;\"> 0.017753  </td><td style=\"text-align: right;\"> 0.0733662</td><td style=\"text-align: right;\">0.00892384</td><td style=\"text-align: right;\">-0.069907  </td><td style=\"text-align: right;\">-0.0871948 </td><td style=\"text-align: right;\"> 0.0033325 </td><td style=\"text-align: right;\">-0.0299208 </td><td style=\"text-align: right;\"> 0.121225 </td><td style=\"text-align: right;\"> 0.0393036 </td><td style=\"text-align: right;\">-0.106652  </td><td style=\"text-align: right;\">-0.130082 </td><td style=\"text-align: right;\"> 0.0281483</td><td style=\"text-align: right;\">-0.0679737</td><td style=\"text-align: right;\"> 0.095394  </td><td style=\"text-align: right;\">-0.00755478</td><td style=\"text-align: right;\">-0.0526662 </td><td style=\"text-align: right;\">-0.349726</td><td style=\"text-align: right;\"> 0.0678052 </td><td style=\"text-align: right;\"> 0.0661074  </td><td style=\"text-align: right;\">-0.0266488</td><td style=\"text-align: right;\">-0.01971  </td><td style=\"text-align: right;\">-0.008501 </td><td style=\"text-align: right;\">-0.185633</td><td style=\"text-align: right;\">-0.173815  </td><td style=\"text-align: right;\">0.161362 </td><td style=\"text-align: right;\">-0.129495 </td><td style=\"text-align: right;\">0.182093</td><td style=\"text-align: right;\">0.106462 </td><td style=\"text-align: right;\">0.184965 </td><td style=\"text-align: right;\">-0.0963331  </td><td style=\"text-align: right;\"> 0.0469011</td><td style=\"text-align: right;\">-0.128881  </td><td style=\"text-align: right;\"> 0.124043 </td><td style=\"text-align: right;\">-0.0190084 </td><td style=\"text-align: right;\"> 0.177266  </td><td style=\"text-align: right;\">-0.14618  </td><td style=\"text-align: right;\">-0.0408715</td><td style=\"text-align: right;\"> 0.0125225 </td><td style=\"text-align: right;\">-0.0588468</td><td style=\"text-align: right;\">-0.0505257 </td><td style=\"text-align: right;\"> 0.0484574</td><td style=\"text-align: right;\">0.0274838</td><td style=\"text-align: right;\">0.296462 </td></tr>\n",
       "<tr><td style=\"text-align: right;\"> 0.123161  </td><td style=\"text-align: right;\"> 0.0936158 </td><td style=\"text-align: right;\"> 0.0439947 </td><td style=\"text-align: right;\">-0.0151712</td><td style=\"text-align: right;\">-0.0898124 </td><td style=\"text-align: right;\">-0.00271775</td><td style=\"text-align: right;\">-0.000586845</td><td style=\"text-align: right;\">-0.0464319</td><td style=\"text-align: right;\">-0.0616804</td><td style=\"text-align: right;\">0.356449</td><td style=\"text-align: right;\"> 0.0611896 </td><td style=\"text-align: right;\">-0.0555226 </td><td style=\"text-align: right;\">-0.0893314 </td><td style=\"text-align: right;\">-0.06511  </td><td style=\"text-align: right;\"> 0.0159529 </td><td style=\"text-align: right;\"> 0.0564306 </td><td style=\"text-align: right;\">0.0834537</td><td style=\"text-align: right;\">-0.0291296 </td><td style=\"text-align: right;\">0.0540183</td><td style=\"text-align: right;\">-0.0330193 </td><td style=\"text-align: right;\"> 0.000493353</td><td style=\"text-align: right;\"> 0.00640499</td><td style=\"text-align: right;\"> 0.0458041</td><td style=\"text-align: right;\">-0.135951  </td><td style=\"text-align: right;\"> 0.100869   </td><td style=\"text-align: right;\"> 0.143727  </td><td style=\"text-align: right;\"> 0.130937 </td><td style=\"text-align: right;\">-0.0333404 </td><td style=\"text-align: right;\">-0.0878446</td><td style=\"text-align: right;\"> 0.0626354</td><td style=\"text-align: right;\">-0.141847  </td><td style=\"text-align: right;\"> 0.186715  </td><td style=\"text-align: right;\"> 0.0569292 </td><td style=\"text-align: right;\">-0.115842  </td><td style=\"text-align: right;\">0.0843101</td><td style=\"text-align: right;\">-0.12079  </td><td style=\"text-align: right;\">-0.0660873 </td><td style=\"text-align: right;\">-0.0679552</td><td style=\"text-align: right;\">-0.00359153</td><td style=\"text-align: right;\"> 0.171001 </td><td style=\"text-align: right;\"> 0.00265798</td><td style=\"text-align: right;\">-0.110497 </td><td style=\"text-align: right;\">-0.0479786 </td><td style=\"text-align: right;\">-0.0355724  </td><td style=\"text-align: right;\">0.157841</td><td style=\"text-align: right;\">-0.171527</td><td style=\"text-align: right;\"> 0.15094    </td><td style=\"text-align: right;\">-0.0321921</td><td style=\"text-align: right;\">-0.146142 </td><td style=\"text-align: right;\"> 0.104146 </td><td style=\"text-align: right;\"> 0.052199  </td><td style=\"text-align: right;\"> 0.100534 </td><td style=\"text-align: right;\">-0.0409051 </td><td style=\"text-align: right;\"> 0.0987403</td><td style=\"text-align: right;\">-0.0842118</td><td style=\"text-align: right;\"> 0.0706748</td><td style=\"text-align: right;\">-0.092243 </td><td style=\"text-align: right;\">-0.017255  </td><td style=\"text-align: right;\"> 0.131373 </td><td style=\"text-align: right;\">0.0916262 </td><td style=\"text-align: right;\">-0.0156764 </td><td style=\"text-align: right;\">-0.00956439</td><td style=\"text-align: right;\"> 0.0338077 </td><td style=\"text-align: right;\">-0.123931  </td><td style=\"text-align: right;\">-0.059287 </td><td style=\"text-align: right;\"> 0.0283973 </td><td style=\"text-align: right;\">-0.0351617 </td><td style=\"text-align: right;\">-0.26884  </td><td style=\"text-align: right;\">-0.0180109</td><td style=\"text-align: right;\">-0.059145 </td><td style=\"text-align: right;\">-0.0604795 </td><td style=\"text-align: right;\">-0.0779308 </td><td style=\"text-align: right;\"> 0.064337  </td><td style=\"text-align: right;\">-0.271864</td><td style=\"text-align: right;\"> 0.0140648 </td><td style=\"text-align: right;\"> 0.00949462 </td><td style=\"text-align: right;\">-0.027445 </td><td style=\"text-align: right;\"> 0.0794647</td><td style=\"text-align: right;\">-0.12674  </td><td style=\"text-align: right;\">-0.145704</td><td style=\"text-align: right;\">-0.00934821</td><td style=\"text-align: right;\">0.150346 </td><td style=\"text-align: right;\"> 0.0965777</td><td style=\"text-align: right;\">0.252518</td><td style=\"text-align: right;\">0.068929 </td><td style=\"text-align: right;\">0.0254678</td><td style=\"text-align: right;\"> 0.0683798  </td><td style=\"text-align: right;\"> 0.040232 </td><td style=\"text-align: right;\">-0.0694339 </td><td style=\"text-align: right;\">-0.0733179</td><td style=\"text-align: right;\">-0.00590498</td><td style=\"text-align: right;\"> 0.0111069 </td><td style=\"text-align: right;\"> 0.0116357</td><td style=\"text-align: right;\">-0.115146 </td><td style=\"text-align: right;\"> 0.0506123 </td><td style=\"text-align: right;\"> 0.0630426</td><td style=\"text-align: right;\"> 0.0671574 </td><td style=\"text-align: right;\">-0.0931774</td><td style=\"text-align: right;\">0.16515  </td><td style=\"text-align: right;\">0.138782 </td></tr>\n",
       "<tr><td style=\"text-align: right;\"> 0.14612   </td><td style=\"text-align: right;\"> 0.0524715 </td><td style=\"text-align: right;\"> 0.0431809 </td><td style=\"text-align: right;\"> 0.0417458</td><td style=\"text-align: right;\"> 0.0543288 </td><td style=\"text-align: right;\">-0.010907  </td><td style=\"text-align: right;\"> 0.00472547 </td><td style=\"text-align: right;\">-0.0244389</td><td style=\"text-align: right;\">-0.0179625</td><td style=\"text-align: right;\">0.193643</td><td style=\"text-align: right;\">-0.0203781 </td><td style=\"text-align: right;\">-0.00897748</td><td style=\"text-align: right;\">-0.183371  </td><td style=\"text-align: right;\">-0.0736023</td><td style=\"text-align: right;\">-0.0128042 </td><td style=\"text-align: right;\"> 0.00441256</td><td style=\"text-align: right;\">0.173886 </td><td style=\"text-align: right;\"> 0.00884632</td><td style=\"text-align: right;\">0.113344 </td><td style=\"text-align: right;\"> 0.108385  </td><td style=\"text-align: right;\"> 0.0807092  </td><td style=\"text-align: right;\">-0.00601381</td><td style=\"text-align: right;\"> 0.0765061</td><td style=\"text-align: right;\">-0.0862067 </td><td style=\"text-align: right;\">-0.0466725  </td><td style=\"text-align: right;\"> 0.12891   </td><td style=\"text-align: right;\"> 0.1632   </td><td style=\"text-align: right;\">-0.0324472 </td><td style=\"text-align: right;\">-0.203496 </td><td style=\"text-align: right;\">-0.0997903</td><td style=\"text-align: right;\">-0.119647  </td><td style=\"text-align: right;\">-0.00812821</td><td style=\"text-align: right;\">-0.00382883</td><td style=\"text-align: right;\">-0.121207  </td><td style=\"text-align: right;\">0.0461597</td><td style=\"text-align: right;\">-0.0302965</td><td style=\"text-align: right;\">-0.0720886 </td><td style=\"text-align: right;\">-0.0146925</td><td style=\"text-align: right;\">-0.113725  </td><td style=\"text-align: right;\"> 0.146578 </td><td style=\"text-align: right;\"> 0.0528954 </td><td style=\"text-align: right;\">-0.150499 </td><td style=\"text-align: right;\">-0.0290532 </td><td style=\"text-align: right;\"> 0.00109274 </td><td style=\"text-align: right;\">0.207615</td><td style=\"text-align: right;\">-0.141456</td><td style=\"text-align: right;\"> 0.104473   </td><td style=\"text-align: right;\">-0.0312056</td><td style=\"text-align: right;\">-0.12619  </td><td style=\"text-align: right;\"> 0.171685 </td><td style=\"text-align: right;\"> 0.16485   </td><td style=\"text-align: right;\"> 0.0196136</td><td style=\"text-align: right;\">-0.0562701 </td><td style=\"text-align: right;\"> 0.15984  </td><td style=\"text-align: right;\">-0.030217 </td><td style=\"text-align: right;\"> 0.120236 </td><td style=\"text-align: right;\">-0.045398 </td><td style=\"text-align: right;\">-0.0162519 </td><td style=\"text-align: right;\"> 0.0905256</td><td style=\"text-align: right;\">0.0614194 </td><td style=\"text-align: right;\"> 0.00593088</td><td style=\"text-align: right;\"> 0.0238442 </td><td style=\"text-align: right;\">-0.0374093 </td><td style=\"text-align: right;\">-0.0856127 </td><td style=\"text-align: right;\"> 0.045648 </td><td style=\"text-align: right;\">-0.0289346 </td><td style=\"text-align: right;\">-0.0757524 </td><td style=\"text-align: right;\">-0.182248 </td><td style=\"text-align: right;\"> 0.0294315</td><td style=\"text-align: right;\">-0.0391858</td><td style=\"text-align: right;\">-0.00231778</td><td style=\"text-align: right;\">-0.0754288 </td><td style=\"text-align: right;\"> 0.0234743 </td><td style=\"text-align: right;\">-0.246289</td><td style=\"text-align: right;\">-0.0927432 </td><td style=\"text-align: right;\">-0.0310399  </td><td style=\"text-align: right;\">-0.0268521</td><td style=\"text-align: right;\"> 0.0512426</td><td style=\"text-align: right;\">-0.0594166</td><td style=\"text-align: right;\">-0.159005</td><td style=\"text-align: right;\">-0.00721915</td><td style=\"text-align: right;\">0.117746 </td><td style=\"text-align: right;\"> 0.0123043</td><td style=\"text-align: right;\">0.166801</td><td style=\"text-align: right;\">0.0876528</td><td style=\"text-align: right;\">0.0833269</td><td style=\"text-align: right;\"> 0.0310449  </td><td style=\"text-align: right;\"> 0.0436203</td><td style=\"text-align: right;\">-0.0821555 </td><td style=\"text-align: right;\"> 0.061856 </td><td style=\"text-align: right;\"> 0.129903  </td><td style=\"text-align: right;\"> 0.0700438 </td><td style=\"text-align: right;\"> 0.0935956</td><td style=\"text-align: right;\">-0.236333 </td><td style=\"text-align: right;\">-0.0195535 </td><td style=\"text-align: right;\"> 0.0184603</td><td style=\"text-align: right;\"> 0.0198711 </td><td style=\"text-align: right;\">-0.0406759</td><td style=\"text-align: right;\">0.188408 </td><td style=\"text-align: right;\">0.182319 </td></tr>\n",
       "<tr><td style=\"text-align: right;\"> 0.254145  </td><td style=\"text-align: right;\">-0.134374  </td><td style=\"text-align: right;\"> 0.140789  </td><td style=\"text-align: right;\"> 0.0655942</td><td style=\"text-align: right;\"> 0.00539355</td><td style=\"text-align: right;\">-0.0151019 </td><td style=\"text-align: right;\"> 0.0668967  </td><td style=\"text-align: right;\">-0.04774  </td><td style=\"text-align: right;\">-0.0565009</td><td style=\"text-align: right;\">0.20548 </td><td style=\"text-align: right;\"> 0.0261696 </td><td style=\"text-align: right;\">-0.111765  </td><td style=\"text-align: right;\">-0.180419  </td><td style=\"text-align: right;\">-0.0863109</td><td style=\"text-align: right;\">-0.0701929 </td><td style=\"text-align: right;\">-0.0296189 </td><td style=\"text-align: right;\">0.0841487</td><td style=\"text-align: right;\"> 0.0159615 </td><td style=\"text-align: right;\">0.120788 </td><td style=\"text-align: right;\"> 0.00241596</td><td style=\"text-align: right;\"> 0.037769   </td><td style=\"text-align: right;\"> 0.0111138 </td><td style=\"text-align: right;\"> 0.0522634</td><td style=\"text-align: right;\">-0.0667262 </td><td style=\"text-align: right;\"> 3.09557e-05</td><td style=\"text-align: right;\"> 0.0977893 </td><td style=\"text-align: right;\"> 0.0675287</td><td style=\"text-align: right;\">-0.0763069 </td><td style=\"text-align: right;\">-0.0795917</td><td style=\"text-align: right;\"> 0.0349147</td><td style=\"text-align: right;\">-0.155035  </td><td style=\"text-align: right;\"> 0.0727942 </td><td style=\"text-align: right;\"> 0.0862949 </td><td style=\"text-align: right;\">-0.0572659 </td><td style=\"text-align: right;\">0.0792758</td><td style=\"text-align: right;\">-0.0915073</td><td style=\"text-align: right;\">-0.023899  </td><td style=\"text-align: right;\"> 0.0107677</td><td style=\"text-align: right;\">-0.0407832 </td><td style=\"text-align: right;\"> 0.140776 </td><td style=\"text-align: right;\"> 0.122834  </td><td style=\"text-align: right;\">-0.10769  </td><td style=\"text-align: right;\"> 0.00202192</td><td style=\"text-align: right;\">-0.121134   </td><td style=\"text-align: right;\">0.152237</td><td style=\"text-align: right;\">-0.214862</td><td style=\"text-align: right;\"> 0.128661   </td><td style=\"text-align: right;\"> 0.015145 </td><td style=\"text-align: right;\">-0.156069 </td><td style=\"text-align: right;\">-0.0348046</td><td style=\"text-align: right;\"> 0.116424  </td><td style=\"text-align: right;\"> 0.0692989</td><td style=\"text-align: right;\"> 0.00979454</td><td style=\"text-align: right;\"> 0.0423622</td><td style=\"text-align: right;\"> 0.0111532</td><td style=\"text-align: right;\"> 0.0991819</td><td style=\"text-align: right;\">-0.118604 </td><td style=\"text-align: right;\"> 0.0692023 </td><td style=\"text-align: right;\"> 0.0549377</td><td style=\"text-align: right;\">0.145736  </td><td style=\"text-align: right;\">-0.0933383 </td><td style=\"text-align: right;\"> 0.0544956 </td><td style=\"text-align: right;\"> 0.0977888 </td><td style=\"text-align: right;\">-0.0322095 </td><td style=\"text-align: right;\"> 0.0562514</td><td style=\"text-align: right;\"> 0.0319256 </td><td style=\"text-align: right;\"> 0.00696597</td><td style=\"text-align: right;\">-0.1908   </td><td style=\"text-align: right;\">-0.152072 </td><td style=\"text-align: right;\">-0.0501177</td><td style=\"text-align: right;\">-0.0436108 </td><td style=\"text-align: right;\">-0.12917   </td><td style=\"text-align: right;\"> 0.132578  </td><td style=\"text-align: right;\">-0.27941 </td><td style=\"text-align: right;\">-0.0170335 </td><td style=\"text-align: right;\"> 0.0396504  </td><td style=\"text-align: right;\"> 0.0102269</td><td style=\"text-align: right;\"> 0.0407613</td><td style=\"text-align: right;\">-0.0598084</td><td style=\"text-align: right;\">-0.20718 </td><td style=\"text-align: right;\"> 0.0375911 </td><td style=\"text-align: right;\">0.161915 </td><td style=\"text-align: right;\"> 0.0357692</td><td style=\"text-align: right;\">0.232326</td><td style=\"text-align: right;\">0.117649 </td><td style=\"text-align: right;\">0.169927 </td><td style=\"text-align: right;\"> 0.0228395  </td><td style=\"text-align: right;\"> 0.0139473</td><td style=\"text-align: right;\">-0.0107085 </td><td style=\"text-align: right;\"> 0.126737 </td><td style=\"text-align: right;\">-0.00206147</td><td style=\"text-align: right;\"> 0.0311829 </td><td style=\"text-align: right;\"> 0.0215581</td><td style=\"text-align: right;\">-0.17192  </td><td style=\"text-align: right;\"> 0.0152427 </td><td style=\"text-align: right;\">-0.0123384</td><td style=\"text-align: right;\"> 0.0119947 </td><td style=\"text-align: right;\">-0.0628033</td><td style=\"text-align: right;\">0.151769 </td><td style=\"text-align: right;\">0.160376 </td></tr>\n",
       "<tr><td style=\"text-align: right;\"> 0.0836135 </td><td style=\"text-align: right;\"> 0.203382  </td><td style=\"text-align: right;\"> 0.106929  </td><td style=\"text-align: right;\"> 0.166035 </td><td style=\"text-align: right;\">-0.00654494</td><td style=\"text-align: right;\"> 0.00601533</td><td style=\"text-align: right;\">-0.183913   </td><td style=\"text-align: right;\">-0.0310621</td><td style=\"text-align: right;\">-0.106845 </td><td style=\"text-align: right;\">0.350066</td><td style=\"text-align: right;\"> 0.043157  </td><td style=\"text-align: right;\"> 0.0623003 </td><td style=\"text-align: right;\">-0.215469  </td><td style=\"text-align: right;\">-0.097166 </td><td style=\"text-align: right;\"> 0.111144  </td><td style=\"text-align: right;\"> 0.0513372 </td><td style=\"text-align: right;\">0.20039  </td><td style=\"text-align: right;\">-0.00502782</td><td style=\"text-align: right;\">0.204771 </td><td style=\"text-align: right;\"> 0.170368  </td><td style=\"text-align: right;\"> 0.182431   </td><td style=\"text-align: right;\"> 0.189044  </td><td style=\"text-align: right;\"> 0.0754544</td><td style=\"text-align: right;\">-0.0670645 </td><td style=\"text-align: right;\"> 0.027936   </td><td style=\"text-align: right;\"> 0.0385878 </td><td style=\"text-align: right;\"> 0.226582 </td><td style=\"text-align: right;\">-0.0153961 </td><td style=\"text-align: right;\">-0.157681 </td><td style=\"text-align: right;\"> 0.0915453</td><td style=\"text-align: right;\">-0.0417315 </td><td style=\"text-align: right;\"> 0.131674  </td><td style=\"text-align: right;\">-0.0329053 </td><td style=\"text-align: right;\"> 0.0557632 </td><td style=\"text-align: right;\">0.0740235</td><td style=\"text-align: right;\">-0.0746246</td><td style=\"text-align: right;\"> 0.0333153 </td><td style=\"text-align: right;\">-0.0570182</td><td style=\"text-align: right;\">-0.0417877 </td><td style=\"text-align: right;\"> 0.128871 </td><td style=\"text-align: right;\">-0.0477232 </td><td style=\"text-align: right;\"> 0.0360104</td><td style=\"text-align: right;\"> 0.17962   </td><td style=\"text-align: right;\"> 0.000824575</td><td style=\"text-align: right;\">0.118243</td><td style=\"text-align: right;\">-0.211795</td><td style=\"text-align: right;\">-0.0570755  </td><td style=\"text-align: right;\">-0.100358 </td><td style=\"text-align: right;\">-0.0546279</td><td style=\"text-align: right;\">-0.0748237</td><td style=\"text-align: right;\">-0.00338006</td><td style=\"text-align: right;\"> 0.0760191</td><td style=\"text-align: right;\"> 0.0618265 </td><td style=\"text-align: right;\"> 0.127728 </td><td style=\"text-align: right;\">-0.105193 </td><td style=\"text-align: right;\">-0.112888 </td><td style=\"text-align: right;\">-0.208817 </td><td style=\"text-align: right;\"> 0.0685621 </td><td style=\"text-align: right;\"> 0.0256522</td><td style=\"text-align: right;\">0.0415521 </td><td style=\"text-align: right;\"> 0.0979135 </td><td style=\"text-align: right;\"> 0.00766122</td><td style=\"text-align: right;\">-0.00938299</td><td style=\"text-align: right;\">-0.0840731 </td><td style=\"text-align: right;\"> 0.0423861</td><td style=\"text-align: right;\"> 0.01372   </td><td style=\"text-align: right;\">-0.206415  </td><td style=\"text-align: right;\"> 0.0050071</td><td style=\"text-align: right;\"> 0.106771 </td><td style=\"text-align: right;\">-0.0345969</td><td style=\"text-align: right;\">-0.0399128 </td><td style=\"text-align: right;\">-0.00667409</td><td style=\"text-align: right;\"> 0.0469325 </td><td style=\"text-align: right;\">-0.285805</td><td style=\"text-align: right;\"> 0.0105889 </td><td style=\"text-align: right;\">-0.000509513</td><td style=\"text-align: right;\"> 0.0157524</td><td style=\"text-align: right;\">-0.0279473</td><td style=\"text-align: right;\">-0.0412452</td><td style=\"text-align: right;\">-0.119207</td><td style=\"text-align: right;\">-0.122718  </td><td style=\"text-align: right;\">0.076849 </td><td style=\"text-align: right;\">-0.0998011</td><td style=\"text-align: right;\">0.106426</td><td style=\"text-align: right;\">0.173932 </td><td style=\"text-align: right;\">0.165315 </td><td style=\"text-align: right;\"> 0.0069702  </td><td style=\"text-align: right;\"> 0.0431619</td><td style=\"text-align: right;\">-0.045023  </td><td style=\"text-align: right;\"> 0.208896 </td><td style=\"text-align: right;\">-0.130685  </td><td style=\"text-align: right;\"> 0.0666947 </td><td style=\"text-align: right;\">-0.0356542</td><td style=\"text-align: right;\"> 0.0748913</td><td style=\"text-align: right;\">-0.043654  </td><td style=\"text-align: right;\"> 0.0498709</td><td style=\"text-align: right;\"> 0.0136335 </td><td style=\"text-align: right;\">-0.0569185</td><td style=\"text-align: right;\">0.144206 </td><td style=\"text-align: right;\">0.313186 </td></tr>\n",
       "<tr><td style=\"text-align: right;\">-0.0375421 </td><td style=\"text-align: right;\"> 0.236832  </td><td style=\"text-align: right;\">-0.0372894 </td><td style=\"text-align: right;\"> 0.0212675</td><td style=\"text-align: right;\"> 0.139761  </td><td style=\"text-align: right;\">-0.125563  </td><td style=\"text-align: right;\"> 0.0280281  </td><td style=\"text-align: right;\">-0.0524862</td><td style=\"text-align: right;\"> 0.0458796</td><td style=\"text-align: right;\">0.287575</td><td style=\"text-align: right;\"> 0.0735579 </td><td style=\"text-align: right;\"> 0.104527  </td><td style=\"text-align: right;\">-0.00484807</td><td style=\"text-align: right;\">-0.209512 </td><td style=\"text-align: right;\">-0.160985  </td><td style=\"text-align: right;\">-0.0156548 </td><td style=\"text-align: right;\">0.0304814</td><td style=\"text-align: right;\"> 0.110295  </td><td style=\"text-align: right;\">0.26026  </td><td style=\"text-align: right;\"> 0.0443118 </td><td style=\"text-align: right;\"> 0.00383003 </td><td style=\"text-align: right;\"> 0.0755014 </td><td style=\"text-align: right;\">-0.0144068</td><td style=\"text-align: right;\">-0.0546517 </td><td style=\"text-align: right;\">-0.0338643  </td><td style=\"text-align: right;\">-0.0493612 </td><td style=\"text-align: right;\">-0.0323366</td><td style=\"text-align: right;\">-0.00331139</td><td style=\"text-align: right;\">-0.0868464</td><td style=\"text-align: right;\">-0.145731 </td><td style=\"text-align: right;\"> 0.00727658</td><td style=\"text-align: right;\"> 0.0605885 </td><td style=\"text-align: right;\"> 0.163017  </td><td style=\"text-align: right;\"> 0.0315513 </td><td style=\"text-align: right;\">0.0121498</td><td style=\"text-align: right;\">-0.0160249</td><td style=\"text-align: right;\">-0.177904  </td><td style=\"text-align: right;\"> 0.0394294</td><td style=\"text-align: right;\"> 0.00587409</td><td style=\"text-align: right;\"> 0.11019  </td><td style=\"text-align: right;\">-0.0431459 </td><td style=\"text-align: right;\">-0.0908135</td><td style=\"text-align: right;\"> 0.0393684 </td><td style=\"text-align: right;\">-0.105002   </td><td style=\"text-align: right;\">0.191235</td><td style=\"text-align: right;\">-0.25128 </td><td style=\"text-align: right;\">-0.0266     </td><td style=\"text-align: right;\"> 0.0386587</td><td style=\"text-align: right;\">-0.0484598</td><td style=\"text-align: right;\">-0.0440162</td><td style=\"text-align: right;\"> 0.0665941 </td><td style=\"text-align: right;\"> 0.0158098</td><td style=\"text-align: right;\"> 0.0656967 </td><td style=\"text-align: right;\">-0.034178 </td><td style=\"text-align: right;\">-0.073693 </td><td style=\"text-align: right;\"> 0.086104 </td><td style=\"text-align: right;\">-0.0851502</td><td style=\"text-align: right;\"> 0.162284  </td><td style=\"text-align: right;\"> 0.134441 </td><td style=\"text-align: right;\">0.184375  </td><td style=\"text-align: right;\"> 0.125426  </td><td style=\"text-align: right;\"> 0.112476  </td><td style=\"text-align: right;\">-0.00355939</td><td style=\"text-align: right;\"> 0.0748276 </td><td style=\"text-align: right;\"> 0.167649 </td><td style=\"text-align: right;\">-0.0790137 </td><td style=\"text-align: right;\">-0.0893097 </td><td style=\"text-align: right;\">-0.229209 </td><td style=\"text-align: right;\"> 0.0171395</td><td style=\"text-align: right;\">-0.0824526</td><td style=\"text-align: right;\"> 0.0360795 </td><td style=\"text-align: right;\"> 0.0124295 </td><td style=\"text-align: right;\"> 0.096948  </td><td style=\"text-align: right;\">-0.276461</td><td style=\"text-align: right;\">-0.0100252 </td><td style=\"text-align: right;\">-0.148706   </td><td style=\"text-align: right;\">-0.0118351</td><td style=\"text-align: right;\">-0.0694468</td><td style=\"text-align: right;\">-0.165592 </td><td style=\"text-align: right;\">-0.153587</td><td style=\"text-align: right;\"> 0.0037726 </td><td style=\"text-align: right;\">0.11856  </td><td style=\"text-align: right;\">-0.0463893</td><td style=\"text-align: right;\">0.150061</td><td style=\"text-align: right;\">0.0429756</td><td style=\"text-align: right;\">0.241689 </td><td style=\"text-align: right;\"> 0.038578   </td><td style=\"text-align: right;\"> 0.0686517</td><td style=\"text-align: right;\">-0.135743  </td><td style=\"text-align: right;\"> 0.0375994</td><td style=\"text-align: right;\"> 0.0125291 </td><td style=\"text-align: right;\"> 0.0156601 </td><td style=\"text-align: right;\"> 0.122708 </td><td style=\"text-align: right;\">-0.203025 </td><td style=\"text-align: right;\"> 0.0756916 </td><td style=\"text-align: right;\"> 0.0510429</td><td style=\"text-align: right;\">-0.0340039 </td><td style=\"text-align: right;\"> 0.040415 </td><td style=\"text-align: right;\">0.0107571</td><td style=\"text-align: right;\">0.0883064</td></tr>\n",
       "<tr><td style=\"text-align: right;\">-0.00209928</td><td style=\"text-align: right;\"> 0.225991  </td><td style=\"text-align: right;\"> 0.0227804 </td><td style=\"text-align: right;\"> 0.0184654</td><td style=\"text-align: right;\"> 0.0490773 </td><td style=\"text-align: right;\"> 0.00828777</td><td style=\"text-align: right;\">-0.159187   </td><td style=\"text-align: right;\">-0.0294609</td><td style=\"text-align: right;\">-0.103461 </td><td style=\"text-align: right;\">0.324103</td><td style=\"text-align: right;\"> 0.124944  </td><td style=\"text-align: right;\"> 0.149321  </td><td style=\"text-align: right;\">-0.125536  </td><td style=\"text-align: right;\">-0.0256586</td><td style=\"text-align: right;\"> 0.00120041</td><td style=\"text-align: right;\"> 0.036585  </td><td style=\"text-align: right;\">0.19598  </td><td style=\"text-align: right;\">-0.0285662 </td><td style=\"text-align: right;\">0.0920275</td><td style=\"text-align: right;\"> 0.0415447 </td><td style=\"text-align: right;\"> 0.106447   </td><td style=\"text-align: right;\"> 0.0569988 </td><td style=\"text-align: right;\"> 0.0454598</td><td style=\"text-align: right;\">-0.013158  </td><td style=\"text-align: right;\"> 0.00566932 </td><td style=\"text-align: right;\">-0.00657825</td><td style=\"text-align: right;\"> 0.173065 </td><td style=\"text-align: right;\"> 0.0119267 </td><td style=\"text-align: right;\">-0.101336 </td><td style=\"text-align: right;\"> 0.0795607</td><td style=\"text-align: right;\">-0.0359537 </td><td style=\"text-align: right;\"> 0.110396  </td><td style=\"text-align: right;\"> 0.10894   </td><td style=\"text-align: right;\"> 0.0687411 </td><td style=\"text-align: right;\">0.130562 </td><td style=\"text-align: right;\">-0.0719092</td><td style=\"text-align: right;\"> 0.00551798</td><td style=\"text-align: right;\"> 0.0648628</td><td style=\"text-align: right;\"> 0.0105345 </td><td style=\"text-align: right;\"> 0.0751821</td><td style=\"text-align: right;\"> 0.0177315 </td><td style=\"text-align: right;\"> 0.0385035</td><td style=\"text-align: right;\">-0.0447739 </td><td style=\"text-align: right;\">-0.0845438  </td><td style=\"text-align: right;\">0.215734</td><td style=\"text-align: right;\">-0.102612</td><td style=\"text-align: right;\"> 0.0820075  </td><td style=\"text-align: right;\">-0.0331059</td><td style=\"text-align: right;\">-0.06139  </td><td style=\"text-align: right;\"> 0.0112566</td><td style=\"text-align: right;\"> 0.0202164 </td><td style=\"text-align: right;\"> 0.0988544</td><td style=\"text-align: right;\"> 0.0107382 </td><td style=\"text-align: right;\"> 0.115841 </td><td style=\"text-align: right;\">-0.114502 </td><td style=\"text-align: right;\"> 0.0917477</td><td style=\"text-align: right;\">-0.130513 </td><td style=\"text-align: right;\">-0.00573754</td><td style=\"text-align: right;\"> 0.0713106</td><td style=\"text-align: right;\">0.0447046 </td><td style=\"text-align: right;\"> 0.0165164 </td><td style=\"text-align: right;\">-0.0144261 </td><td style=\"text-align: right;\"> 0.0465569 </td><td style=\"text-align: right;\">-0.00256011</td><td style=\"text-align: right;\"> 0.103372 </td><td style=\"text-align: right;\">-0.00117828</td><td style=\"text-align: right;\">-0.102121  </td><td style=\"text-align: right;\">-0.116929 </td><td style=\"text-align: right;\"> 0.037705 </td><td style=\"text-align: right;\">-0.0326784</td><td style=\"text-align: right;\"> 0.0926601 </td><td style=\"text-align: right;\"> 0.0190434 </td><td style=\"text-align: right;\">-0.0228387 </td><td style=\"text-align: right;\">-0.325406</td><td style=\"text-align: right;\"> 0.00745279</td><td style=\"text-align: right;\"> 0.0303921  </td><td style=\"text-align: right;\">-0.0956847</td><td style=\"text-align: right;\"> 0.0907095</td><td style=\"text-align: right;\"> 0.0121245</td><td style=\"text-align: right;\">-0.195825</td><td style=\"text-align: right;\">-0.135705  </td><td style=\"text-align: right;\">0.0545348</td><td style=\"text-align: right;\">-0.0593939</td><td style=\"text-align: right;\">0.163969</td><td style=\"text-align: right;\">0.0690563</td><td style=\"text-align: right;\">0.159569 </td><td style=\"text-align: right;\"> 0.0272049  </td><td style=\"text-align: right;\"> 0.0167297</td><td style=\"text-align: right;\">-0.0991502 </td><td style=\"text-align: right;\"> 0.140851 </td><td style=\"text-align: right;\"> 0.0162778 </td><td style=\"text-align: right;\"> 0.00804626</td><td style=\"text-align: right;\">-0.0884687</td><td style=\"text-align: right;\">-0.0731433</td><td style=\"text-align: right;\">-0.0567195 </td><td style=\"text-align: right;\"> 0.0319434</td><td style=\"text-align: right;\"> 0.0255486 </td><td style=\"text-align: right;\"> 0.0582153</td><td style=\"text-align: right;\">0.132625 </td><td style=\"text-align: right;\">0.226192 </td></tr>\n",
       "<tr><td style=\"text-align: right;\"> 0.158824  </td><td style=\"text-align: right;\"> 0.108986  </td><td style=\"text-align: right;\"> 0.0319159 </td><td style=\"text-align: right;\"> 0.126525 </td><td style=\"text-align: right;\"> 0.00782997</td><td style=\"text-align: right;\">-0.043224  </td><td style=\"text-align: right;\">-0.0771339  </td><td style=\"text-align: right;\"> 0.0283407</td><td style=\"text-align: right;\">-0.156088 </td><td style=\"text-align: right;\">0.354755</td><td style=\"text-align: right;\"> 0.101715  </td><td style=\"text-align: right;\">-0.040486  </td><td style=\"text-align: right;\">-0.169705  </td><td style=\"text-align: right;\">-0.0331467</td><td style=\"text-align: right;\"> 0.119275  </td><td style=\"text-align: right;\"> 0.130924  </td><td style=\"text-align: right;\">0.108665 </td><td style=\"text-align: right;\"> 0.0170982 </td><td style=\"text-align: right;\">0.152474 </td><td style=\"text-align: right;\"> 0.0461033 </td><td style=\"text-align: right;\"> 0.0812999  </td><td style=\"text-align: right;\"> 0.0441662 </td><td style=\"text-align: right;\">-0.011105 </td><td style=\"text-align: right;\">-0.00141511</td><td style=\"text-align: right;\">-0.0178358  </td><td style=\"text-align: right;\"> 0.149706  </td><td style=\"text-align: right;\"> 0.212917 </td><td style=\"text-align: right;\">-0.0987286 </td><td style=\"text-align: right;\">-0.0502952</td><td style=\"text-align: right;\">-0.0429392</td><td style=\"text-align: right;\">-0.0853344 </td><td style=\"text-align: right;\"> 0.103233  </td><td style=\"text-align: right;\"> 0.0308225 </td><td style=\"text-align: right;\">-0.049138  </td><td style=\"text-align: right;\">0.126706 </td><td style=\"text-align: right;\">-0.0416255</td><td style=\"text-align: right;\"> 0.0557183 </td><td style=\"text-align: right;\">-0.0130693</td><td style=\"text-align: right;\">-0.0235094 </td><td style=\"text-align: right;\"> 0.073494 </td><td style=\"text-align: right;\">-0.0488632 </td><td style=\"text-align: right;\">-0.0373474</td><td style=\"text-align: right;\"> 0.0215663 </td><td style=\"text-align: right;\"> 0.0404332  </td><td style=\"text-align: right;\">0.205917</td><td style=\"text-align: right;\">-0.12123 </td><td style=\"text-align: right;\"> 0.0621843  </td><td style=\"text-align: right;\">-0.052987 </td><td style=\"text-align: right;\"> 0.109606 </td><td style=\"text-align: right;\"> 0.0113089</td><td style=\"text-align: right;\"> 0.0484389 </td><td style=\"text-align: right;\"> 0.0998711</td><td style=\"text-align: right;\"> 0.028371  </td><td style=\"text-align: right;\"> 0.0189146</td><td style=\"text-align: right;\">-0.046028 </td><td style=\"text-align: right;\"> 0.0397876</td><td style=\"text-align: right;\">-0.17254  </td><td style=\"text-align: right;\"> 0.0668453 </td><td style=\"text-align: right;\"> 0.0430238</td><td style=\"text-align: right;\">0.095259  </td><td style=\"text-align: right;\">-0.0127526 </td><td style=\"text-align: right;\"> 0.00773457</td><td style=\"text-align: right;\"> 0.0946065 </td><td style=\"text-align: right;\"> 0.00164337</td><td style=\"text-align: right;\"> 0.0337489</td><td style=\"text-align: right;\"> 0.0209072 </td><td style=\"text-align: right;\">-0.126406  </td><td style=\"text-align: right;\">-0.213302 </td><td style=\"text-align: right;\"> 0.0407445</td><td style=\"text-align: right;\">-0.0850854</td><td style=\"text-align: right;\"> 0.0358792 </td><td style=\"text-align: right;\">-0.0418126 </td><td style=\"text-align: right;\">-0.00254144</td><td style=\"text-align: right;\">-0.215434</td><td style=\"text-align: right;\"> 0.0440033 </td><td style=\"text-align: right;\">-0.0298275  </td><td style=\"text-align: right;\"> 0.0440855</td><td style=\"text-align: right;\"> 0.143191 </td><td style=\"text-align: right;\">-0.0689712</td><td style=\"text-align: right;\">-0.202936</td><td style=\"text-align: right;\">-0.0512142 </td><td style=\"text-align: right;\">0.0187143</td><td style=\"text-align: right;\">-0.0154478</td><td style=\"text-align: right;\">0.158663</td><td style=\"text-align: right;\">0.0395345</td><td style=\"text-align: right;\">0.211044 </td><td style=\"text-align: right;\">-0.000763189</td><td style=\"text-align: right;\">-0.0450124</td><td style=\"text-align: right;\">-0.19502   </td><td style=\"text-align: right;\">-0.0131691</td><td style=\"text-align: right;\">-0.0572538 </td><td style=\"text-align: right;\">-0.0479516 </td><td style=\"text-align: right;\"> 0.0156585</td><td style=\"text-align: right;\">-0.117928 </td><td style=\"text-align: right;\">-0.0828716 </td><td style=\"text-align: right;\"> 0.17943  </td><td style=\"text-align: right;\"> 0.0510374 </td><td style=\"text-align: right;\"> 0.0430875</td><td style=\"text-align: right;\">0.187369 </td><td style=\"text-align: right;\">0.242509 </td></tr>\n",
       "<tr><td style=\"text-align: right;\"> 0.135854  </td><td style=\"text-align: right;\"> 0.28657   </td><td style=\"text-align: right;\"> 0.00556625</td><td style=\"text-align: right;\"> 0.270904 </td><td style=\"text-align: right;\">-0.294381  </td><td style=\"text-align: right;\">-0.150912  </td><td style=\"text-align: right;\">-0.41645    </td><td style=\"text-align: right;\">-0.0225053</td><td style=\"text-align: right;\">-0.0507854</td><td style=\"text-align: right;\">0.30415 </td><td style=\"text-align: right;\"> 0.0245135 </td><td style=\"text-align: right;\">-0.037388  </td><td style=\"text-align: right;\">-0.114953  </td><td style=\"text-align: right;\">-0.166215 </td><td style=\"text-align: right;\"> 0.0426393 </td><td style=\"text-align: right;\">-0.0386364 </td><td style=\"text-align: right;\">0.15793  </td><td style=\"text-align: right;\"> 0.227605  </td><td style=\"text-align: right;\">0.294562 </td><td style=\"text-align: right;\"> 0.255906  </td><td style=\"text-align: right;\">-0.0458192  </td><td style=\"text-align: right;\"> 0.0206544 </td><td style=\"text-align: right;\">-0.299348 </td><td style=\"text-align: right;\">-0.0554572 </td><td style=\"text-align: right;\">-0.00705857 </td><td style=\"text-align: right;\">-0.0952011 </td><td style=\"text-align: right;\"> 0.174961 </td><td style=\"text-align: right;\">-0.0511845 </td><td style=\"text-align: right;\"> 0.0214106</td><td style=\"text-align: right;\">-0.11143  </td><td style=\"text-align: right;\">-0.0965701 </td><td style=\"text-align: right;\"> 0.177187  </td><td style=\"text-align: right;\"> 0.0135867 </td><td style=\"text-align: right;\"> 0.00891682</td><td style=\"text-align: right;\">0.156969 </td><td style=\"text-align: right;\">-0.109783 </td><td style=\"text-align: right;\"> 0.236708  </td><td style=\"text-align: right;\">-0.0650591</td><td style=\"text-align: right;\">-0.117192  </td><td style=\"text-align: right;\">-0.118257 </td><td style=\"text-align: right;\">-0.168683  </td><td style=\"text-align: right;\">-0.0569584</td><td style=\"text-align: right;\">-0.141071  </td><td style=\"text-align: right;\">-0.0321239  </td><td style=\"text-align: right;\">0.035251</td><td style=\"text-align: right;\">-0.178331</td><td style=\"text-align: right;\">-0.157198   </td><td style=\"text-align: right;\">-0.113028 </td><td style=\"text-align: right;\"> 0.197721 </td><td style=\"text-align: right;\"> 0.0502793</td><td style=\"text-align: right;\"> 0.312946  </td><td style=\"text-align: right;\">-0.235721 </td><td style=\"text-align: right;\"> 0.0446079 </td><td style=\"text-align: right;\"> 0.224435 </td><td style=\"text-align: right;\">-0.100692 </td><td style=\"text-align: right;\"> 0.189948 </td><td style=\"text-align: right;\">-0.256243 </td><td style=\"text-align: right;\"> 0.127479  </td><td style=\"text-align: right;\">-0.0307827</td><td style=\"text-align: right;\">0.209717  </td><td style=\"text-align: right;\">-0.0170745 </td><td style=\"text-align: right;\"> 0.0159908 </td><td style=\"text-align: right;\"> 0.0725971 </td><td style=\"text-align: right;\">-0.305862  </td><td style=\"text-align: right;\"> 0.160935 </td><td style=\"text-align: right;\">-0.232307  </td><td style=\"text-align: right;\">-0.142445  </td><td style=\"text-align: right;\">-0.185419 </td><td style=\"text-align: right;\">-0.206894 </td><td style=\"text-align: right;\">-0.066013 </td><td style=\"text-align: right;\">-0.0782993 </td><td style=\"text-align: right;\"> 0.40185   </td><td style=\"text-align: right;\">-0.231569  </td><td style=\"text-align: right;\"> 0.040447</td><td style=\"text-align: right;\"> 0.116086  </td><td style=\"text-align: right;\"> 0.2469     </td><td style=\"text-align: right;\">-0.172961 </td><td style=\"text-align: right;\">-0.0116746</td><td style=\"text-align: right;\">-0.15664  </td><td style=\"text-align: right;\">-0.268336</td><td style=\"text-align: right;\">-0.231557  </td><td style=\"text-align: right;\">0.0800824</td><td style=\"text-align: right;\">-0.158939 </td><td style=\"text-align: right;\">0.211021</td><td style=\"text-align: right;\">0.17906  </td><td style=\"text-align: right;\">0.26728  </td><td style=\"text-align: right;\"> 0.136616   </td><td style=\"text-align: right;\">-0.0118166</td><td style=\"text-align: right;\">-0.31289   </td><td style=\"text-align: right;\"> 0.323889 </td><td style=\"text-align: right;\">-0.0124522 </td><td style=\"text-align: right;\"> 0.103558  </td><td style=\"text-align: right;\">-0.107881 </td><td style=\"text-align: right;\"> 0.0994308</td><td style=\"text-align: right;\">-0.353839  </td><td style=\"text-align: right;\">-0.170727 </td><td style=\"text-align: right;\"> 0.155627  </td><td style=\"text-align: right;\"> 0.0762197</td><td style=\"text-align: right;\">0.0397684</td><td style=\"text-align: right;\">0.450695 </td></tr>\n",
       "</tbody>\n",
       "</table>"
      ]
     },
     "metadata": {},
     "output_type": "display_data"
    },
    {
     "data": {
      "text/plain": []
     },
     "execution_count": 31,
     "metadata": {},
     "output_type": "execute_result"
    }
   ],
   "source": [
    "review_vecs = w2v_model.transform(words, aggregate_method=\"AVERAGE\")\n",
    "review_vecs"
   ]
  },
  {
   "cell_type": "code",
   "execution_count": 32,
   "metadata": {},
   "outputs": [],
   "source": [
    "# Add aggregated word embeddings \n",
    "ext_reviews = reviews.cbind(review_vecs)"
   ]
  },
  {
   "cell_type": "code",
   "execution_count": 33,
   "metadata": {},
   "outputs": [
    {
     "data": {
      "text/html": [
       "<table>\n",
       "<thead>\n",
       "<tr><th>ProductId  </th><th>UserId        </th><th>Summary                     </th><th style=\"text-align: right;\">  Score</th><th style=\"text-align: right;\">  HelpfulnessDenominator</th><th style=\"text-align: right;\">    Id</th><th>ProfileName        </th><th style=\"text-align: right;\">  HelpfulnessNumerator</th><th style=\"text-align: right;\">       Time</th><th>Text                                                                                                                                                                                                                                                                                                                                                                            </th><th style=\"text-align: right;\">  PositiveReview</th><th>Train  </th><th style=\"text-align: right;\">        C1</th><th style=\"text-align: right;\">        C2</th><th style=\"text-align: right;\">        C3</th><th style=\"text-align: right;\">        C4</th><th style=\"text-align: right;\">        C5</th><th style=\"text-align: right;\">         C6</th><th style=\"text-align: right;\">          C7</th><th style=\"text-align: right;\">        C8</th><th style=\"text-align: right;\">        C9</th><th style=\"text-align: right;\">     C10</th><th style=\"text-align: right;\">        C11</th><th style=\"text-align: right;\">       C12</th><th style=\"text-align: right;\">       C13</th><th style=\"text-align: right;\">       C14</th><th style=\"text-align: right;\">       C15</th><th style=\"text-align: right;\">       C16</th><th style=\"text-align: right;\">      C17</th><th style=\"text-align: right;\">       C18</th><th style=\"text-align: right;\">      C19</th><th style=\"text-align: right;\">       C20</th><th style=\"text-align: right;\">        C21</th><th style=\"text-align: right;\">       C22</th><th style=\"text-align: right;\">       C23</th><th style=\"text-align: right;\">       C24</th><th style=\"text-align: right;\">        C25</th><th style=\"text-align: right;\">       C26</th><th style=\"text-align: right;\">     C27</th><th style=\"text-align: right;\">       C28</th><th style=\"text-align: right;\">       C29</th><th style=\"text-align: right;\">       C30</th><th style=\"text-align: right;\">        C31</th><th style=\"text-align: right;\">       C32</th><th style=\"text-align: right;\">      C33</th><th style=\"text-align: right;\">      C34</th><th style=\"text-align: right;\">      C35</th><th style=\"text-align: right;\">       C36</th><th style=\"text-align: right;\">       C37</th><th style=\"text-align: right;\">       C38</th><th style=\"text-align: right;\">        C39</th><th style=\"text-align: right;\">      C40</th><th style=\"text-align: right;\">       C41</th><th style=\"text-align: right;\">       C42</th><th style=\"text-align: right;\">        C43</th><th style=\"text-align: right;\">       C44</th><th style=\"text-align: right;\">     C45</th><th style=\"text-align: right;\">      C46</th><th style=\"text-align: right;\">        C47</th><th style=\"text-align: right;\">       C48</th><th style=\"text-align: right;\">       C49</th><th style=\"text-align: right;\">       C50</th><th style=\"text-align: right;\">      C51</th><th style=\"text-align: right;\">     C52</th><th style=\"text-align: right;\">        C53</th><th style=\"text-align: right;\">       C54</th><th style=\"text-align: right;\">       C55</th><th style=\"text-align: right;\">      C56</th><th style=\"text-align: right;\">       C57</th><th style=\"text-align: right;\">      C58</th><th style=\"text-align: right;\">      C59</th><th style=\"text-align: right;\">       C60</th><th style=\"text-align: right;\">        C61</th><th style=\"text-align: right;\">        C62</th><th style=\"text-align: right;\">      C63</th><th style=\"text-align: right;\">       C64</th><th style=\"text-align: right;\">       C65</th><th style=\"text-align: right;\">       C66</th><th style=\"text-align: right;\">       C67</th><th style=\"text-align: right;\">      C68</th><th style=\"text-align: right;\">       C69</th><th style=\"text-align: right;\">       C70</th><th style=\"text-align: right;\">       C71</th><th style=\"text-align: right;\">        C72</th><th style=\"text-align: right;\">        C73</th><th style=\"text-align: right;\">      C74</th><th style=\"text-align: right;\">       C75</th><th style=\"text-align: right;\">       C76</th><th style=\"text-align: right;\">       C77</th><th style=\"text-align: right;\">       C78</th><th style=\"text-align: right;\">      C79</th><th style=\"text-align: right;\">      C80</th><th style=\"text-align: right;\">        C81</th><th style=\"text-align: right;\">     C82</th><th style=\"text-align: right;\">       C83</th><th style=\"text-align: right;\">     C84</th><th style=\"text-align: right;\">      C85</th><th style=\"text-align: right;\">      C86</th><th style=\"text-align: right;\">       C87</th><th style=\"text-align: right;\">      C88</th><th style=\"text-align: right;\">        C89</th><th style=\"text-align: right;\">       C90</th><th style=\"text-align: right;\">        C91</th><th style=\"text-align: right;\">      C92</th><th style=\"text-align: right;\">       C93</th><th style=\"text-align: right;\">       C94</th><th style=\"text-align: right;\">       C95</th><th style=\"text-align: right;\">       C96</th><th style=\"text-align: right;\">        C97</th><th style=\"text-align: right;\">       C98</th><th style=\"text-align: right;\">      C99</th><th style=\"text-align: right;\">     C100</th></tr>\n",
       "</thead>\n",
       "<tbody>\n",
       "<tr><td>B00141QYSQ </td><td>A1YS02UZZGRDCT</td><td>Do Not Buy                  </td><td style=\"text-align: right;\">      1</td><td style=\"text-align: right;\">                       2</td><td style=\"text-align: right;\"> 41471</td><td>Evan Eberhardt     </td><td style=\"text-align: right;\">                     2</td><td style=\"text-align: right;\">1.34836e+09</td><td>These are made in China (do not buy ANY pet food from China).  Dogswell has been using propylene glycol to soften their treats (what are they thinkng?).  Do not purchase or support this company in any way until they clean up their act.  And for whatever reason Amazon doesn't allow returns of this item, so I had to toss mine out.  Bad business all around on this one.</td><td style=\"text-align: right;\">               0</td><td>No     </td><td style=\"text-align: right;\"> 0.194685 </td><td style=\"text-align: right;\">0.00855027</td><td style=\"text-align: right;\"> 0.0556024</td><td style=\"text-align: right;\"> 0.0132407</td><td style=\"text-align: right;\">-0.0412942</td><td style=\"text-align: right;\">-0.0494328 </td><td style=\"text-align: right;\"> 0.110016   </td><td style=\"text-align: right;\"> 0.0748653</td><td style=\"text-align: right;\">-0.0736722</td><td style=\"text-align: right;\">0.264164</td><td style=\"text-align: right;\">-0.00197007</td><td style=\"text-align: right;\">-0.110286 </td><td style=\"text-align: right;\">-0.0680656</td><td style=\"text-align: right;\">-0.0310144</td><td style=\"text-align: right;\">-0.0648039</td><td style=\"text-align: right;\"> 0.0899888</td><td style=\"text-align: right;\">0.0196221</td><td style=\"text-align: right;\"> 0.0874387</td><td style=\"text-align: right;\">0.0919997</td><td style=\"text-align: right;\">-0.0575128</td><td style=\"text-align: right;\">0.0433614  </td><td style=\"text-align: right;\">0.0927071 </td><td style=\"text-align: right;\"> 0.0343757</td><td style=\"text-align: right;\">-0.168186 </td><td style=\"text-align: right;\">0.036349   </td><td style=\"text-align: right;\">0.101088  </td><td style=\"text-align: right;\">0.151522</td><td style=\"text-align: right;\">-0.0733731</td><td style=\"text-align: right;\"> 0.0587866</td><td style=\"text-align: right;\"> 0.0373975</td><td style=\"text-align: right;\"> 0.00521516</td><td style=\"text-align: right;\">0.0495378 </td><td style=\"text-align: right;\">0.121387 </td><td style=\"text-align: right;\">-0.128774</td><td style=\"text-align: right;\">0.119871 </td><td style=\"text-align: right;\">-0.167793 </td><td style=\"text-align: right;\">-0.142495 </td><td style=\"text-align: right;\"> 0.0160686</td><td style=\"text-align: right;\">-0.0942158 </td><td style=\"text-align: right;\">0.0782214</td><td style=\"text-align: right;\">0.0924726 </td><td style=\"text-align: right;\">-0.0934786</td><td style=\"text-align: right;\"> 0.00437295</td><td style=\"text-align: right;\">-0.189194 </td><td style=\"text-align: right;\">0.15728 </td><td style=\"text-align: right;\">-0.15877 </td><td style=\"text-align: right;\">0.0298581  </td><td style=\"text-align: right;\">-0.0519759</td><td style=\"text-align: right;\">-0.107477 </td><td style=\"text-align: right;\">-0.0115648</td><td style=\"text-align: right;\">0.0818877</td><td style=\"text-align: right;\">0.133477</td><td style=\"text-align: right;\">-0.00474498</td><td style=\"text-align: right;\">-0.0575912</td><td style=\"text-align: right;\">-0.131289 </td><td style=\"text-align: right;\">0.048236 </td><td style=\"text-align: right;\">-0.101879 </td><td style=\"text-align: right;\"> 0.128776</td><td style=\"text-align: right;\">0.0607913</td><td style=\"text-align: right;\">0.175643  </td><td style=\"text-align: right;\"> 0.00525741</td><td style=\"text-align: right;\"> 0.0868119 </td><td style=\"text-align: right;\">0.0192801</td><td style=\"text-align: right;\"> 0.0542188</td><td style=\"text-align: right;\"> 0.0523813</td><td style=\"text-align: right;\">0.00845419</td><td style=\"text-align: right;\"> 0.0297346</td><td style=\"text-align: right;\">-0.144675</td><td style=\"text-align: right;\">-0.0112719</td><td style=\"text-align: right;\">-0.115776 </td><td style=\"text-align: right;\">-0.0484223</td><td style=\"text-align: right;\">-0.142405  </td><td style=\"text-align: right;\"> 0.00573513</td><td style=\"text-align: right;\">-0.184002</td><td style=\"text-align: right;\">-0.0616234</td><td style=\"text-align: right;\">0.185523  </td><td style=\"text-align: right;\">-0.0620329</td><td style=\"text-align: right;\"> 0.110071 </td><td style=\"text-align: right;\">-0.150878</td><td style=\"text-align: right;\">-0.184547</td><td style=\"text-align: right;\"> 0.0779494 </td><td style=\"text-align: right;\">0.257534</td><td style=\"text-align: right;\"> 0.131887 </td><td style=\"text-align: right;\">0.121781</td><td style=\"text-align: right;\">0.0823335</td><td style=\"text-align: right;\">0.184185 </td><td style=\"text-align: right;\"> 0.0292501</td><td style=\"text-align: right;\">0.10686  </td><td style=\"text-align: right;\">-0.00565672</td><td style=\"text-align: right;\"> 0.124804 </td><td style=\"text-align: right;\"> 0.011544  </td><td style=\"text-align: right;\">0.0871907</td><td style=\"text-align: right;\"> 0.120759 </td><td style=\"text-align: right;\">-0.250487 </td><td style=\"text-align: right;\">0.00560116</td><td style=\"text-align: right;\"> 0.0119901</td><td style=\"text-align: right;\"> 0.00419926</td><td style=\"text-align: right;\"> 0.0298412</td><td style=\"text-align: right;\">0.212632 </td><td style=\"text-align: right;\">0.0151299</td></tr>\n",
       "<tr><td>B0089SPEO2 </td><td>A3JOYNYL458QHP</td><td>Less lemon and less zing    </td><td style=\"text-align: right;\">      3</td><td style=\"text-align: right;\">                       0</td><td style=\"text-align: right;\"> 28582</td><td>coleridge          </td><td style=\"text-align: right;\">                     0</td><td style=\"text-align: right;\">1.32391e+09</td><td>Everything is ok, except it just isn't as good as it is in the bags.  Just considerably more bland -- less lemon and less zing.  Boring.                                                                                                                                                                                                                                        </td><td style=\"text-align: right;\">               0</td><td>Yes    </td><td style=\"text-align: right;\">-0.0495431</td><td style=\"text-align: right;\">0.23459   </td><td style=\"text-align: right;\">-0.0827007</td><td style=\"text-align: right;\"> 0.0154918</td><td style=\"text-align: right;\"> 0.118114 </td><td style=\"text-align: right;\">-0.0144093 </td><td style=\"text-align: right;\">-0.0488147  </td><td style=\"text-align: right;\">-0.0588248</td><td style=\"text-align: right;\">-0.0695763</td><td style=\"text-align: right;\">0.282987</td><td style=\"text-align: right;\"> 0.268284  </td><td style=\"text-align: right;\">-0.0815992</td><td style=\"text-align: right;\">-0.125285 </td><td style=\"text-align: right;\">-0.0521367</td><td style=\"text-align: right;\">-0.133489 </td><td style=\"text-align: right;\">-0.0700413</td><td style=\"text-align: right;\">0.125722 </td><td style=\"text-align: right;\"> 0.0471023</td><td style=\"text-align: right;\">0.063242 </td><td style=\"text-align: right;\"> 0.0168585</td><td style=\"text-align: right;\">0.0576769  </td><td style=\"text-align: right;\">0.0708625 </td><td style=\"text-align: right;\">-0.071372 </td><td style=\"text-align: right;\">-0.0973553</td><td style=\"text-align: right;\">0.000624424</td><td style=\"text-align: right;\">0.00212797</td><td style=\"text-align: right;\">0.130798</td><td style=\"text-align: right;\"> 0.0941267</td><td style=\"text-align: right;\">-0.0560495</td><td style=\"text-align: right;\">-0.0385939</td><td style=\"text-align: right;\">-0.0913095 </td><td style=\"text-align: right;\">0.00962856</td><td style=\"text-align: right;\">0.191518 </td><td style=\"text-align: right;\">-0.107817</td><td style=\"text-align: right;\">0.0183072</td><td style=\"text-align: right;\">-0.0593517</td><td style=\"text-align: right;\">-0.0910883</td><td style=\"text-align: right;\">-0.092331 </td><td style=\"text-align: right;\"> 0.00750446</td><td style=\"text-align: right;\">0.0991813</td><td style=\"text-align: right;\">0.0411738 </td><td style=\"text-align: right;\"> 0.0780529</td><td style=\"text-align: right;\">-0.00188153</td><td style=\"text-align: right;\">-0.0343744</td><td style=\"text-align: right;\">0.250716</td><td style=\"text-align: right;\">-0.116362</td><td style=\"text-align: right;\">0.000327063</td><td style=\"text-align: right;\">-0.0399014</td><td style=\"text-align: right;\">-0.0452933</td><td style=\"text-align: right;\">-0.0251108</td><td style=\"text-align: right;\">0.104617 </td><td style=\"text-align: right;\">0.099187</td><td style=\"text-align: right;\"> 0.05714   </td><td style=\"text-align: right;\">-0.0210452</td><td style=\"text-align: right;\">-0.136585 </td><td style=\"text-align: right;\">0.138266 </td><td style=\"text-align: right;\">-0.0181873</td><td style=\"text-align: right;\"> 0.017753</td><td style=\"text-align: right;\">0.0733662</td><td style=\"text-align: right;\">0.00892384</td><td style=\"text-align: right;\">-0.069907  </td><td style=\"text-align: right;\">-0.0871948 </td><td style=\"text-align: right;\">0.0033325</td><td style=\"text-align: right;\">-0.0299208</td><td style=\"text-align: right;\"> 0.121225 </td><td style=\"text-align: right;\">0.0393036 </td><td style=\"text-align: right;\">-0.106652 </td><td style=\"text-align: right;\">-0.130082</td><td style=\"text-align: right;\"> 0.0281483</td><td style=\"text-align: right;\">-0.0679737</td><td style=\"text-align: right;\"> 0.095394 </td><td style=\"text-align: right;\">-0.00755478</td><td style=\"text-align: right;\">-0.0526662 </td><td style=\"text-align: right;\">-0.349726</td><td style=\"text-align: right;\"> 0.0678052</td><td style=\"text-align: right;\">0.0661074 </td><td style=\"text-align: right;\">-0.0266488</td><td style=\"text-align: right;\">-0.01971  </td><td style=\"text-align: right;\">-0.008501</td><td style=\"text-align: right;\">-0.185633</td><td style=\"text-align: right;\">-0.173815  </td><td style=\"text-align: right;\">0.161362</td><td style=\"text-align: right;\">-0.129495 </td><td style=\"text-align: right;\">0.182093</td><td style=\"text-align: right;\">0.106462 </td><td style=\"text-align: right;\">0.184965 </td><td style=\"text-align: right;\">-0.0963331</td><td style=\"text-align: right;\">0.0469011</td><td style=\"text-align: right;\">-0.128881  </td><td style=\"text-align: right;\"> 0.124043 </td><td style=\"text-align: right;\">-0.0190084 </td><td style=\"text-align: right;\">0.177266 </td><td style=\"text-align: right;\">-0.14618  </td><td style=\"text-align: right;\">-0.0408715</td><td style=\"text-align: right;\">0.0125225 </td><td style=\"text-align: right;\">-0.0588468</td><td style=\"text-align: right;\">-0.0505257 </td><td style=\"text-align: right;\"> 0.0484574</td><td style=\"text-align: right;\">0.0274838</td><td style=\"text-align: right;\">0.296462 </td></tr>\n",
       "<tr><td>B001PMCDK2 </td><td>A14TTMM0Z03Y2W</td><td>my cat goes crazy for these!</td><td style=\"text-align: right;\">      5</td><td style=\"text-align: right;\">                       0</td><td style=\"text-align: right;\">389965</td><td>Lindsay S. Bradford</td><td style=\"text-align: right;\">                     0</td><td style=\"text-align: right;\">1.3106e+09 </td><td>Best cat treat ever. There isn't anything comparable to the love my cat has for these treats, he snubs away any other kind now.<br />I know he likes to manipulate me with his cattiness but these treats are my way of manipulating him to come sit on my lap and have some chill time. :)                                                                                     </td><td style=\"text-align: right;\">               1</td><td>Yes    </td><td style=\"text-align: right;\"> 0.123161 </td><td style=\"text-align: right;\">0.0936158 </td><td style=\"text-align: right;\"> 0.0439947</td><td style=\"text-align: right;\">-0.0151712</td><td style=\"text-align: right;\">-0.0898124</td><td style=\"text-align: right;\">-0.00271775</td><td style=\"text-align: right;\">-0.000586845</td><td style=\"text-align: right;\">-0.0464319</td><td style=\"text-align: right;\">-0.0616804</td><td style=\"text-align: right;\">0.356449</td><td style=\"text-align: right;\"> 0.0611896 </td><td style=\"text-align: right;\">-0.0555226</td><td style=\"text-align: right;\">-0.0893314</td><td style=\"text-align: right;\">-0.06511  </td><td style=\"text-align: right;\"> 0.0159529</td><td style=\"text-align: right;\"> 0.0564306</td><td style=\"text-align: right;\">0.0834537</td><td style=\"text-align: right;\">-0.0291296</td><td style=\"text-align: right;\">0.0540183</td><td style=\"text-align: right;\">-0.0330193</td><td style=\"text-align: right;\">0.000493353</td><td style=\"text-align: right;\">0.00640499</td><td style=\"text-align: right;\"> 0.0458041</td><td style=\"text-align: right;\">-0.135951 </td><td style=\"text-align: right;\">0.100869   </td><td style=\"text-align: right;\">0.143727  </td><td style=\"text-align: right;\">0.130937</td><td style=\"text-align: right;\">-0.0333404</td><td style=\"text-align: right;\">-0.0878446</td><td style=\"text-align: right;\"> 0.0626354</td><td style=\"text-align: right;\">-0.141847  </td><td style=\"text-align: right;\">0.186715  </td><td style=\"text-align: right;\">0.0569292</td><td style=\"text-align: right;\">-0.115842</td><td style=\"text-align: right;\">0.0843101</td><td style=\"text-align: right;\">-0.12079  </td><td style=\"text-align: right;\">-0.0660873</td><td style=\"text-align: right;\">-0.0679552</td><td style=\"text-align: right;\">-0.00359153</td><td style=\"text-align: right;\">0.171001 </td><td style=\"text-align: right;\">0.00265798</td><td style=\"text-align: right;\">-0.110497 </td><td style=\"text-align: right;\">-0.0479786 </td><td style=\"text-align: right;\">-0.0355724</td><td style=\"text-align: right;\">0.157841</td><td style=\"text-align: right;\">-0.171527</td><td style=\"text-align: right;\">0.15094    </td><td style=\"text-align: right;\">-0.0321921</td><td style=\"text-align: right;\">-0.146142 </td><td style=\"text-align: right;\"> 0.104146 </td><td style=\"text-align: right;\">0.052199 </td><td style=\"text-align: right;\">0.100534</td><td style=\"text-align: right;\">-0.0409051 </td><td style=\"text-align: right;\"> 0.0987403</td><td style=\"text-align: right;\">-0.0842118</td><td style=\"text-align: right;\">0.0706748</td><td style=\"text-align: right;\">-0.092243 </td><td style=\"text-align: right;\">-0.017255</td><td style=\"text-align: right;\">0.131373 </td><td style=\"text-align: right;\">0.0916262 </td><td style=\"text-align: right;\">-0.0156764 </td><td style=\"text-align: right;\">-0.00956439</td><td style=\"text-align: right;\">0.0338077</td><td style=\"text-align: right;\">-0.123931 </td><td style=\"text-align: right;\">-0.059287 </td><td style=\"text-align: right;\">0.0283973 </td><td style=\"text-align: right;\">-0.0351617</td><td style=\"text-align: right;\">-0.26884 </td><td style=\"text-align: right;\">-0.0180109</td><td style=\"text-align: right;\">-0.059145 </td><td style=\"text-align: right;\">-0.0604795</td><td style=\"text-align: right;\">-0.0779308 </td><td style=\"text-align: right;\"> 0.064337  </td><td style=\"text-align: right;\">-0.271864</td><td style=\"text-align: right;\"> 0.0140648</td><td style=\"text-align: right;\">0.00949462</td><td style=\"text-align: right;\">-0.027445 </td><td style=\"text-align: right;\"> 0.0794647</td><td style=\"text-align: right;\">-0.12674 </td><td style=\"text-align: right;\">-0.145704</td><td style=\"text-align: right;\">-0.00934821</td><td style=\"text-align: right;\">0.150346</td><td style=\"text-align: right;\"> 0.0965777</td><td style=\"text-align: right;\">0.252518</td><td style=\"text-align: right;\">0.068929 </td><td style=\"text-align: right;\">0.0254678</td><td style=\"text-align: right;\"> 0.0683798</td><td style=\"text-align: right;\">0.040232 </td><td style=\"text-align: right;\">-0.0694339 </td><td style=\"text-align: right;\">-0.0733179</td><td style=\"text-align: right;\">-0.00590498</td><td style=\"text-align: right;\">0.0111069</td><td style=\"text-align: right;\"> 0.0116357</td><td style=\"text-align: right;\">-0.115146 </td><td style=\"text-align: right;\">0.0506123 </td><td style=\"text-align: right;\"> 0.0630426</td><td style=\"text-align: right;\"> 0.0671574 </td><td style=\"text-align: right;\">-0.0931774</td><td style=\"text-align: right;\">0.16515  </td><td style=\"text-align: right;\">0.138782 </td></tr>\n",
       "</tbody>\n",
       "</table>"
      ]
     },
     "metadata": {},
     "output_type": "display_data"
    },
    {
     "data": {
      "text/plain": []
     },
     "execution_count": 33,
     "metadata": {},
     "output_type": "execute_result"
    }
   ],
   "source": [
    "ext_reviews.head(3)"
   ]
  },
  {
   "cell_type": "markdown",
   "metadata": {},
   "source": [
    "### 5. Train GBM Model to Predict Good Review"
   ]
  },
  {
   "cell_type": "markdown",
   "metadata": {},
   "source": [
    "- Train a GBM model with the same parameters as our baseline gbm. This time, however, we will add the aggregated word embeddings as predictors."
   ]
  },
  {
   "cell_type": "code",
   "execution_count": 34,
   "metadata": {},
   "outputs": [],
   "source": [
    "ext_train = ext_reviews[ext_reviews['Train']=='Yes']\n",
    "ext_test = ext_reviews[ext_reviews['Train']=='No']"
   ]
  },
  {
   "cell_type": "code",
   "execution_count": 35,
   "metadata": {},
   "outputs": [
    {
     "data": {
      "text/plain": [
       "['ProductId',\n",
       " 'UserId',\n",
       " 'HelpfulnessNumerator',\n",
       " 'HelpfulnessDenominator',\n",
       " 'Time']"
      ]
     },
     "execution_count": 35,
     "metadata": {},
     "output_type": "execute_result"
    }
   ],
   "source": [
    "predictors"
   ]
  },
  {
   "cell_type": "code",
   "execution_count": 36,
   "metadata": {},
   "outputs": [
    {
     "data": {
      "text/plain": [
       "['ProductId',\n",
       " 'UserId',\n",
       " 'HelpfulnessNumerator',\n",
       " 'HelpfulnessDenominator',\n",
       " 'Time']"
      ]
     },
     "execution_count": 36,
     "metadata": {},
     "output_type": "execute_result"
    }
   ],
   "source": [
    "predictors = ['ProductId', 'UserId', 'HelpfulnessNumerator', 'HelpfulnessDenominator', 'Time']\n",
    "response = 'PositiveReview'\n",
    "predictors"
   ]
  },
  {
   "cell_type": "code",
   "execution_count": 37,
   "metadata": {},
   "outputs": [
    {
     "name": "stdout",
     "output_type": "stream",
     "text": [
      "gbm Model Build progress: |███████████████████████████████████████████████| 100%\n"
     ]
    }
   ],
   "source": [
    "gbm_embeddings = H2OGradientBoostingEstimator(stopping_metric = \"AUC\", stopping_tolerance = 0.001,\n",
    "                                              stopping_rounds = 5, score_tree_interval = 10,\n",
    "                                              model_id = \"gbm_embeddings.hex\")\n",
    "gbm_embeddings.train(x = predictors,\n",
    "                    y = response,\n",
    "                    training_frame = ext_train,\n",
    "                    validation_frame = ext_test)"
   ]
  },
  {
   "cell_type": "code",
   "execution_count": 38,
   "metadata": {},
   "outputs": [
    {
     "name": "stdout",
     "output_type": "stream",
     "text": [
      "Baseline AUC: 0.595\n",
      "With Embeddings AUC: 0.595\n"
     ]
    }
   ],
   "source": [
    "print(\"Baseline AUC: \" + str(round(gbm_baseline.auc(valid = True), 3)))\n",
    "print(\"With Embeddings AUC: \" + str(round(gbm_embeddings.auc(valid = True), 3)))"
   ]
  },
  {
   "cell_type": "code",
   "execution_count": 39,
   "metadata": {
    "scrolled": true
   },
   "outputs": [
    {
     "name": "stdout",
     "output_type": "stream",
     "text": [
      "Confusion Matrix (Act/Pred) for max f1 @ threshold = 0.48181784133938027: \n"
     ]
    },
    {
     "data": {
      "text/html": [
       "<div style=\"overflow:auto\"><table style=\"width:50%\"><tr><td><b></b></td>\n",
       "<td><b>0</b></td>\n",
       "<td><b>1</b></td>\n",
       "<td><b>Error</b></td>\n",
       "<td><b>Rate</b></td></tr>\n",
       "<tr><td>0</td>\n",
       "<td>640.0</td>\n",
       "<td>3572.0</td>\n",
       "<td>0.8481</td>\n",
       "<td> (3572.0/4212.0)</td></tr>\n",
       "<tr><td>1</td>\n",
       "<td>237.0</td>\n",
       "<td>6703.0</td>\n",
       "<td>0.0341</td>\n",
       "<td> (237.0/6940.0)</td></tr>\n",
       "<tr><td>Total</td>\n",
       "<td>877.0</td>\n",
       "<td>10275.0</td>\n",
       "<td>0.3416</td>\n",
       "<td> (3809.0/11152.0)</td></tr></table></div>"
      ],
      "text/plain": [
       "       0    1      Error    Rate\n",
       "-----  ---  -----  -------  ----------------\n",
       "0      640  3572   0.8481   (3572.0/4212.0)\n",
       "1      237  6703   0.0341   (237.0/6940.0)\n",
       "Total  877  10275  0.3416   (3809.0/11152.0)"
      ]
     },
     "metadata": {},
     "output_type": "display_data"
    },
    {
     "data": {
      "text/plain": []
     },
     "execution_count": 39,
     "metadata": {},
     "output_type": "execute_result"
    }
   ],
   "source": [
    "gbm_embeddings.confusion_matrix(valid = True)"
   ]
  },
  {
   "cell_type": "code",
   "execution_count": 40,
   "metadata": {},
   "outputs": [
    {
     "data": {
      "text/plain": [
       "{'train': 0.167988645532125, 'valid': 0.04741187777451328}"
      ]
     },
     "execution_count": 40,
     "metadata": {},
     "output_type": "execute_result"
    }
   ],
   "source": [
    "gbm_embeddings.r2(train=True, valid=True)"
   ]
  },
  {
   "cell_type": "markdown",
   "metadata": {},
   "source": [
    "### 6. Add summary column-GradientBoosting:\n",
    "- Review column is not the only column with text, another column 'summary' which summarizes the review.  \n",
    "- Add 'Summary' to check if this improves the model."
   ]
  },
  {
   "cell_type": "code",
   "execution_count": 41,
   "metadata": {},
   "outputs": [],
   "source": [
    "# Break summaries into sequence of word.\n",
    "summary_words = tokenize(reviews['Summary'].ascharacter())"
   ]
  },
  {
   "cell_type": "markdown",
   "metadata": {},
   "source": [
    "- Add aggregated summary word embeddings:"
   ]
  },
  {
   "cell_type": "code",
   "execution_count": 42,
   "metadata": {},
   "outputs": [],
   "source": [
    "summary_vecs = w2v_model.transform(summary_words, aggregate_method='AVERAGE')\n",
    "summary_vecs.names = ['summary_'+ s for s in summary_vecs.names]\n",
    "\n",
    "ext_reviews = ext_reviews.cbind(summary_vecs)"
   ]
  },
  {
   "cell_type": "code",
   "execution_count": 43,
   "metadata": {},
   "outputs": [],
   "source": [
    "ext_train = ext_reviews[ext_reviews['Train']=='Yes']\n",
    "ext_test = ext_reviews[ext_reviews['Train']=='No']"
   ]
  },
  {
   "cell_type": "code",
   "execution_count": 44,
   "metadata": {
    "scrolled": true
   },
   "outputs": [
    {
     "data": {
      "text/html": [
       "<table>\n",
       "<thead>\n",
       "<tr><th>ProductId  </th><th>UserId        </th><th>Summary                               </th><th style=\"text-align: right;\">  Score</th><th style=\"text-align: right;\">  HelpfulnessDenominator</th><th style=\"text-align: right;\">    Id</th><th>ProfileName        </th><th style=\"text-align: right;\">  HelpfulnessNumerator</th><th style=\"text-align: right;\">       Time</th><th>Text                                                                                                                                                                                                                                                                                       </th><th style=\"text-align: right;\">  PositiveReview</th><th>Train  </th><th style=\"text-align: right;\">        C1</th><th style=\"text-align: right;\">       C2</th><th style=\"text-align: right;\">        C3</th><th style=\"text-align: right;\">        C4</th><th style=\"text-align: right;\">        C5</th><th style=\"text-align: right;\">         C6</th><th style=\"text-align: right;\">          C7</th><th style=\"text-align: right;\">        C8</th><th style=\"text-align: right;\">        C9</th><th style=\"text-align: right;\">     C10</th><th style=\"text-align: right;\">       C11</th><th style=\"text-align: right;\">        C12</th><th style=\"text-align: right;\">       C13</th><th style=\"text-align: right;\">       C14</th><th style=\"text-align: right;\">       C15</th><th style=\"text-align: right;\">        C16</th><th style=\"text-align: right;\">      C17</th><th style=\"text-align: right;\">        C18</th><th style=\"text-align: right;\">      C19</th><th style=\"text-align: right;\">       C20</th><th style=\"text-align: right;\">        C21</th><th style=\"text-align: right;\">        C22</th><th style=\"text-align: right;\">       C23</th><th style=\"text-align: right;\">       C24</th><th style=\"text-align: right;\">         C25</th><th style=\"text-align: right;\">       C26</th><th style=\"text-align: right;\">     C27</th><th style=\"text-align: right;\">       C28</th><th style=\"text-align: right;\">       C29</th><th style=\"text-align: right;\">       C30</th><th style=\"text-align: right;\">       C31</th><th style=\"text-align: right;\">        C32</th><th style=\"text-align: right;\">        C33</th><th style=\"text-align: right;\">      C34</th><th style=\"text-align: right;\">      C35</th><th style=\"text-align: right;\">       C36</th><th style=\"text-align: right;\">       C37</th><th style=\"text-align: right;\">       C38</th><th style=\"text-align: right;\">        C39</th><th style=\"text-align: right;\">      C40</th><th style=\"text-align: right;\">       C41</th><th style=\"text-align: right;\">       C42</th><th style=\"text-align: right;\">        C43</th><th style=\"text-align: right;\">        C44</th><th style=\"text-align: right;\">     C45</th><th style=\"text-align: right;\">      C46</th><th style=\"text-align: right;\">        C47</th><th style=\"text-align: right;\">       C48</th><th style=\"text-align: right;\">       C49</th><th style=\"text-align: right;\">       C50</th><th style=\"text-align: right;\">     C51</th><th style=\"text-align: right;\">      C52</th><th style=\"text-align: right;\">       C53</th><th style=\"text-align: right;\">       C54</th><th style=\"text-align: right;\">       C55</th><th style=\"text-align: right;\">      C56</th><th style=\"text-align: right;\">       C57</th><th style=\"text-align: right;\">       C58</th><th style=\"text-align: right;\">      C59</th><th style=\"text-align: right;\">       C60</th><th style=\"text-align: right;\">        C61</th><th style=\"text-align: right;\">        C62</th><th style=\"text-align: right;\">       C63</th><th style=\"text-align: right;\">       C64</th><th style=\"text-align: right;\">      C65</th><th style=\"text-align: right;\">       C66</th><th style=\"text-align: right;\">       C67</th><th style=\"text-align: right;\">      C68</th><th style=\"text-align: right;\">       C69</th><th style=\"text-align: right;\">       C70</th><th style=\"text-align: right;\">        C71</th><th style=\"text-align: right;\">        C72</th><th style=\"text-align: right;\">       C73</th><th style=\"text-align: right;\">      C74</th><th style=\"text-align: right;\">       C75</th><th style=\"text-align: right;\">        C76</th><th style=\"text-align: right;\">       C77</th><th style=\"text-align: right;\">       C78</th><th style=\"text-align: right;\">       C79</th><th style=\"text-align: right;\">      C80</th><th style=\"text-align: right;\">        C81</th><th style=\"text-align: right;\">     C82</th><th style=\"text-align: right;\">       C83</th><th style=\"text-align: right;\">     C84</th><th style=\"text-align: right;\">      C85</th><th style=\"text-align: right;\">      C86</th><th style=\"text-align: right;\">       C87</th><th style=\"text-align: right;\">      C88</th><th style=\"text-align: right;\">       C89</th><th style=\"text-align: right;\">       C90</th><th style=\"text-align: right;\">        C91</th><th style=\"text-align: right;\">      C92</th><th style=\"text-align: right;\">       C93</th><th style=\"text-align: right;\">       C94</th><th style=\"text-align: right;\">       C95</th><th style=\"text-align: right;\">       C96</th><th style=\"text-align: right;\">       C97</th><th style=\"text-align: right;\">       C98</th><th style=\"text-align: right;\">      C99</th><th style=\"text-align: right;\">    C100</th><th style=\"text-align: right;\">  summary_C1</th><th style=\"text-align: right;\">  summary_C2</th><th style=\"text-align: right;\">  summary_C3</th><th style=\"text-align: right;\">  summary_C4</th><th style=\"text-align: right;\">  summary_C5</th><th style=\"text-align: right;\">  summary_C6</th><th style=\"text-align: right;\">  summary_C7</th><th style=\"text-align: right;\">  summary_C8</th><th style=\"text-align: right;\">  summary_C9</th><th style=\"text-align: right;\">  summary_C10</th><th style=\"text-align: right;\">  summary_C11</th><th style=\"text-align: right;\">  summary_C12</th><th style=\"text-align: right;\">  summary_C13</th><th style=\"text-align: right;\">  summary_C14</th><th style=\"text-align: right;\">  summary_C15</th><th style=\"text-align: right;\">  summary_C16</th><th style=\"text-align: right;\">  summary_C17</th><th style=\"text-align: right;\">  summary_C18</th><th style=\"text-align: right;\">  summary_C19</th><th style=\"text-align: right;\">  summary_C20</th><th style=\"text-align: right;\">  summary_C21</th><th style=\"text-align: right;\">  summary_C22</th><th style=\"text-align: right;\">  summary_C23</th><th style=\"text-align: right;\">  summary_C24</th><th style=\"text-align: right;\">  summary_C25</th><th style=\"text-align: right;\">  summary_C26</th><th style=\"text-align: right;\">  summary_C27</th><th style=\"text-align: right;\">  summary_C28</th><th style=\"text-align: right;\">  summary_C29</th><th style=\"text-align: right;\">  summary_C30</th><th style=\"text-align: right;\">  summary_C31</th><th style=\"text-align: right;\">  summary_C32</th><th style=\"text-align: right;\">  summary_C33</th><th style=\"text-align: right;\">  summary_C34</th><th style=\"text-align: right;\">  summary_C35</th><th style=\"text-align: right;\">  summary_C36</th><th style=\"text-align: right;\">  summary_C37</th><th style=\"text-align: right;\">  summary_C38</th><th style=\"text-align: right;\">  summary_C39</th><th style=\"text-align: right;\">  summary_C40</th><th style=\"text-align: right;\">  summary_C41</th><th style=\"text-align: right;\">  summary_C42</th><th style=\"text-align: right;\">  summary_C43</th><th style=\"text-align: right;\">  summary_C44</th><th style=\"text-align: right;\">  summary_C45</th><th style=\"text-align: right;\">  summary_C46</th><th style=\"text-align: right;\">  summary_C47</th><th style=\"text-align: right;\">  summary_C48</th><th style=\"text-align: right;\">  summary_C49</th><th style=\"text-align: right;\">  summary_C50</th><th style=\"text-align: right;\">  summary_C51</th><th style=\"text-align: right;\">  summary_C52</th><th style=\"text-align: right;\">  summary_C53</th><th style=\"text-align: right;\">  summary_C54</th><th style=\"text-align: right;\">  summary_C55</th><th style=\"text-align: right;\">  summary_C56</th><th style=\"text-align: right;\">  summary_C57</th><th style=\"text-align: right;\">  summary_C58</th><th style=\"text-align: right;\">  summary_C59</th><th style=\"text-align: right;\">  summary_C60</th><th style=\"text-align: right;\">  summary_C61</th><th style=\"text-align: right;\">  summary_C62</th><th style=\"text-align: right;\">  summary_C63</th><th style=\"text-align: right;\">  summary_C64</th><th style=\"text-align: right;\">  summary_C65</th><th style=\"text-align: right;\">  summary_C66</th><th style=\"text-align: right;\">  summary_C67</th><th style=\"text-align: right;\">  summary_C68</th><th style=\"text-align: right;\">  summary_C69</th><th style=\"text-align: right;\">  summary_C70</th><th style=\"text-align: right;\">  summary_C71</th><th style=\"text-align: right;\">  summary_C72</th><th style=\"text-align: right;\">  summary_C73</th><th style=\"text-align: right;\">  summary_C74</th><th style=\"text-align: right;\">  summary_C75</th><th style=\"text-align: right;\">  summary_C76</th><th style=\"text-align: right;\">  summary_C77</th><th style=\"text-align: right;\">  summary_C78</th><th style=\"text-align: right;\">  summary_C79</th><th style=\"text-align: right;\">  summary_C80</th><th style=\"text-align: right;\">  summary_C81</th><th style=\"text-align: right;\">  summary_C82</th><th style=\"text-align: right;\">  summary_C83</th><th style=\"text-align: right;\">  summary_C84</th><th style=\"text-align: right;\">  summary_C85</th><th style=\"text-align: right;\">  summary_C86</th><th style=\"text-align: right;\">  summary_C87</th><th style=\"text-align: right;\">  summary_C88</th></tr>\n",
       "</thead>\n",
       "<tbody>\n",
       "<tr><td>B0089SPEO2 </td><td>A3JOYNYL458QHP</td><td>Less lemon and less zing              </td><td style=\"text-align: right;\">      3</td><td style=\"text-align: right;\">                       0</td><td style=\"text-align: right;\"> 28582</td><td>coleridge          </td><td style=\"text-align: right;\">                     0</td><td style=\"text-align: right;\">1.32391e+09</td><td>Everything is ok, except it just isn't as good as it is in the bags.  Just considerably more bland -- less lemon and less zing.  Boring.                                                                                                                                                   </td><td style=\"text-align: right;\">               0</td><td>Yes    </td><td style=\"text-align: right;\">-0.0495431</td><td style=\"text-align: right;\">0.23459  </td><td style=\"text-align: right;\">-0.0827007</td><td style=\"text-align: right;\"> 0.0154918</td><td style=\"text-align: right;\"> 0.118114 </td><td style=\"text-align: right;\">-0.0144093 </td><td style=\"text-align: right;\">-0.0488147  </td><td style=\"text-align: right;\">-0.0588248</td><td style=\"text-align: right;\">-0.0695763</td><td style=\"text-align: right;\">0.282987</td><td style=\"text-align: right;\"> 0.268284 </td><td style=\"text-align: right;\">-0.0815992 </td><td style=\"text-align: right;\">-0.125285 </td><td style=\"text-align: right;\">-0.0521367</td><td style=\"text-align: right;\">-0.133489 </td><td style=\"text-align: right;\">-0.0700413 </td><td style=\"text-align: right;\">0.125722 </td><td style=\"text-align: right;\"> 0.0471023 </td><td style=\"text-align: right;\">0.063242 </td><td style=\"text-align: right;\"> 0.0168585</td><td style=\"text-align: right;\">0.0576769  </td><td style=\"text-align: right;\"> 0.0708625 </td><td style=\"text-align: right;\">-0.071372 </td><td style=\"text-align: right;\">-0.0973553</td><td style=\"text-align: right;\"> 0.000624424</td><td style=\"text-align: right;\">0.00212797</td><td style=\"text-align: right;\">0.130798</td><td style=\"text-align: right;\"> 0.0941267</td><td style=\"text-align: right;\">-0.0560495</td><td style=\"text-align: right;\">-0.0385939</td><td style=\"text-align: right;\">-0.0913095</td><td style=\"text-align: right;\"> 0.00962856</td><td style=\"text-align: right;\"> 0.191518  </td><td style=\"text-align: right;\">-0.107817</td><td style=\"text-align: right;\">0.0183072</td><td style=\"text-align: right;\">-0.0593517</td><td style=\"text-align: right;\">-0.0910883</td><td style=\"text-align: right;\">-0.092331 </td><td style=\"text-align: right;\"> 0.00750446</td><td style=\"text-align: right;\">0.0991813</td><td style=\"text-align: right;\">0.0411738 </td><td style=\"text-align: right;\"> 0.0780529</td><td style=\"text-align: right;\">-0.00188153</td><td style=\"text-align: right;\">-0.0343744 </td><td style=\"text-align: right;\">0.250716</td><td style=\"text-align: right;\">-0.116362</td><td style=\"text-align: right;\">0.000327063</td><td style=\"text-align: right;\">-0.0399014</td><td style=\"text-align: right;\">-0.0452933</td><td style=\"text-align: right;\">-0.0251108</td><td style=\"text-align: right;\">0.104617</td><td style=\"text-align: right;\">0.099187 </td><td style=\"text-align: right;\"> 0.05714  </td><td style=\"text-align: right;\">-0.0210452</td><td style=\"text-align: right;\">-0.136585 </td><td style=\"text-align: right;\">0.138266 </td><td style=\"text-align: right;\">-0.0181873</td><td style=\"text-align: right;\"> 0.017753 </td><td style=\"text-align: right;\">0.0733662</td><td style=\"text-align: right;\">0.00892384</td><td style=\"text-align: right;\">-0.069907  </td><td style=\"text-align: right;\">-0.0871948 </td><td style=\"text-align: right;\"> 0.0033325</td><td style=\"text-align: right;\">-0.0299208</td><td style=\"text-align: right;\"> 0.121225</td><td style=\"text-align: right;\"> 0.0393036</td><td style=\"text-align: right;\">-0.106652 </td><td style=\"text-align: right;\">-0.130082</td><td style=\"text-align: right;\"> 0.0281483</td><td style=\"text-align: right;\">-0.0679737</td><td style=\"text-align: right;\"> 0.095394  </td><td style=\"text-align: right;\">-0.00755478</td><td style=\"text-align: right;\">-0.0526662</td><td style=\"text-align: right;\">-0.349726</td><td style=\"text-align: right;\"> 0.0678052</td><td style=\"text-align: right;\"> 0.0661074 </td><td style=\"text-align: right;\">-0.0266488</td><td style=\"text-align: right;\">-0.01971  </td><td style=\"text-align: right;\">-0.008501 </td><td style=\"text-align: right;\">-0.185633</td><td style=\"text-align: right;\">-0.173815  </td><td style=\"text-align: right;\">0.161362</td><td style=\"text-align: right;\">-0.129495 </td><td style=\"text-align: right;\">0.182093</td><td style=\"text-align: right;\">0.106462 </td><td style=\"text-align: right;\">0.184965 </td><td style=\"text-align: right;\">-0.0963331</td><td style=\"text-align: right;\">0.0469011</td><td style=\"text-align: right;\">-0.128881 </td><td style=\"text-align: right;\"> 0.124043 </td><td style=\"text-align: right;\">-0.0190084 </td><td style=\"text-align: right;\">0.177266 </td><td style=\"text-align: right;\">-0.14618  </td><td style=\"text-align: right;\">-0.0408715</td><td style=\"text-align: right;\"> 0.0125225</td><td style=\"text-align: right;\">-0.0588468</td><td style=\"text-align: right;\">-0.0505257</td><td style=\"text-align: right;\"> 0.0484574</td><td style=\"text-align: right;\">0.0274838</td><td style=\"text-align: right;\">0.296462</td><td style=\"text-align: right;\">   -0.192725</td><td style=\"text-align: right;\">   0.31063  </td><td style=\"text-align: right;\">  -0.0838579</td><td style=\"text-align: right;\">-0.0416888  </td><td style=\"text-align: right;\">   0.212666 </td><td style=\"text-align: right;\"> -0.161145  </td><td style=\"text-align: right;\">   0.0205124</td><td style=\"text-align: right;\">   0.0612359</td><td style=\"text-align: right;\">  -0.0975371</td><td style=\"text-align: right;\">     0.22784 </td><td style=\"text-align: right;\">    0.365938 </td><td style=\"text-align: right;\">    -0.070133</td><td style=\"text-align: right;\">   -0.181795 </td><td style=\"text-align: right;\">   -0.0934692</td><td style=\"text-align: right;\">    -0.124666</td><td style=\"text-align: right;\">   -0.169826 </td><td style=\"text-align: right;\">    0.0634467</td><td style=\"text-align: right;\">   -0.0430966</td><td style=\"text-align: right;\"> -0.0318442  </td><td style=\"text-align: right;\">   -0.0279678</td><td style=\"text-align: right;\">    0.0529948</td><td style=\"text-align: right;\">   -0.0754962</td><td style=\"text-align: right;\">   -0.209299 </td><td style=\"text-align: right;\">   -0.131492 </td><td style=\"text-align: right;\">    0.0513214</td><td style=\"text-align: right;\">    0.0768279</td><td style=\"text-align: right;\">    0.0427143</td><td style=\"text-align: right;\">    0.175625 </td><td style=\"text-align: right;\">   -0.0575678</td><td style=\"text-align: right;\">    0.0160989</td><td style=\"text-align: right;\">    -0.317888</td><td style=\"text-align: right;\">   -0.0697213</td><td style=\"text-align: right;\">    0.149864 </td><td style=\"text-align: right;\">    -0.12392 </td><td style=\"text-align: right;\">    0.0198951</td><td style=\"text-align: right;\">   -0.0547031</td><td style=\"text-align: right;\">   -0.0451698</td><td style=\"text-align: right;\">   -0.215154 </td><td style=\"text-align: right;\">   -0.0125563</td><td style=\"text-align: right;\">    0.0782037</td><td style=\"text-align: right;\">  -0.00192   </td><td style=\"text-align: right;\">    0.162176 </td><td style=\"text-align: right;\">   -0.115732 </td><td style=\"text-align: right;\">   0.00452397</td><td style=\"text-align: right;\">    0.409675 </td><td style=\"text-align: right;\">   -0.0841313</td><td style=\"text-align: right;\">    -0.158863</td><td style=\"text-align: right;\">   -0.0330333</td><td style=\"text-align: right;\">   -0.0218781</td><td style=\"text-align: right;\">    0.0143843</td><td style=\"text-align: right;\">    0.0761459</td><td style=\"text-align: right;\">    0.0615826</td><td style=\"text-align: right;\">    0.0730586</td><td style=\"text-align: right;\">     0.149658</td><td style=\"text-align: right;\">   -0.21679  </td><td style=\"text-align: right;\">    0.128949 </td><td style=\"text-align: right;\">  -0.0563934 </td><td style=\"text-align: right;\">    0.0240134</td><td style=\"text-align: right;\">  -0.00904656</td><td style=\"text-align: right;\">    0.0568181</td><td style=\"text-align: right;\">   -0.107004 </td><td style=\"text-align: right;\">   -0.102585 </td><td style=\"text-align: right;\">    0.0588165</td><td style=\"text-align: right;\">    0.28908  </td><td style=\"text-align: right;\">   0.132174  </td><td style=\"text-align: right;\">  -0.0224344 </td><td style=\"text-align: right;\">   -0.184066 </td><td style=\"text-align: right;\">   -0.0300823</td><td style=\"text-align: right;\">    0.0707774</td><td style=\"text-align: right;\">   -0.216979 </td><td style=\"text-align: right;\">    0.0636379</td><td style=\"text-align: right;\">     0.122245</td><td style=\"text-align: right;\">    0.0427629</td><td style=\"text-align: right;\">    -0.402555</td><td style=\"text-align: right;\">   0.0804202 </td><td style=\"text-align: right;\">    0.108368 </td><td style=\"text-align: right;\">  -0.00634667</td><td style=\"text-align: right;\"> -0.0606998  </td><td style=\"text-align: right;\">    0.0791236</td><td style=\"text-align: right;\">   -0.193004 </td><td style=\"text-align: right;\">   -0.40509  </td><td style=\"text-align: right;\">   0.133935  </td><td style=\"text-align: right;\">    -0.108571</td><td style=\"text-align: right;\">     0.320315</td><td style=\"text-align: right;\">    0.200286 </td><td style=\"text-align: right;\">     0.122987</td><td style=\"text-align: right;\">    -0.189933</td><td style=\"text-align: right;\">    0.0390492</td></tr>\n",
       "<tr><td>B001PMCDK2 </td><td>A14TTMM0Z03Y2W</td><td>my cat goes crazy for these!          </td><td style=\"text-align: right;\">      5</td><td style=\"text-align: right;\">                       0</td><td style=\"text-align: right;\">389965</td><td>Lindsay S. Bradford</td><td style=\"text-align: right;\">                     0</td><td style=\"text-align: right;\">1.3106e+09 </td><td>Best cat treat ever. There isn't anything comparable to the love my cat has for these treats, he snubs away any other kind now.<br />I know he likes to manipulate me with his cattiness but these treats are my way of manipulating him to come sit on my lap and have some chill time. :)</td><td style=\"text-align: right;\">               1</td><td>Yes    </td><td style=\"text-align: right;\"> 0.123161 </td><td style=\"text-align: right;\">0.0936158</td><td style=\"text-align: right;\"> 0.0439947</td><td style=\"text-align: right;\">-0.0151712</td><td style=\"text-align: right;\">-0.0898124</td><td style=\"text-align: right;\">-0.00271775</td><td style=\"text-align: right;\">-0.000586845</td><td style=\"text-align: right;\">-0.0464319</td><td style=\"text-align: right;\">-0.0616804</td><td style=\"text-align: right;\">0.356449</td><td style=\"text-align: right;\"> 0.0611896</td><td style=\"text-align: right;\">-0.0555226 </td><td style=\"text-align: right;\">-0.0893314</td><td style=\"text-align: right;\">-0.06511  </td><td style=\"text-align: right;\"> 0.0159529</td><td style=\"text-align: right;\"> 0.0564306 </td><td style=\"text-align: right;\">0.0834537</td><td style=\"text-align: right;\">-0.0291296 </td><td style=\"text-align: right;\">0.0540183</td><td style=\"text-align: right;\">-0.0330193</td><td style=\"text-align: right;\">0.000493353</td><td style=\"text-align: right;\"> 0.00640499</td><td style=\"text-align: right;\"> 0.0458041</td><td style=\"text-align: right;\">-0.135951 </td><td style=\"text-align: right;\"> 0.100869   </td><td style=\"text-align: right;\">0.143727  </td><td style=\"text-align: right;\">0.130937</td><td style=\"text-align: right;\">-0.0333404</td><td style=\"text-align: right;\">-0.0878446</td><td style=\"text-align: right;\"> 0.0626354</td><td style=\"text-align: right;\">-0.141847 </td><td style=\"text-align: right;\"> 0.186715  </td><td style=\"text-align: right;\"> 0.0569292 </td><td style=\"text-align: right;\">-0.115842</td><td style=\"text-align: right;\">0.0843101</td><td style=\"text-align: right;\">-0.12079  </td><td style=\"text-align: right;\">-0.0660873</td><td style=\"text-align: right;\">-0.0679552</td><td style=\"text-align: right;\">-0.00359153</td><td style=\"text-align: right;\">0.171001 </td><td style=\"text-align: right;\">0.00265798</td><td style=\"text-align: right;\">-0.110497 </td><td style=\"text-align: right;\">-0.0479786 </td><td style=\"text-align: right;\">-0.0355724 </td><td style=\"text-align: right;\">0.157841</td><td style=\"text-align: right;\">-0.171527</td><td style=\"text-align: right;\">0.15094    </td><td style=\"text-align: right;\">-0.0321921</td><td style=\"text-align: right;\">-0.146142 </td><td style=\"text-align: right;\"> 0.104146 </td><td style=\"text-align: right;\">0.052199</td><td style=\"text-align: right;\">0.100534 </td><td style=\"text-align: right;\">-0.0409051</td><td style=\"text-align: right;\"> 0.0987403</td><td style=\"text-align: right;\">-0.0842118</td><td style=\"text-align: right;\">0.0706748</td><td style=\"text-align: right;\">-0.092243 </td><td style=\"text-align: right;\">-0.017255 </td><td style=\"text-align: right;\">0.131373 </td><td style=\"text-align: right;\">0.0916262 </td><td style=\"text-align: right;\">-0.0156764 </td><td style=\"text-align: right;\">-0.00956439</td><td style=\"text-align: right;\"> 0.0338077</td><td style=\"text-align: right;\">-0.123931 </td><td style=\"text-align: right;\">-0.059287</td><td style=\"text-align: right;\"> 0.0283973</td><td style=\"text-align: right;\">-0.0351617</td><td style=\"text-align: right;\">-0.26884 </td><td style=\"text-align: right;\">-0.0180109</td><td style=\"text-align: right;\">-0.059145 </td><td style=\"text-align: right;\">-0.0604795 </td><td style=\"text-align: right;\">-0.0779308 </td><td style=\"text-align: right;\"> 0.064337 </td><td style=\"text-align: right;\">-0.271864</td><td style=\"text-align: right;\"> 0.0140648</td><td style=\"text-align: right;\"> 0.00949462</td><td style=\"text-align: right;\">-0.027445 </td><td style=\"text-align: right;\"> 0.0794647</td><td style=\"text-align: right;\">-0.12674  </td><td style=\"text-align: right;\">-0.145704</td><td style=\"text-align: right;\">-0.00934821</td><td style=\"text-align: right;\">0.150346</td><td style=\"text-align: right;\"> 0.0965777</td><td style=\"text-align: right;\">0.252518</td><td style=\"text-align: right;\">0.068929 </td><td style=\"text-align: right;\">0.0254678</td><td style=\"text-align: right;\"> 0.0683798</td><td style=\"text-align: right;\">0.040232 </td><td style=\"text-align: right;\">-0.0694339</td><td style=\"text-align: right;\">-0.0733179</td><td style=\"text-align: right;\">-0.00590498</td><td style=\"text-align: right;\">0.0111069</td><td style=\"text-align: right;\"> 0.0116357</td><td style=\"text-align: right;\">-0.115146 </td><td style=\"text-align: right;\"> 0.0506123</td><td style=\"text-align: right;\"> 0.0630426</td><td style=\"text-align: right;\"> 0.0671574</td><td style=\"text-align: right;\">-0.0931774</td><td style=\"text-align: right;\">0.16515  </td><td style=\"text-align: right;\">0.138782</td><td style=\"text-align: right;\">    0.335146</td><td style=\"text-align: right;\">   0.0911945</td><td style=\"text-align: right;\">   0.0202581</td><td style=\"text-align: right;\">-0.000955303</td><td style=\"text-align: right;\">  -0.0998791</td><td style=\"text-align: right;\"> -0.103678  </td><td style=\"text-align: right;\">  -0.0501901</td><td style=\"text-align: right;\">   0.0429202</td><td style=\"text-align: right;\">  -0.10638  </td><td style=\"text-align: right;\">     0.187235</td><td style=\"text-align: right;\">    0.166796 </td><td style=\"text-align: right;\">    -0.158439</td><td style=\"text-align: right;\">   -0.198547 </td><td style=\"text-align: right;\">   -0.26731  </td><td style=\"text-align: right;\">    -0.228743</td><td style=\"text-align: right;\">    0.0200813</td><td style=\"text-align: right;\">    0.151909 </td><td style=\"text-align: right;\">   -0.207239 </td><td style=\"text-align: right;\"> -0.0590568  </td><td style=\"text-align: right;\">   -0.134202 </td><td style=\"text-align: right;\">    0.113867 </td><td style=\"text-align: right;\">    0.0980141</td><td style=\"text-align: right;\">    0.0127478</td><td style=\"text-align: right;\">   -0.282795 </td><td style=\"text-align: right;\">    0.158422 </td><td style=\"text-align: right;\">    0.305443 </td><td style=\"text-align: right;\">    0.276799 </td><td style=\"text-align: right;\">   -0.0618022</td><td style=\"text-align: right;\">   -0.093709 </td><td style=\"text-align: right;\">    0.156735 </td><td style=\"text-align: right;\">    -0.362581</td><td style=\"text-align: right;\">    0.153424 </td><td style=\"text-align: right;\">    0.124095 </td><td style=\"text-align: right;\">    -0.31849 </td><td style=\"text-align: right;\">    0.0668348</td><td style=\"text-align: right;\">   -0.129951 </td><td style=\"text-align: right;\">    0.0894837</td><td style=\"text-align: right;\">   -0.0234091</td><td style=\"text-align: right;\">    0.129384 </td><td style=\"text-align: right;\">    0.0142631</td><td style=\"text-align: right;\">   0.0774971 </td><td style=\"text-align: right;\">   -0.0424502</td><td style=\"text-align: right;\">   -0.131348 </td><td style=\"text-align: right;\">   0.200433  </td><td style=\"text-align: right;\">    0.265171 </td><td style=\"text-align: right;\">   -0.175088 </td><td style=\"text-align: right;\">     0.190133</td><td style=\"text-align: right;\">    0.0345327</td><td style=\"text-align: right;\">   -0.287822 </td><td style=\"text-align: right;\">    0.118462 </td><td style=\"text-align: right;\">   -0.0324006</td><td style=\"text-align: right;\">    0.159192 </td><td style=\"text-align: right;\">   -0.0907691</td><td style=\"text-align: right;\">     0.180038</td><td style=\"text-align: right;\">   -0.0941003</td><td style=\"text-align: right;\">    0.0505645</td><td style=\"text-align: right;\">   0.00535109</td><td style=\"text-align: right;\">   -0.177532 </td><td style=\"text-align: right;\">  -0.0137014 </td><td style=\"text-align: right;\">    0.26502  </td><td style=\"text-align: right;\">   -0.0658659</td><td style=\"text-align: right;\">   -0.0551724</td><td style=\"text-align: right;\">   -0.165078 </td><td style=\"text-align: right;\">   -0.260548 </td><td style=\"text-align: right;\">  -0.037247  </td><td style=\"text-align: right;\">   0.00113351</td><td style=\"text-align: right;\">    0.0410989</td><td style=\"text-align: right;\">   -0.370323 </td><td style=\"text-align: right;\">    0.0550906</td><td style=\"text-align: right;\">    0.132085 </td><td style=\"text-align: right;\">   -0.156981 </td><td style=\"text-align: right;\">    -0.139622</td><td style=\"text-align: right;\">    0.21841  </td><td style=\"text-align: right;\">    -0.34016 </td><td style=\"text-align: right;\">   0.00163905</td><td style=\"text-align: right;\">   -0.0321409</td><td style=\"text-align: right;\">  -0.0511619 </td><td style=\"text-align: right;\">  0.0240791  </td><td style=\"text-align: right;\">   -0.13818  </td><td style=\"text-align: right;\">   -0.253546 </td><td style=\"text-align: right;\">    0.0993393</td><td style=\"text-align: right;\">   0.00308292</td><td style=\"text-align: right;\">     0.153902</td><td style=\"text-align: right;\">     0.361143</td><td style=\"text-align: right;\">    0.0234275</td><td style=\"text-align: right;\">     0.042122</td><td style=\"text-align: right;\">     0.160329</td><td style=\"text-align: right;\">    0.136967 </td></tr>\n",
       "<tr><td>B002Q8JOSI </td><td>A17UQD2RSSQH5X</td><td>My dogs tell me these treats are YUMMY</td><td style=\"text-align: right;\">      5</td><td style=\"text-align: right;\">                       1</td><td style=\"text-align: right;\">212536</td><td>in the dark        </td><td style=\"text-align: right;\">                     1</td><td style=\"text-align: right;\">1.31613e+09</td><td>My two Corgis were thoroughly spoiled by my late husband (I spent a year and a half dieting them down a combined total of 25 pounds!)<br /><br />They are accustomed to the finest of fare, and they absolutely love the Wellness brand of treats.                                         </td><td style=\"text-align: right;\">               1</td><td>Yes    </td><td style=\"text-align: right;\"> 0.14612  </td><td style=\"text-align: right;\">0.0524715</td><td style=\"text-align: right;\"> 0.0431809</td><td style=\"text-align: right;\"> 0.0417458</td><td style=\"text-align: right;\"> 0.0543288</td><td style=\"text-align: right;\">-0.010907  </td><td style=\"text-align: right;\"> 0.00472547 </td><td style=\"text-align: right;\">-0.0244389</td><td style=\"text-align: right;\">-0.0179625</td><td style=\"text-align: right;\">0.193643</td><td style=\"text-align: right;\">-0.0203781</td><td style=\"text-align: right;\">-0.00897748</td><td style=\"text-align: right;\">-0.183371 </td><td style=\"text-align: right;\">-0.0736023</td><td style=\"text-align: right;\">-0.0128042</td><td style=\"text-align: right;\"> 0.00441256</td><td style=\"text-align: right;\">0.173886 </td><td style=\"text-align: right;\"> 0.00884632</td><td style=\"text-align: right;\">0.113344 </td><td style=\"text-align: right;\"> 0.108385 </td><td style=\"text-align: right;\">0.0807092  </td><td style=\"text-align: right;\">-0.00601381</td><td style=\"text-align: right;\"> 0.0765061</td><td style=\"text-align: right;\">-0.0862067</td><td style=\"text-align: right;\">-0.0466725  </td><td style=\"text-align: right;\">0.12891   </td><td style=\"text-align: right;\">0.1632  </td><td style=\"text-align: right;\">-0.0324472</td><td style=\"text-align: right;\">-0.203496 </td><td style=\"text-align: right;\">-0.0997903</td><td style=\"text-align: right;\">-0.119647 </td><td style=\"text-align: right;\">-0.00812821</td><td style=\"text-align: right;\">-0.00382883</td><td style=\"text-align: right;\">-0.121207</td><td style=\"text-align: right;\">0.0461597</td><td style=\"text-align: right;\">-0.0302965</td><td style=\"text-align: right;\">-0.0720886</td><td style=\"text-align: right;\">-0.0146925</td><td style=\"text-align: right;\">-0.113725  </td><td style=\"text-align: right;\">0.146578 </td><td style=\"text-align: right;\">0.0528954 </td><td style=\"text-align: right;\">-0.150499 </td><td style=\"text-align: right;\">-0.0290532 </td><td style=\"text-align: right;\"> 0.00109274</td><td style=\"text-align: right;\">0.207615</td><td style=\"text-align: right;\">-0.141456</td><td style=\"text-align: right;\">0.104473   </td><td style=\"text-align: right;\">-0.0312056</td><td style=\"text-align: right;\">-0.12619  </td><td style=\"text-align: right;\"> 0.171685 </td><td style=\"text-align: right;\">0.16485 </td><td style=\"text-align: right;\">0.0196136</td><td style=\"text-align: right;\">-0.0562701</td><td style=\"text-align: right;\"> 0.15984  </td><td style=\"text-align: right;\">-0.030217 </td><td style=\"text-align: right;\">0.120236 </td><td style=\"text-align: right;\">-0.045398 </td><td style=\"text-align: right;\">-0.0162519</td><td style=\"text-align: right;\">0.0905256</td><td style=\"text-align: right;\">0.0614194 </td><td style=\"text-align: right;\"> 0.00593088</td><td style=\"text-align: right;\"> 0.0238442 </td><td style=\"text-align: right;\">-0.0374093</td><td style=\"text-align: right;\">-0.0856127</td><td style=\"text-align: right;\"> 0.045648</td><td style=\"text-align: right;\">-0.0289346</td><td style=\"text-align: right;\">-0.0757524</td><td style=\"text-align: right;\">-0.182248</td><td style=\"text-align: right;\"> 0.0294315</td><td style=\"text-align: right;\">-0.0391858</td><td style=\"text-align: right;\">-0.00231778</td><td style=\"text-align: right;\">-0.0754288 </td><td style=\"text-align: right;\"> 0.0234743</td><td style=\"text-align: right;\">-0.246289</td><td style=\"text-align: right;\">-0.0927432</td><td style=\"text-align: right;\">-0.0310399 </td><td style=\"text-align: right;\">-0.0268521</td><td style=\"text-align: right;\"> 0.0512426</td><td style=\"text-align: right;\">-0.0594166</td><td style=\"text-align: right;\">-0.159005</td><td style=\"text-align: right;\">-0.00721915</td><td style=\"text-align: right;\">0.117746</td><td style=\"text-align: right;\"> 0.0123043</td><td style=\"text-align: right;\">0.166801</td><td style=\"text-align: right;\">0.0876528</td><td style=\"text-align: right;\">0.0833269</td><td style=\"text-align: right;\"> 0.0310449</td><td style=\"text-align: right;\">0.0436203</td><td style=\"text-align: right;\">-0.0821555</td><td style=\"text-align: right;\"> 0.061856 </td><td style=\"text-align: right;\"> 0.129903  </td><td style=\"text-align: right;\">0.0700438</td><td style=\"text-align: right;\"> 0.0935956</td><td style=\"text-align: right;\">-0.236333 </td><td style=\"text-align: right;\">-0.0195535</td><td style=\"text-align: right;\"> 0.0184603</td><td style=\"text-align: right;\"> 0.0198711</td><td style=\"text-align: right;\">-0.0406759</td><td style=\"text-align: right;\">0.188408 </td><td style=\"text-align: right;\">0.182319</td><td style=\"text-align: right;\">    0.211376</td><td style=\"text-align: right;\">   0.0487687</td><td style=\"text-align: right;\">   0.202347 </td><td style=\"text-align: right;\">-0.0277638  </td><td style=\"text-align: right;\">  -0.046753 </td><td style=\"text-align: right;\"> -0.00728282</td><td style=\"text-align: right;\">   0.0464184</td><td style=\"text-align: right;\">  -0.115904 </td><td style=\"text-align: right;\">  -0.0811643</td><td style=\"text-align: right;\">     0.192575</td><td style=\"text-align: right;\">   -0.0289764</td><td style=\"text-align: right;\">    -0.204115</td><td style=\"text-align: right;\">   -0.0397107</td><td style=\"text-align: right;\">   -0.165046 </td><td style=\"text-align: right;\">     0.030509</td><td style=\"text-align: right;\">   -0.0117782</td><td style=\"text-align: right;\">    0.0739776</td><td style=\"text-align: right;\">    0.037185 </td><td style=\"text-align: right;\">  0.000584636</td><td style=\"text-align: right;\">   -0.0053623</td><td style=\"text-align: right;\">   -0.0129359</td><td style=\"text-align: right;\">    0.0136528</td><td style=\"text-align: right;\">    0.0250502</td><td style=\"text-align: right;\">   -0.0638697</td><td style=\"text-align: right;\">    0.0646962</td><td style=\"text-align: right;\">    0.169487 </td><td style=\"text-align: right;\">   -0.0235964</td><td style=\"text-align: right;\">   -0.0626624</td><td style=\"text-align: right;\">   -0.0800783</td><td style=\"text-align: right;\">    0.128723 </td><td style=\"text-align: right;\">    -0.086478</td><td style=\"text-align: right;\">    0.113712 </td><td style=\"text-align: right;\">   -0.0411573</td><td style=\"text-align: right;\">    -0.247132</td><td style=\"text-align: right;\">    0.197903 </td><td style=\"text-align: right;\">   -0.0858052</td><td style=\"text-align: right;\">    0.0228747</td><td style=\"text-align: right;\">   -0.231706 </td><td style=\"text-align: right;\">   -0.0388387</td><td style=\"text-align: right;\">    0.385225 </td><td style=\"text-align: right;\">  -0.00598615</td><td style=\"text-align: right;\">   -0.129884 </td><td style=\"text-align: right;\">    0.0611049</td><td style=\"text-align: right;\">  -0.107131  </td><td style=\"text-align: right;\">    0.0933217</td><td style=\"text-align: right;\">   -0.234649 </td><td style=\"text-align: right;\">     0.244078</td><td style=\"text-align: right;\">   -0.0513429</td><td style=\"text-align: right;\">   -0.219145 </td><td style=\"text-align: right;\">    0.105736 </td><td style=\"text-align: right;\">    0.072689 </td><td style=\"text-align: right;\">    0.041773 </td><td style=\"text-align: right;\">   -0.0546621</td><td style=\"text-align: right;\">     0.269623</td><td style=\"text-align: right;\">   -0.0840618</td><td style=\"text-align: right;\">    0.158091 </td><td style=\"text-align: right;\">  -0.0733551 </td><td style=\"text-align: right;\">   -0.0239368</td><td style=\"text-align: right;\">   0.0958364 </td><td style=\"text-align: right;\">    0.0900017</td><td style=\"text-align: right;\">    0.0816968</td><td style=\"text-align: right;\">    0.114539 </td><td style=\"text-align: right;\">   -0.01321  </td><td style=\"text-align: right;\">    0.0124963</td><td style=\"text-align: right;\">  -0.00566646</td><td style=\"text-align: right;\">   0.0789521 </td><td style=\"text-align: right;\">    0.01328  </td><td style=\"text-align: right;\">   -0.117309 </td><td style=\"text-align: right;\">   -0.27451  </td><td style=\"text-align: right;\">   -0.0173315</td><td style=\"text-align: right;\">   -0.303462 </td><td style=\"text-align: right;\">    -0.133165</td><td style=\"text-align: right;\">    0.0420883</td><td style=\"text-align: right;\">    -0.344821</td><td style=\"text-align: right;\">  -0.0386945 </td><td style=\"text-align: right;\">   -0.0854268</td><td style=\"text-align: right;\">  -0.0277463 </td><td style=\"text-align: right;\">  0.000673391</td><td style=\"text-align: right;\">   -0.243794 </td><td style=\"text-align: right;\">   -0.0223973</td><td style=\"text-align: right;\">   -0.163743 </td><td style=\"text-align: right;\">   0.190142  </td><td style=\"text-align: right;\">     0.232075</td><td style=\"text-align: right;\">     0.425361</td><td style=\"text-align: right;\">    0.130415 </td><td style=\"text-align: right;\">     0.110205</td><td style=\"text-align: right;\">     0.175373</td><td style=\"text-align: right;\">    0.179289 </td></tr>\n",
       "</tbody>\n",
       "</table>"
      ]
     },
     "metadata": {},
     "output_type": "display_data"
    },
    {
     "data": {
      "text/plain": []
     },
     "execution_count": 44,
     "metadata": {},
     "output_type": "execute_result"
    }
   ],
   "source": [
    "ext_train.head(3)"
   ]
  },
  {
   "cell_type": "code",
   "execution_count": 45,
   "metadata": {},
   "outputs": [
    {
     "name": "stdout",
     "output_type": "stream",
     "text": [
      "gbm Model Build progress: |███████████████████████████████████████████████| 100%\n"
     ]
    }
   ],
   "source": [
    "predictors = predictors + summary_vecs.names\n",
    "response = 'PositiveReview'\n",
    "\n",
    "gbm_plus_summary = H2OGradientBoostingEstimator(stopping_metric = \"AUC\", stopping_tolerance = 0.001,\n",
    "                                              stopping_rounds = 5, score_tree_interval = 10,\n",
    "                                              model_id = \"gbm_plus_summary.hex\")\n",
    "gbm_plus_summary.train(x=predictors, \n",
    "                       y=response, \n",
    "                       training_frame = ext_train,\n",
    "                      validation_frame = ext_test)"
   ]
  },
  {
   "cell_type": "markdown",
   "metadata": {},
   "source": [
    "- Check AUC:"
   ]
  },
  {
   "cell_type": "code",
   "execution_count": 46,
   "metadata": {
    "scrolled": false
   },
   "outputs": [
    {
     "name": "stdout",
     "output_type": "stream",
     "text": [
      "Baseline AUC: 0.595\n",
      "With Embeddings AUC: 0.595\n",
      "With Summary and Review Embeddings AUC: 0.804\n"
     ]
    }
   ],
   "source": [
    "print(\"Baseline AUC: \" + str(round(gbm_baseline.auc(valid = True), 3)))\n",
    "print(\"With Embeddings AUC: \" + str(round(gbm_embeddings.auc(valid = True), 3)))\n",
    "print(\"With Summary and Review Embeddings AUC: \" + str(round(gbm_plus_summary.auc(valid = True), 3)))"
   ]
  },
  {
   "cell_type": "code",
   "execution_count": 47,
   "metadata": {
    "scrolled": true
   },
   "outputs": [
    {
     "name": "stdout",
     "output_type": "stream",
     "text": [
      "Confusion Matrix (Act/Pred) for max f1 @ threshold = 0.4654341873712428: \n"
     ]
    },
    {
     "data": {
      "text/html": [
       "<div style=\"overflow:auto\"><table style=\"width:50%\"><tr><td><b></b></td>\n",
       "<td><b>0</b></td>\n",
       "<td><b>1</b></td>\n",
       "<td><b>Error</b></td>\n",
       "<td><b>Rate</b></td></tr>\n",
       "<tr><td>0</td>\n",
       "<td>1892.0</td>\n",
       "<td>2320.0</td>\n",
       "<td>0.5508</td>\n",
       "<td> (2320.0/4212.0)</td></tr>\n",
       "<tr><td>1</td>\n",
       "<td>500.0</td>\n",
       "<td>6440.0</td>\n",
       "<td>0.072</td>\n",
       "<td> (500.0/6940.0)</td></tr>\n",
       "<tr><td>Total</td>\n",
       "<td>2392.0</td>\n",
       "<td>8760.0</td>\n",
       "<td>0.2529</td>\n",
       "<td> (2820.0/11152.0)</td></tr></table></div>"
      ],
      "text/plain": [
       "       0     1     Error    Rate\n",
       "-----  ----  ----  -------  ----------------\n",
       "0      1892  2320  0.5508   (2320.0/4212.0)\n",
       "1      500   6440  0.072    (500.0/6940.0)\n",
       "Total  2392  8760  0.2529   (2820.0/11152.0)"
      ]
     },
     "metadata": {},
     "output_type": "display_data"
    },
    {
     "data": {
      "text/plain": []
     },
     "execution_count": 47,
     "metadata": {},
     "output_type": "execute_result"
    }
   ],
   "source": [
    "gbm_plus_summary.confusion_matrix(valid = True)"
   ]
  },
  {
   "cell_type": "code",
   "execution_count": 48,
   "metadata": {},
   "outputs": [
    {
     "data": {
      "text/plain": [
       "{'train': 0.35840185934403446, 'valid': 0.2759494781963455}"
      ]
     },
     "execution_count": 48,
     "metadata": {},
     "output_type": "execute_result"
    }
   ],
   "source": [
    "gbm_plus_summary.r2(train=True, valid=True)"
   ]
  },
  {
   "cell_type": "markdown",
   "metadata": {},
   "source": [
    "### 7. Check Interpretable plot:"
   ]
  },
  {
   "cell_type": "markdown",
   "metadata": {},
   "source": [
    "#### 7.1 Variable/Feature Importance:"
   ]
  },
  {
   "cell_type": "code",
   "execution_count": 49,
   "metadata": {
    "scrolled": true
   },
   "outputs": [
    {
     "data": {
      "image/png": "[encoded data removed]",
      "text/plain": [
       "<Figure size 1008x720 with 1 Axes>"
      ]
     },
     "metadata": {
      "needs_background": "light"
     },
     "output_type": "display_data"
    }
   ],
   "source": [
    "gbm_plus_summary.varimp_plot()"
   ]
  },
  {
   "cell_type": "markdown",
   "metadata": {},
   "source": [
    "#### 7.2 PartialDependency Plot:"
   ]
  },
  {
   "cell_type": "code",
   "execution_count": 50,
   "metadata": {},
   "outputs": [
    {
     "name": "stdout",
     "output_type": "stream",
     "text": [
      "PartialDependencePlot progress: |█████████████████████████████████████████| 100%\n"
     ]
    },
    {
     "data": {
      "image/png": "[encoded data removed]",
      "text/plain": [
       "<Figure size 504x720 with 1 Axes>"
      ]
     },
     "metadata": {
      "needs_background": "light"
     },
     "output_type": "display_data"
    }
   ],
   "source": [
    "pdp_word_vecs = gbm_plus_summary.partial_plot(data=ext_train, cols=['C55'])"
   ]
  },
  {
   "cell_type": "markdown",
   "metadata": {},
   "source": [
    "### 8. Predict a new review:"
   ]
  },
  {
   "cell_type": "markdown",
   "metadata": {},
   "source": [
    "- Define predict function:"
   ]
  },
  {
   "cell_type": "code",
   "execution_count": 51,
   "metadata": {},
   "outputs": [],
   "source": [
    "def predict(reviews, w2v, gbm):\n",
    "    words = tokenize(reviews['Text'].ascharacter())\n",
    "    reviews_vec = w2v.transform(words, aggregate_method = 'AVERAGE')\n",
    "    \n",
    "    summary_words = tokenize(reviews['Summary'].ascharacter())\n",
    "    summary_vec = w2v.transform(summary_words, aggregate_method='AVERAGE')\n",
    "    \n",
    "    model_data = reviews.cbind(reviews_vec).cbind(summary_vec)\n",
    "    print(gbm.predict(model_data))"
   ]
  },
  {
   "cell_type": "markdown",
   "metadata": {},
   "source": [
    "- Prepare some reviews:"
   ]
  },
  {
   "cell_type": "code",
   "execution_count": 52,
   "metadata": {},
   "outputs": [
    {
     "name": "stdout",
     "output_type": "stream",
     "text": [
      "Parse progress: |█████████████████████████████████████████████████████████| 100%\n"
     ]
    }
   ],
   "source": [
    "# Good:\n",
    "good_review = h2o.H2OFrame([[\"B000EQT574\", \"AISQLBDGS2KXR\", 1, 1, 1263340800, \n",
    "                             \"Delicious\",\n",
    "                             \"These chips are delicious. Salty sweet with a hint of spice. I have no idea how Tamari is supposed to taste, but these chips are awesome. I just finished an entire bag in one day!\"]])\n",
    "\n",
    "good_review.col_names = [\"ProductId\",\"UserId\",\"HelpfulnessNumerator\",\"HelpfulnessDenominator\",\"Time\",\"Summary\",\"Text\"]"
   ]
  },
  {
   "cell_type": "code",
   "execution_count": 53,
   "metadata": {},
   "outputs": [
    {
     "name": "stdout",
     "output_type": "stream",
     "text": [
      "Parse progress: |█████████████████████████████████████████████████████████| 100%\n"
     ]
    }
   ],
   "source": [
    "# Bad:\n",
    "bad_review = h2o.H2OFrame([[\"B003BJZMSM\", \"A2JBZHQVQF7MV0\", 1, 2, 1274832000, \n",
    "                            \"Pretty tasteless\",\n",
    "                            \"Quite tasteless and they make you order so many. I am stuck with 12 bags of this tasteless stuff. I am not ordering large amounts of anything from Amazon again. So often I don't like it and I am stuck with so much on hand.\"]])\n",
    "bad_review.col_names = [\"ProductId\",\"UserId\",\"HelpfulnessNumerator\",\"HelpfulnessDenominator\",\"Time\",\"Summary\",\"Text\"]"
   ]
  },
  {
   "cell_type": "markdown",
   "metadata": {},
   "source": [
    "- Predict:"
   ]
  },
  {
   "cell_type": "code",
   "execution_count": 54,
   "metadata": {
    "scrolled": false
   },
   "outputs": [
    {
     "name": "stdout",
     "output_type": "stream",
     "text": [
      "Good review:  \n",
      "gbm prediction progress: |████████████████████████████████████████████████| 100%\n"
     ]
    },
    {
     "data": {
      "text/html": [
       "<table>\n",
       "<thead>\n",
       "<tr><th style=\"text-align: right;\">  predict</th><th style=\"text-align: right;\">      p0</th><th style=\"text-align: right;\">      p1</th></tr>\n",
       "</thead>\n",
       "<tbody>\n",
       "<tr><td style=\"text-align: right;\">        1</td><td style=\"text-align: right;\">0.240346</td><td style=\"text-align: right;\">0.759654</td></tr>\n",
       "</tbody>\n",
       "</table>"
      ]
     },
     "metadata": {},
     "output_type": "display_data"
    },
    {
     "name": "stdout",
     "output_type": "stream",
     "text": [
      "\n",
      "None\n",
      "Bad review:  \n",
      "gbm prediction progress: |████████████████████████████████████████████████| 100%\n"
     ]
    },
    {
     "data": {
      "text/html": [
       "<table>\n",
       "<thead>\n",
       "<tr><th style=\"text-align: right;\">  predict</th><th style=\"text-align: right;\">      p0</th><th style=\"text-align: right;\">      p1</th></tr>\n",
       "</thead>\n",
       "<tbody>\n",
       "<tr><td style=\"text-align: right;\">        1</td><td style=\"text-align: right;\">0.437581</td><td style=\"text-align: right;\">0.562419</td></tr>\n",
       "</tbody>\n",
       "</table>"
      ]
     },
     "metadata": {},
     "output_type": "display_data"
    },
    {
     "name": "stdout",
     "output_type": "stream",
     "text": [
      "\n",
      "None\n"
     ]
    }
   ],
   "source": [
    "print('Good review:  ')\n",
    "print(predict(good_review, w2v_model, gbm_embeddings))\n",
    "\n",
    "print('Bad review:  ')\n",
    "print(predict(bad_review, w2v_model, gbm_embeddings))"
   ]
  },
  {
   "cell_type": "markdown",
   "metadata": {},
   "source": [
    "- Because most currently-available explanatory techniques are approximate, it is recommended that users employ several different explanatory techniques and trust only consisent results across techniques:"
   ]
  },
  {
   "cell_type": "markdown",
   "metadata": {},
   "source": [
    "### 9. Train Logistic Regression Model to Predict Good Review--Ziwei:\n",
    "Train a Logistic Regression model. This time, however, we will add the aggregated word embeddings as predictors."
   ]
  },
  {
   "cell_type": "markdown",
   "metadata": {},
   "source": [
    "#### 9.1 Train LR Without Adding summary:"
   ]
  },
  {
   "cell_type": "code",
   "execution_count": 55,
   "metadata": {},
   "outputs": [],
   "source": [
    "predictors = ['ProductId', 'UserId', 'HelpfulnessNumerator', 'HelpfulnessDenominator', 'Time']\n",
    "response = 'PositiveReview'"
   ]
  },
  {
   "cell_type": "code",
   "execution_count": 56,
   "metadata": {},
   "outputs": [
    {
     "name": "stdout",
     "output_type": "stream",
     "text": [
      "glm Model Build progress: |███████████████████████████████████████████████| 100%\n"
     ]
    }
   ],
   "source": [
    "from h2o.estimators.glm import H2OGeneralizedLinearEstimator\n",
    "\n",
    "glm_logistic = H2OGeneralizedLinearEstimator(family = \"binomial\")\n",
    "glm_logistic.train(x = predictors, \n",
    "                   y= response, \n",
    "                   training_frame = ext_train, \n",
    "                   validation_frame = ext_test, \n",
    "                   model_id = \"glm_logistic\")"
   ]
  },
  {
   "cell_type": "code",
   "execution_count": 57,
   "metadata": {},
   "outputs": [
    {
     "data": {
      "image/png": "[encoded data removed]",
      "text/plain": [
       "<Figure size 1008x720 with 1 Axes>"
      ]
     },
     "metadata": {
      "needs_background": "light"
     },
     "output_type": "display_data"
    }
   ],
   "source": [
    "glm_logistic.varimp_plot()"
   ]
  },
  {
   "cell_type": "code",
   "execution_count": 58,
   "metadata": {},
   "outputs": [
    {
     "name": "stdout",
     "output_type": "stream",
     "text": [
      "With Embeddings AUC: 0.571\n"
     ]
    }
   ],
   "source": [
    "print(\"With Embeddings AUC: \" + str(round(glm_logistic.auc(valid = True), 3)))"
   ]
  },
  {
   "cell_type": "code",
   "execution_count": 59,
   "metadata": {
    "scrolled": false
   },
   "outputs": [
    {
     "name": "stdout",
     "output_type": "stream",
     "text": [
      "Confusion Matrix (Act/Pred) for max f1 @ threshold = 0.5942608314291075: \n"
     ]
    },
    {
     "data": {
      "text/html": [
       "<div style=\"overflow:auto\"><table style=\"width:50%\"><tr><td><b></b></td>\n",
       "<td><b>0</b></td>\n",
       "<td><b>1</b></td>\n",
       "<td><b>Error</b></td>\n",
       "<td><b>Rate</b></td></tr>\n",
       "<tr><td>0</td>\n",
       "<td>792.0</td>\n",
       "<td>3420.0</td>\n",
       "<td>0.812</td>\n",
       "<td> (3420.0/4212.0)</td></tr>\n",
       "<tr><td>1</td>\n",
       "<td>320.0</td>\n",
       "<td>6620.0</td>\n",
       "<td>0.0461</td>\n",
       "<td> (320.0/6940.0)</td></tr>\n",
       "<tr><td>Total</td>\n",
       "<td>1112.0</td>\n",
       "<td>10040.0</td>\n",
       "<td>0.3354</td>\n",
       "<td> (3740.0/11152.0)</td></tr></table></div>"
      ],
      "text/plain": [
       "       0     1      Error    Rate\n",
       "-----  ----  -----  -------  ----------------\n",
       "0      792   3420   0.812    (3420.0/4212.0)\n",
       "1      320   6620   0.0461   (320.0/6940.0)\n",
       "Total  1112  10040  0.3354   (3740.0/11152.0)"
      ]
     },
     "metadata": {},
     "output_type": "display_data"
    },
    {
     "data": {
      "text/plain": []
     },
     "execution_count": 59,
     "metadata": {},
     "output_type": "execute_result"
    }
   ],
   "source": [
    "glm_logistic.confusion_matrix(valid = True)"
   ]
  },
  {
   "cell_type": "code",
   "execution_count": 60,
   "metadata": {},
   "outputs": [
    {
     "data": {
      "text/plain": [
       "{'train': 0.04539674737969146, 'valid': 0.012434577918252532}"
      ]
     },
     "execution_count": 60,
     "metadata": {},
     "output_type": "execute_result"
    }
   ],
   "source": [
    "glm_logistic.r2(train=True, valid=True)"
   ]
  },
  {
   "cell_type": "markdown",
   "metadata": {},
   "source": [
    "#### 9.2 Train LR Adding Summary:"
   ]
  },
  {
   "cell_type": "code",
   "execution_count": 61,
   "metadata": {},
   "outputs": [],
   "source": [
    "predictors = predictors + summary_vecs.names\n",
    "response = 'PositiveReview'"
   ]
  },
  {
   "cell_type": "code",
   "execution_count": 62,
   "metadata": {},
   "outputs": [
    {
     "name": "stdout",
     "output_type": "stream",
     "text": [
      "glm Model Build progress: |███████████████████████████████████████████████| 100%\n"
     ]
    }
   ],
   "source": [
    "glm_logistic_plus_summary = H2OGeneralizedLinearEstimator(family = \"binomial\")\n",
    "glm_logistic_plus_summary.train(x=predictors, \n",
    "                               y= response, \n",
    "                               training_frame = ext_train, \n",
    "                               validation_frame = ext_test, \n",
    "                               model_id=\"glm_logistic\")"
   ]
  },
  {
   "cell_type": "code",
   "execution_count": 63,
   "metadata": {},
   "outputs": [
    {
     "name": "stdout",
     "output_type": "stream",
     "text": [
      "With Summary and Review Embeddings AUC: 0.791\n"
     ]
    }
   ],
   "source": [
    "print(\"With Summary and Review Embeddings AUC: \" + str(round(glm_logistic_plus_summary.auc(valid = True), 3)))"
   ]
  },
  {
   "cell_type": "code",
   "execution_count": 64,
   "metadata": {
    "scrolled": false
   },
   "outputs": [
    {
     "name": "stdout",
     "output_type": "stream",
     "text": [
      "Confusion Matrix (Act/Pred) for max f1 @ threshold = 0.44924360656168666: \n"
     ]
    },
    {
     "data": {
      "text/html": [
       "<div style=\"overflow:auto\"><table style=\"width:50%\"><tr><td><b></b></td>\n",
       "<td><b>0</b></td>\n",
       "<td><b>1</b></td>\n",
       "<td><b>Error</b></td>\n",
       "<td><b>Rate</b></td></tr>\n",
       "<tr><td>0</td>\n",
       "<td>1606.0</td>\n",
       "<td>2606.0</td>\n",
       "<td>0.6187</td>\n",
       "<td> (2606.0/4212.0)</td></tr>\n",
       "<tr><td>1</td>\n",
       "<td>405.0</td>\n",
       "<td>6535.0</td>\n",
       "<td>0.0584</td>\n",
       "<td> (405.0/6940.0)</td></tr>\n",
       "<tr><td>Total</td>\n",
       "<td>2011.0</td>\n",
       "<td>9141.0</td>\n",
       "<td>0.27</td>\n",
       "<td> (3011.0/11152.0)</td></tr></table></div>"
      ],
      "text/plain": [
       "       0     1     Error    Rate\n",
       "-----  ----  ----  -------  ----------------\n",
       "0      1606  2606  0.6187   (2606.0/4212.0)\n",
       "1      405   6535  0.0584   (405.0/6940.0)\n",
       "Total  2011  9141  0.27     (3011.0/11152.0)"
      ]
     },
     "metadata": {},
     "output_type": "display_data"
    },
    {
     "data": {
      "text/plain": []
     },
     "execution_count": 64,
     "metadata": {},
     "output_type": "execute_result"
    }
   ],
   "source": [
    "glm_logistic_plus_summary.confusion_matrix(valid = True)"
   ]
  },
  {
   "cell_type": "code",
   "execution_count": 65,
   "metadata": {},
   "outputs": [
    {
     "data": {
      "text/plain": [
       "{'train': 0.24113803760741437, 'valid': 0.24372179952297546}"
      ]
     },
     "execution_count": 65,
     "metadata": {},
     "output_type": "execute_result"
    }
   ],
   "source": [
    "glm_logistic_plus_summary.r2(train=True, valid=True)"
   ]
  },
  {
   "cell_type": "markdown",
   "metadata": {},
   "source": [
    "#### 9.3 Check the Variable importance"
   ]
  },
  {
   "cell_type": "code",
   "execution_count": 66,
   "metadata": {},
   "outputs": [
    {
     "data": {
      "image/png": "[encoded data removed]",
      "text/plain": [
       "<Figure size 1008x720 with 1 Axes>"
      ]
     },
     "metadata": {
      "needs_background": "light"
     },
     "output_type": "display_data"
    }
   ],
   "source": [
    "glm_logistic_plus_summary.varimp_plot()"
   ]
  },
  {
   "cell_type": "code",
   "execution_count": 67,
   "metadata": {
    "scrolled": true
   },
   "outputs": [
    {
     "name": "stdout",
     "output_type": "stream",
     "text": [
      "PartialDependencePlot progress: |█████████████████████████████████████████| 100%\n"
     ]
    },
    {
     "data": {
      "image/png": "[encoded data removed]",
      "text/plain": [
       "<Figure size 504x720 with 1 Axes>"
      ]
     },
     "metadata": {
      "needs_background": "light"
     },
     "output_type": "display_data"
    }
   ],
   "source": [
    "pdp_word_vecs = glm_logistic_plus_summary.partial_plot(data = ext_train, cols = [\"summary_C91\"])"
   ]
  },
  {
   "cell_type": "markdown",
   "metadata": {},
   "source": [
    "### 10. Train Surrogate model Linear Regression"
   ]
  },
  {
   "cell_type": "markdown",
   "metadata": {},
   "source": [
    "- Linear regression corresponds to the Gaussian family model: the link function g\n",
    "is the identity and the density f corresponds to a normal distribution.\n",
    "- It is faster and requires more stable computations."
   ]
  },
  {
   "cell_type": "markdown",
   "metadata": {},
   "source": [
    "#### 10.1 Train Linear Regression surrogate model-Without Summary:"
   ]
  },
  {
   "cell_type": "code",
   "execution_count": 117,
   "metadata": {},
   "outputs": [],
   "source": [
    "from h2o.estimators.glm import H2OGeneralizedLinearEstimator"
   ]
  },
  {
   "cell_type": "code",
   "execution_count": 118,
   "metadata": {},
   "outputs": [],
   "source": [
    "predictors = ['ProductId', 'UserId', 'HelpfulnessNumerator', 'HelpfulnessDenominator', 'Time']\n",
    "response = 'PositiveReview'"
   ]
  },
  {
   "cell_type": "code",
   "execution_count": 119,
   "metadata": {
    "scrolled": false
   },
   "outputs": [],
   "source": [
    "# initialize\n",
    "local_glm = H2OGeneralizedLinearEstimator(family='binomial', model_id='glm_surrogate', lambda_search=True)"
   ]
  },
  {
   "cell_type": "code",
   "execution_count": 120,
   "metadata": {
    "scrolled": true
   },
   "outputs": [
    {
     "name": "stdout",
     "output_type": "stream",
     "text": [
      "glm Model Build progress: |███████████████████████████████████████████████| 100%\n"
     ]
    }
   ],
   "source": [
    "# train \n",
    "local_glm.train(x=predictors, y=response, training_frame=ext_train)"
   ]
  },
  {
   "cell_type": "code",
   "execution_count": 121,
   "metadata": {
    "scrolled": false
   },
   "outputs": [
    {
     "name": "stdout",
     "output_type": "stream",
     "text": [
      "\n",
      "Local GLM Coefficients:\n",
      "HelpfulnessDenominator:   -0.41926934342835226\n",
      "ProductId.B004ZIER34:     -0.37339277539619153\n",
      "ProductId.B001LGGH40:     -0.2698782308362946\n",
      "ProductId.B0041NYV8E:     -0.2532379368298235\n",
      "ProductId.B001LG945O:     -0.12868058701620463\n",
      "ProductId.B0090X8IPM:     -0.09412472662395467\n",
      "ProductId.B000KV7ZGQ:     -0.07866755079650026\n",
      "ProductId.B004U49QU2:     -0.07021864576873936\n",
      "ProductId.B004YV80OE:     -0.06915293570209137\n",
      "ProductId.B005A1LJ04:     -0.03411732700989435\n",
      "ProductId.B001LG940E:     -0.0069696884081249235\n",
      "Time:                     -3.8978762164590725e-09\n",
      "ProductId.B001EO5Q64:     0.07420423419653041\n",
      "ProductId.B000NMJWZO:     0.10707096101008066\n",
      "HelpfulnessNumerator:     0.44168744660951176\n",
      "Intercept:                5.762345944335135\n",
      "\n",
      "Local GLM R-square:\n",
      "0.09\n"
     ]
    }
   ],
   "source": [
    "# coefs\n",
    "import operator\n",
    "\n",
    "print('\\nLocal GLM Coefficients:')\n",
    "for c_name, c_val in sorted(local_glm.coef().items(), key=operator.itemgetter(1)):\n",
    "    if c_val != 0.0:\n",
    "        print('%s %s' % (str(c_name + ':').ljust(25), c_val))\n",
    "        \n",
    "# r2\n",
    "print('\\nLocal GLM R-square:\\n%.2f' % local_glm.r2())"
   ]
  },
  {
   "cell_type": "code",
   "execution_count": 131,
   "metadata": {},
   "outputs": [
    {
     "data": {
      "text/plain": [
       "{'train': 0.09367721803026086, 'valid': None}"
      ]
     },
     "execution_count": 131,
     "metadata": {},
     "output_type": "execute_result"
    }
   ],
   "source": [
    "local_glm.r2(train=True, valid=True)"
   ]
  },
  {
   "cell_type": "code",
   "execution_count": 123,
   "metadata": {},
   "outputs": [
    {
     "data": {
      "text/plain": [
       "0.6624231687765739"
      ]
     },
     "execution_count": 123,
     "metadata": {},
     "output_type": "execute_result"
    }
   ],
   "source": [
    "local_glm.auc()"
   ]
  },
  {
   "cell_type": "code",
   "execution_count": 124,
   "metadata": {
    "scrolled": true
   },
   "outputs": [
    {
     "name": "stdout",
     "output_type": "stream",
     "text": [
      "Confusion Matrix (Act/Pred) for max f1 @ threshold = 0.5395303392433897: \n"
     ]
    },
    {
     "data": {
      "text/html": [
       "<div style=\"overflow:auto\"><table style=\"width:50%\"><tr><td><b></b></td>\n",
       "<td><b>0</b></td>\n",
       "<td><b>1</b></td>\n",
       "<td><b>Error</b></td>\n",
       "<td><b>Rate</b></td></tr>\n",
       "<tr><td>0</td>\n",
       "<td>3099.0</td>\n",
       "<td>12795.0</td>\n",
       "<td>0.805</td>\n",
       "<td> (12795.0/15894.0)</td></tr>\n",
       "<tr><td>1</td>\n",
       "<td>822.0</td>\n",
       "<td>27686.0</td>\n",
       "<td>0.0288</td>\n",
       "<td> (822.0/28508.0)</td></tr>\n",
       "<tr><td>Total</td>\n",
       "<td>3921.0</td>\n",
       "<td>40481.0</td>\n",
       "<td>0.3067</td>\n",
       "<td> (13617.0/44402.0)</td></tr></table></div>"
      ],
      "text/plain": [
       "       0     1      Error    Rate\n",
       "-----  ----  -----  -------  -----------------\n",
       "0      3099  12795  0.805    (12795.0/15894.0)\n",
       "1      822   27686  0.0288   (822.0/28508.0)\n",
       "Total  3921  40481  0.3067   (13617.0/44402.0)"
      ]
     },
     "metadata": {},
     "output_type": "display_data"
    },
    {
     "data": {
      "text/plain": []
     },
     "execution_count": 124,
     "metadata": {},
     "output_type": "execute_result"
    }
   ],
   "source": [
    "local_glm.confusion_matrix()"
   ]
  },
  {
   "cell_type": "code",
   "execution_count": 133,
   "metadata": {
    "scrolled": true
   },
   "outputs": [
    {
     "data": {
      "image/png": "[encoded data removed]",
      "text/plain": [
       "<Figure size 1008x720 with 1 Axes>"
      ]
     },
     "metadata": {
      "needs_background": "light"
     },
     "output_type": "display_data"
    }
   ],
   "source": [
    "local_glm.varimp_plot()"
   ]
  },
  {
   "cell_type": "code",
   "execution_count": 134,
   "metadata": {},
   "outputs": [
    {
     "name": "stdout",
     "output_type": "stream",
     "text": [
      "PartialDependencePlot progress: |█████████████████████████████████████████| 100%\n"
     ]
    },
    {
     "data": {
      "image/png": "[encoded data removed]",
      "text/plain": [
       "<Figure size 504x720 with 1 Axes>"
      ]
     },
     "metadata": {
      "needs_background": "light"
     },
     "output_type": "display_data"
    }
   ],
   "source": [
    "pdp_local_linear = local_glm.partial_plot(data = ext_train, cols = [\"HelpfulnessDenominator\"])"
   ]
  },
  {
   "cell_type": "markdown",
   "metadata": {},
   "source": [
    "#### 10.2 Train Linear Regression surrogate model-Add Summary:"
   ]
  },
  {
   "cell_type": "code",
   "execution_count": 125,
   "metadata": {},
   "outputs": [],
   "source": [
    "predictors = predictors + summary_vecs.names\n",
    "response = 'PositiveReview'"
   ]
  },
  {
   "cell_type": "code",
   "execution_count": 126,
   "metadata": {
    "scrolled": true
   },
   "outputs": [
    {
     "name": "stdout",
     "output_type": "stream",
     "text": [
      "glm Model Build progress: |███████████████████████████████████████████████| 100%\n"
     ]
    }
   ],
   "source": [
    "# Initialize\n",
    "local_glm_plus = H2OGeneralizedLinearEstimator(family='binomial', model_id='glm_surrogate', lambda_search=True)\n",
    "# train \n",
    "local_glm_plus.train(x=predictors, y=response, training_frame=ext_train)"
   ]
  },
  {
   "cell_type": "code",
   "execution_count": 127,
   "metadata": {
    "scrolled": true
   },
   "outputs": [
    {
     "name": "stdout",
     "output_type": "stream",
     "text": [
      "\n",
      "Local GLM Coefficients:\n",
      "summary_C10:              -1.4021085841238106\n",
      "summary_C33:              -1.1831510709669475\n",
      "summary_C7:               -1.144753407801006\n",
      "summary_C76:              -1.1290022315894315\n",
      "summary_C41:              -1.0934502932294765\n",
      "summary_C6:               -1.0740527447181683\n",
      "summary_C86:              -1.064976400452503\n",
      "summary_C16:              -0.9289289711931945\n",
      "summary_C2:               -0.8637584183720214\n",
      "summary_C31:              -0.8266357558759467\n",
      "summary_C38:              -0.8006405948997042\n",
      "summary_C92:              -0.7589737030372359\n",
      "summary_C11:              -0.676821915392257\n",
      "summary_C30:              -0.6093486217810294\n",
      "summary_C28:              -0.5989113180491281\n",
      "summary_C96:              -0.5328078406335021\n",
      "summary_C51:              -0.5252408977843847\n",
      "summary_C53:              -0.4905926657976115\n",
      "summary_C67:              -0.4902937952272365\n",
      "summary_C40:              -0.48915583814093216\n",
      "summary_C93:              -0.4712865045933581\n",
      "summary_C68:              -0.4082964791239522\n",
      "summary_C65:              -0.3966061622363579\n",
      "summary_C22:              -0.3840068700615541\n",
      "summary_C20:              -0.3252056226693525\n",
      "summary_C14:              -0.29604552709852877\n",
      "summary_C81:              -0.2532343742854329\n",
      "summary_C46:              -0.23965260554110848\n",
      "summary_C29:              -0.22795688814300977\n",
      "summary_C71:              -0.2257628765829038\n",
      "summary_C49:              -0.2160516396422686\n",
      "summary_C19:              -0.19272148899041955\n",
      "summary_C56:              -0.1912417539261397\n",
      "summary_C52:              -0.18557956113327592\n",
      "summary_C27:              -0.154102474653453\n",
      "HelpfulnessDenominator:   -0.14134014607911616\n",
      "summary_C66:              -0.13887241972103237\n",
      "summary_C62:              -0.1273722279201239\n",
      "summary_C97:              -0.1035736511564741\n",
      "summary_C90:              -0.09938832639840951\n",
      "summary_C12:              -0.08873687125299957\n",
      "summary_C13:              -0.06092012224271174\n",
      "summary_C98:              -0.05740346662101182\n",
      "summary_C59:              -0.05388375094284357\n",
      "summary_C39:              -0.05076268299938888\n",
      "summary_C17:              -0.04703723881265118\n",
      "summary_C99:              -0.04672380977719964\n",
      "summary_C47:              -0.0312486620988613\n",
      "summary_C8:               -0.027378951473409675\n",
      "summary_C24:              -0.0036774436375325856\n",
      "Time:                     -2.0832289833764653e-09\n",
      "summary_C21:              0.009507437743161632\n",
      "summary_C32:              0.014824679241946684\n",
      "summary_C61:              0.04880439024678347\n",
      "summary_C44:              0.05258466484693135\n",
      "summary_C85:              0.061099445497239675\n",
      "summary_C58:              0.0631904293223991\n",
      "summary_C69:              0.091168097177184\n",
      "summary_C42:              0.12532690526269463\n",
      "HelpfulnessNumerator:     0.15342405662132158\n",
      "summary_C34:              0.15748494702231455\n",
      "summary_C64:              0.1735738915406193\n",
      "summary_C26:              0.19216750837607546\n",
      "summary_C35:              0.19661395535772708\n",
      "summary_C1:               0.19996544829949117\n",
      "summary_C89:              0.2087376282963867\n",
      "summary_C37:              0.23642505078302384\n",
      "summary_C84:              0.2514361638997176\n",
      "summary_C83:              0.3291194586969642\n",
      "summary_C77:              0.3306756576320879\n",
      "summary_C88:              0.3345893408107079\n",
      "summary_C57:              0.358547634949691\n",
      "summary_C23:              0.39235840217841567\n",
      "summary_C70:              0.4866210102777452\n",
      "summary_C18:              0.4912692694530554\n",
      "summary_C50:              0.5076286629715696\n",
      "summary_C15:              0.5197798184970995\n",
      "summary_C78:              0.5201638132982251\n",
      "summary_C54:              0.5558964672640653\n",
      "summary_C87:              0.5679044683039994\n",
      "summary_C3:               0.5702157314066019\n",
      "summary_C72:              0.5921283389837462\n",
      "summary_C82:              0.6005196107657796\n",
      "summary_C75:              0.6031156486485804\n",
      "summary_C4:               0.6197441725534828\n",
      "summary_C9:               0.6200694728666543\n",
      "summary_C73:              0.6804865181738646\n",
      "summary_C80:              0.6901856913974315\n",
      "summary_C5:               0.7072369122973629\n",
      "summary_C60:              0.7182042640434474\n",
      "summary_C48:              0.8995639453658023\n",
      "summary_C63:              0.9133678992733956\n",
      "summary_C25:              0.9159139687638941\n",
      "summary_C55:              0.9896073923133689\n",
      "summary_C91:              1.6680589255202305\n",
      "Intercept:                3.5714444698542427\n"
     ]
    }
   ],
   "source": [
    "print('\\nLocal GLM Coefficients:')\n",
    "for c_name, c_val in sorted(local_glm_plus.coef().items(), key=operator.itemgetter(1)):\n",
    "    if c_val != 0.0:\n",
    "        print('%s %s' % (str(c_name + ':').ljust(25), c_val))"
   ]
  },
  {
   "cell_type": "code",
   "execution_count": 132,
   "metadata": {},
   "outputs": [
    {
     "data": {
      "text/plain": [
       "{'train': 0.2922591540483098, 'valid': None}"
      ]
     },
     "execution_count": 132,
     "metadata": {},
     "output_type": "execute_result"
    }
   ],
   "source": [
    "local_glm_plus.r2(train=True, valid=True)"
   ]
  },
  {
   "cell_type": "code",
   "execution_count": 129,
   "metadata": {
    "scrolled": true
   },
   "outputs": [
    {
     "data": {
      "text/plain": [
       "0.8121313865983439"
      ]
     },
     "execution_count": 129,
     "metadata": {},
     "output_type": "execute_result"
    }
   ],
   "source": [
    "local_glm_plus.auc()"
   ]
  },
  {
   "cell_type": "code",
   "execution_count": 130,
   "metadata": {
    "scrolled": true
   },
   "outputs": [
    {
     "name": "stdout",
     "output_type": "stream",
     "text": [
      "Confusion Matrix (Act/Pred) for max f1 @ threshold = 0.4661578068431589: \n"
     ]
    },
    {
     "data": {
      "text/html": [
       "<div style=\"overflow:auto\"><table style=\"width:50%\"><tr><td><b></b></td>\n",
       "<td><b>0</b></td>\n",
       "<td><b>1</b></td>\n",
       "<td><b>Error</b></td>\n",
       "<td><b>Rate</b></td></tr>\n",
       "<tr><td>0</td>\n",
       "<td>7637.0</td>\n",
       "<td>8257.0</td>\n",
       "<td>0.5195</td>\n",
       "<td> (8257.0/15894.0)</td></tr>\n",
       "<tr><td>1</td>\n",
       "<td>2215.0</td>\n",
       "<td>26293.0</td>\n",
       "<td>0.0777</td>\n",
       "<td> (2215.0/28508.0)</td></tr>\n",
       "<tr><td>Total</td>\n",
       "<td>9852.0</td>\n",
       "<td>34550.0</td>\n",
       "<td>0.2358</td>\n",
       "<td> (10472.0/44402.0)</td></tr></table></div>"
      ],
      "text/plain": [
       "       0     1      Error    Rate\n",
       "-----  ----  -----  -------  -----------------\n",
       "0      7637  8257   0.5195   (8257.0/15894.0)\n",
       "1      2215  26293  0.0777   (2215.0/28508.0)\n",
       "Total  9852  34550  0.2358   (10472.0/44402.0)"
      ]
     },
     "metadata": {},
     "output_type": "display_data"
    },
    {
     "data": {
      "text/plain": []
     },
     "execution_count": 130,
     "metadata": {},
     "output_type": "execute_result"
    }
   ],
   "source": [
    "local_glm_plus.confusion_matrix()"
   ]
  },
  {
   "cell_type": "code",
   "execution_count": 135,
   "metadata": {
    "scrolled": true
   },
   "outputs": [
    {
     "data": {
      "image/png": "[encoded data removed]",
      "text/plain": [
       "<Figure size 1008x720 with 1 Axes>"
      ]
     },
     "metadata": {
      "needs_background": "light"
     },
     "output_type": "display_data"
    }
   ],
   "source": [
    "local_glm_plus.varimp_plot()"
   ]
  },
  {
   "cell_type": "code",
   "execution_count": 136,
   "metadata": {},
   "outputs": [
    {
     "name": "stdout",
     "output_type": "stream",
     "text": [
      "PartialDependencePlot progress: |█████████████████████████████████████████| 100%\n"
     ]
    },
    {
     "data": {
      "image/png": "[encoded data removed]",
      "text/plain": [
       "<Figure size 504x720 with 1 Axes>"
      ]
     },
     "metadata": {
      "needs_background": "light"
     },
     "output_type": "display_data"
    }
   ],
   "source": [
    "pdp_local_linear_plus = local_glm_plus.partial_plot(data = ext_train, cols = [\"HelpfulnessNumerator\"])"
   ]
  },
  {
   "cell_type": "markdown",
   "metadata": {},
   "source": [
    "### 11. Train Decision Tree Model to Predict Good Review--Ziwei:"
   ]
  },
  {
   "cell_type": "markdown",
   "metadata": {},
   "source": [
    "- a single decision tree will be trained on the original inputs and predictions of the h2o GBM model and the tree will be visualized using special functionality in h2o and GraphViz. "
   ]
  },
  {
   "cell_type": "code",
   "execution_count": 72,
   "metadata": {},
   "outputs": [],
   "source": [
    "from h2o.estimators.random_forest import H2ORandomForestEstimator # for single tree\n",
    "# in-notebook display\n",
    "from IPython.display import Image\n",
    "from IPython.display import display\n",
    "%matplotlib inline"
   ]
  },
  {
   "cell_type": "markdown",
   "metadata": {},
   "source": [
    "#### 11.1 Train decision tree surrogate model-Without Summary:"
   ]
  },
  {
   "cell_type": "code",
   "execution_count": 73,
   "metadata": {},
   "outputs": [],
   "source": [
    "predictors = ['ProductId', 'UserId', 'HelpfulnessNumerator', 'HelpfulnessDenominator', 'Time']\n",
    "response = 'PositiveReview'"
   ]
  },
  {
   "cell_type": "code",
   "execution_count": 74,
   "metadata": {
    "scrolled": true
   },
   "outputs": [
    {
     "name": "stdout",
     "output_type": "stream",
     "text": [
      "gbm Model Build progress: |███████████████████████████████████████████████| 100%\n"
     ]
    }
   ],
   "source": [
    "# initialize single tree surrogate model\n",
    "model_id = 'dt_surrogate_mojo'\n",
    "\n",
    "# train single tree surrogate model\n",
    "surrogate = H2OGradientBoostingEstimator(ntrees=1,\n",
    "                                         sample_rate=1,\n",
    "                                         col_sample_rate=1,\n",
    "                                         max_depth=3,\n",
    "                                         seed=12345,\n",
    "                                         model_id=model_id)\n",
    "\n",
    "_ = surrogate.train(x=predictors, y=response, training_frame=ext_train)"
   ]
  },
  {
   "cell_type": "code",
   "execution_count": 75,
   "metadata": {
    "scrolled": true
   },
   "outputs": [
    {
     "name": "stdout",
     "output_type": "stream",
     "text": [
      "Model Details\n",
      "=============\n",
      "H2OGradientBoostingEstimator :  Gradient Boosting Machine\n",
      "Model Key:  dt_surrogate_mojo\n",
      "\n",
      "\n",
      "ModelMetricsBinomial: gbm\n",
      "** Reported on train data. **\n",
      "\n",
      "MSE: 0.22720625436888103\n",
      "RMSE: 0.47666157215458543\n",
      "LogLoss: 0.646623252503391\n",
      "Mean Per-Class Error: 0.4129607911392914\n",
      "AUC: 0.6169717620607368\n",
      "pr_auc: 0.701813978582726\n",
      "Gini: 0.23394352412147357\n",
      "Confusion Matrix (Act/Pred) for max f1 @ threshold = 0.6306452274172152: \n"
     ]
    },
    {
     "data": {
      "text/html": [
       "<div style=\"overflow:auto\"><table style=\"width:50%\"><tr><td><b></b></td>\n",
       "<td><b>0</b></td>\n",
       "<td><b>1</b></td>\n",
       "<td><b>Error</b></td>\n",
       "<td><b>Rate</b></td></tr>\n",
       "<tr><td>0</td>\n",
       "<td>1918.0</td>\n",
       "<td>13976.0</td>\n",
       "<td>0.8793</td>\n",
       "<td> (13976.0/15894.0)</td></tr>\n",
       "<tr><td>1</td>\n",
       "<td>686.0</td>\n",
       "<td>27822.0</td>\n",
       "<td>0.0241</td>\n",
       "<td> (686.0/28508.0)</td></tr>\n",
       "<tr><td>Total</td>\n",
       "<td>2604.0</td>\n",
       "<td>41798.0</td>\n",
       "<td>0.3302</td>\n",
       "<td> (14662.0/44402.0)</td></tr></table></div>"
      ],
      "text/plain": [
       "       0     1      Error    Rate\n",
       "-----  ----  -----  -------  -----------------\n",
       "0      1918  13976  0.8793   (13976.0/15894.0)\n",
       "1      686   27822  0.0241   (686.0/28508.0)\n",
       "Total  2604  41798  0.3302   (14662.0/44402.0)"
      ]
     },
     "metadata": {},
     "output_type": "display_data"
    },
    {
     "name": "stdout",
     "output_type": "stream",
     "text": [
      "Maximum Metrics: Maximum metrics at their respective thresholds\n",
      "\n"
     ]
    },
    {
     "data": {
      "text/html": [
       "<div style=\"overflow:auto\"><table style=\"width:50%\"><tr><td><b>metric</b></td>\n",
       "<td><b>threshold</b></td>\n",
       "<td><b>value</b></td>\n",
       "<td><b>idx</b></td></tr>\n",
       "<tr><td>max f1</td>\n",
       "<td>0.6306452</td>\n",
       "<td>0.7914545</td>\n",
       "<td>5.0</td></tr>\n",
       "<tr><td>max f2</td>\n",
       "<td>0.6133597</td>\n",
       "<td>0.9004613</td>\n",
       "<td>6.0</td></tr>\n",
       "<tr><td>max f0point5</td>\n",
       "<td>0.6368217</td>\n",
       "<td>0.7148976</td>\n",
       "<td>4.0</td></tr>\n",
       "<tr><td>max accuracy</td>\n",
       "<td>0.6306452</td>\n",
       "<td>0.6697896</td>\n",
       "<td>5.0</td></tr>\n",
       "<tr><td>max precision</td>\n",
       "<td>0.6530382</td>\n",
       "<td>0.7527675</td>\n",
       "<td>0.0</td></tr>\n",
       "<tr><td>max recall</td>\n",
       "<td>0.5925922</td>\n",
       "<td>1.0</td>\n",
       "<td>7.0</td></tr>\n",
       "<tr><td>max specificity</td>\n",
       "<td>0.6530382</td>\n",
       "<td>0.9873537</td>\n",
       "<td>0.0</td></tr>\n",
       "<tr><td>max absolute_mcc</td>\n",
       "<td>0.6306452</td>\n",
       "<td>0.1971190</td>\n",
       "<td>5.0</td></tr>\n",
       "<tr><td>max min_per_class_accuracy</td>\n",
       "<td>0.6448321</td>\n",
       "<td>0.5260476</td>\n",
       "<td>2.0</td></tr>\n",
       "<tr><td>max mean_per_class_accuracy</td>\n",
       "<td>0.6443128</td>\n",
       "<td>0.5870392</td>\n",
       "<td>3.0</td></tr></table></div>"
      ],
      "text/plain": [
       "metric                       threshold    value     idx\n",
       "---------------------------  -----------  --------  -----\n",
       "max f1                       0.630645     0.791454  5\n",
       "max f2                       0.61336      0.900461  6\n",
       "max f0point5                 0.636822     0.714898  4\n",
       "max accuracy                 0.630645     0.66979   5\n",
       "max precision                0.653038     0.752768  0\n",
       "max recall                   0.592592     1         7\n",
       "max specificity              0.653038     0.987354  0\n",
       "max absolute_mcc             0.630645     0.197119  5\n",
       "max min_per_class_accuracy   0.644832     0.526048  2\n",
       "max mean_per_class_accuracy  0.644313     0.587039  3"
      ]
     },
     "metadata": {},
     "output_type": "display_data"
    },
    {
     "name": "stdout",
     "output_type": "stream",
     "text": [
      "Gains/Lift Table: Avg response rate: 64.20 %, avg score: 64.20 %\n",
      "\n"
     ]
    },
    {
     "data": {
      "text/html": [
       "<div style=\"overflow:auto\"><table style=\"width:50%\"><tr><td><b></b></td>\n",
       "<td><b>group</b></td>\n",
       "<td><b>cumulative_data_fraction</b></td>\n",
       "<td><b>lower_threshold</b></td>\n",
       "<td><b>lift</b></td>\n",
       "<td><b>cumulative_lift</b></td>\n",
       "<td><b>response_rate</b></td>\n",
       "<td><b>score</b></td>\n",
       "<td><b>cumulative_response_rate</b></td>\n",
       "<td><b>cumulative_score</b></td>\n",
       "<td><b>capture_rate</b></td>\n",
       "<td><b>cumulative_capture_rate</b></td>\n",
       "<td><b>gain</b></td>\n",
       "<td><b>cumulative_gain</b></td></tr>\n",
       "<tr><td></td>\n",
       "<td>1</td>\n",
       "<td>0.0183100</td>\n",
       "<td>0.6530382</td>\n",
       "<td>1.1724563</td>\n",
       "<td>1.1724563</td>\n",
       "<td>0.7527675</td>\n",
       "<td>0.6530382</td>\n",
       "<td>0.7527675</td>\n",
       "<td>0.6530382</td>\n",
       "<td>0.0214677</td>\n",
       "<td>0.0214677</td>\n",
       "<td>17.2456285</td>\n",
       "<td>17.2456285</td></tr>\n",
       "<tr><td></td>\n",
       "<td>2</td>\n",
       "<td>0.3222603</td>\n",
       "<td>0.6512438</td>\n",
       "<td>1.1441412</td>\n",
       "<td>1.1457500</td>\n",
       "<td>0.7345880</td>\n",
       "<td>0.6512438</td>\n",
       "<td>0.7356209</td>\n",
       "<td>0.6513457</td>\n",
       "<td>0.3477620</td>\n",
       "<td>0.3692297</td>\n",
       "<td>14.4141207</td>\n",
       "<td>14.5749996</td></tr>\n",
       "<tr><td></td>\n",
       "<td>3</td>\n",
       "<td>0.5781722</td>\n",
       "<td>0.6448321</td>\n",
       "<td>1.0435148</td>\n",
       "<td>1.1004984</td>\n",
       "<td>0.6699815</td>\n",
       "<td>0.6448321</td>\n",
       "<td>0.7065675</td>\n",
       "<td>0.6484627</td>\n",
       "<td>0.2670478</td>\n",
       "<td>0.6362775</td>\n",
       "<td>4.3514782</td>\n",
       "<td>10.0498409</td></tr>\n",
       "<tr><td></td>\n",
       "<td>4</td>\n",
       "<td>0.6970182</td>\n",
       "<td>0.6443128</td>\n",
       "<td>1.0354003</td>\n",
       "<td>1.0893988</td>\n",
       "<td>0.6647717</td>\n",
       "<td>0.6443128</td>\n",
       "<td>0.6994410</td>\n",
       "<td>0.6477551</td>\n",
       "<td>0.1230532</td>\n",
       "<td>0.7593307</td>\n",
       "<td>3.5400268</td>\n",
       "<td>8.9398765</td></tr>\n",
       "<tr><td></td>\n",
       "<td>5</td>\n",
       "<td>0.8581821</td>\n",
       "<td>0.6368217</td>\n",
       "<td>0.9189326</td>\n",
       "<td>1.0573858</td>\n",
       "<td>0.5899944</td>\n",
       "<td>0.6368217</td>\n",
       "<td>0.6788873</td>\n",
       "<td>0.6457018</td>\n",
       "<td>0.1480988</td>\n",
       "<td>0.9074295</td>\n",
       "<td>-8.1067356</td>\n",
       "<td>5.7385760</td></tr>\n",
       "<tr><td></td>\n",
       "<td>6</td>\n",
       "<td>0.9413540</td>\n",
       "<td>0.6306452</td>\n",
       "<td>0.8236804</td>\n",
       "<td>1.0367371</td>\n",
       "<td>0.5288383</td>\n",
       "<td>0.6306452</td>\n",
       "<td>0.6656299</td>\n",
       "<td>0.6443715</td>\n",
       "<td>0.0685071</td>\n",
       "<td>0.9759366</td>\n",
       "<td>-17.6319626</td>\n",
       "<td>3.6737069</td></tr>\n",
       "<tr><td></td>\n",
       "<td>7</td>\n",
       "<td>1.0</td>\n",
       "<td>0.5925922</td>\n",
       "<td>0.4103164</td>\n",
       "<td>1.0</td>\n",
       "<td>0.2634409</td>\n",
       "<td>0.6033189</td>\n",
       "<td>0.6420432</td>\n",
       "<td>0.6419640</td>\n",
       "<td>0.0240634</td>\n",
       "<td>1.0</td>\n",
       "<td>-58.9683560</td>\n",
       "<td>0.0</td></tr></table></div>"
      ],
      "text/plain": [
       "    group    cumulative_data_fraction    lower_threshold    lift      cumulative_lift    response_rate    score     cumulative_response_rate    cumulative_score    capture_rate    cumulative_capture_rate    gain      cumulative_gain\n",
       "--  -------  --------------------------  -----------------  --------  -----------------  ---------------  --------  --------------------------  ------------------  --------------  -------------------------  --------  -----------------\n",
       "    1        0.01831                     0.653038           1.17246   1.17246            0.752768         0.653038  0.752768                    0.653038            0.0214677       0.0214677                  17.2456   17.2456\n",
       "    2        0.32226                     0.651244           1.14414   1.14575            0.734588         0.651244  0.735621                    0.651346            0.347762        0.36923                    14.4141   14.575\n",
       "    3        0.578172                    0.644832           1.04351   1.1005             0.669982         0.644832  0.706567                    0.648463            0.267048        0.636278                   4.35148   10.0498\n",
       "    4        0.697018                    0.644313           1.0354    1.0894             0.664772         0.644313  0.699441                    0.647755            0.123053        0.759331                   3.54003   8.93988\n",
       "    5        0.858182                    0.636822           0.918933  1.05739            0.589994         0.636822  0.678887                    0.645702            0.148099        0.907429                   -8.10674  5.73858\n",
       "    6        0.941354                    0.630645           0.82368   1.03674            0.528838         0.630645  0.66563                     0.644372            0.0685071       0.975937                   -17.632   3.67371\n",
       "    7        1                           0.592592           0.410316  1                  0.263441         0.603319  0.642043                    0.641964            0.0240634       1                          -58.9684  0"
      ]
     },
     "metadata": {},
     "output_type": "display_data"
    },
    {
     "name": "stdout",
     "output_type": "stream",
     "text": [
      "\n",
      "Scoring History: \n"
     ]
    },
    {
     "data": {
      "text/html": [
       "<div style=\"overflow:auto\"><table style=\"width:50%\"><tr><td><b></b></td>\n",
       "<td><b>timestamp</b></td>\n",
       "<td><b>duration</b></td>\n",
       "<td><b>number_of_trees</b></td>\n",
       "<td><b>training_rmse</b></td>\n",
       "<td><b>training_logloss</b></td>\n",
       "<td><b>training_auc</b></td>\n",
       "<td><b>training_pr_auc</b></td>\n",
       "<td><b>training_lift</b></td>\n",
       "<td><b>training_classification_error</b></td></tr>\n",
       "<tr><td></td>\n",
       "<td>2019-04-02 13:46:40</td>\n",
       "<td> 0.017 sec</td>\n",
       "<td>0.0</td>\n",
       "<td>0.4793994</td>\n",
       "<td>0.6522336</td>\n",
       "<td>0.5</td>\n",
       "<td>0.0</td>\n",
       "<td>1.0</td>\n",
       "<td>0.3579568</td></tr>\n",
       "<tr><td></td>\n",
       "<td>2019-04-02 13:46:40</td>\n",
       "<td> 0.156 sec</td>\n",
       "<td>1.0</td>\n",
       "<td>0.4766616</td>\n",
       "<td>0.6466233</td>\n",
       "<td>0.6169718</td>\n",
       "<td>0.7018140</td>\n",
       "<td>1.1724563</td>\n",
       "<td>0.3302104</td></tr></table></div>"
      ],
      "text/plain": [
       "    timestamp            duration    number_of_trees    training_rmse    training_logloss    training_auc    training_pr_auc    training_lift    training_classification_error\n",
       "--  -------------------  ----------  -----------------  ---------------  ------------------  --------------  -----------------  ---------------  -------------------------------\n",
       "    2019-04-02 13:46:40  0.017 sec   0                  0.479399         0.652234            0.5             0                  1                0.357957\n",
       "    2019-04-02 13:46:40  0.156 sec   1                  0.476662         0.646623            0.616972        0.701814           1.17246          0.33021"
      ]
     },
     "metadata": {},
     "output_type": "display_data"
    },
    {
     "name": "stdout",
     "output_type": "stream",
     "text": [
      "Variable Importances: \n"
     ]
    },
    {
     "data": {
      "text/html": [
       "<div style=\"overflow:auto\"><table style=\"width:50%\"><tr><td><b>variable</b></td>\n",
       "<td><b>relative_importance</b></td>\n",
       "<td><b>scaled_importance</b></td>\n",
       "<td><b>percentage</b></td></tr>\n",
       "<tr><td>HelpfulnessNumerator</td>\n",
       "<td>266.5761719</td>\n",
       "<td>1.0</td>\n",
       "<td>0.4424212</td></tr>\n",
       "<tr><td>HelpfulnessDenominator</td>\n",
       "<td>258.5619202</td>\n",
       "<td>0.9699364</td>\n",
       "<td>0.4291204</td></tr>\n",
       "<tr><td>ProductId</td>\n",
       "<td>58.4961052</td>\n",
       "<td>0.2194349</td>\n",
       "<td>0.0970826</td></tr>\n",
       "<tr><td>Time</td>\n",
       "<td>18.9051323</td>\n",
       "<td>0.0709183</td>\n",
       "<td>0.0313758</td></tr>\n",
       "<tr><td>UserId</td>\n",
       "<td>0.0</td>\n",
       "<td>0.0</td>\n",
       "<td>0.0</td></tr></table></div>"
      ],
      "text/plain": [
       "variable                relative_importance    scaled_importance    percentage\n",
       "----------------------  ---------------------  -------------------  ------------\n",
       "HelpfulnessNumerator    266.576                1                    0.442421\n",
       "HelpfulnessDenominator  258.562                0.969936             0.42912\n",
       "ProductId               58.4961                0.219435             0.0970826\n",
       "Time                    18.9051                0.0709183            0.0313758\n",
       "UserId                  0                      0                    0"
      ]
     },
     "metadata": {},
     "output_type": "display_data"
    },
    {
     "name": "stdout",
     "output_type": "stream",
     "text": [
      "\n",
      "Generated MOJO path:\n",
      " C:\\Learning\\DataScience\\dt_surrogate_mojo.zip\n"
     ]
    }
   ],
   "source": [
    "# persist MOJO (compiled, representation of trained model)\n",
    "# from which to generate plot of surrogate\n",
    "mojo_path = surrogate.download_mojo(path='../../../../../../../../../Learning/DataScience')\n",
    "\n",
    "print(surrogate)\n",
    "print('Generated MOJO path:\\n', mojo_path)"
   ]
  },
  {
   "cell_type": "markdown",
   "metadata": {},
   "source": [
    "#### 11.2 Generate GraphViz representation of MOJO:"
   ]
  },
  {
   "cell_type": "markdown",
   "metadata": {},
   "source": [
    "- GraphViz is an open source graph visualization tool. It is freely available from this url: http://www.graphviz.org/.  \n",
    "- To plot the trained decision tree surrogate model, a special h2o class, __PrintMojo__, is executed against the MOJO to create a GraphViz dot file representation of the tree.  \n",
    "        "
   ]
  },
  {
   "cell_type": "markdown",
   "metadata": {},
   "source": [
    "- Create GraphViz dot file:"
   ]
  },
  {
   "cell_type": "code",
   "execution_count": 76,
   "metadata": {},
   "outputs": [],
   "source": [
    "from h2o.backend import H2OLocalServer\n",
    "import subprocess"
   ]
  },
  {
   "cell_type": "code",
   "execution_count": 77,
   "metadata": {
    "scrolled": true
   },
   "outputs": [
    {
     "name": "stdout",
     "output_type": "stream",
     "text": [
      "Discovered H2O jar path:\n",
      " c:\\python37\\lib\\site-packages\\h2o\\backend\\bin\\h2o.jar\n",
      "\n",
      "Calling external process ...\n",
      "java -cp c:\\python37\\lib\\site-packages\\h2o\\backend\\bin\\h2o.jar hex.genmodel.tools.PrintMojo --tree 0 -i C:\\Learning\\DataScience\\dt_surrogate_mojo.zip -o dt_surrogate_mojo.gv --title Amazon Reviews Decision Tree Surrogate\n"
     ]
    }
   ],
   "source": [
    "details = False # print more info on tree, details = True\n",
    "title = 'Amazon Reviews Decision Tree Surrogate'\n",
    "\n",
    "hs = H2OLocalServer()\n",
    "h2o_jar_path = hs._find_jar()\n",
    "print('Discovered H2O jar path:\\n', h2o_jar_path)\n",
    "\n",
    "gv_file_name = model_id + '.gv'\n",
    "gv_args = str('-cp ' + h2o_jar_path +\n",
    "              ' hex.genmodel.tools.PrintMojo --tree 0 -i '\n",
    "              + mojo_path + ' -o').split()\n",
    "gv_args.insert(0, 'java')\n",
    "gv_args.append(gv_file_name)\n",
    "\n",
    "if details:\n",
    "    gv_args.append('--detail')\n",
    "\n",
    "if title is not None:\n",
    "    gv_args = gv_args + ['--title', title]\n",
    "    \n",
    "print()\n",
    "print('Calling external process ...')\n",
    "print(' '.join(gv_args))\n",
    "    \n",
    "_ = subprocess.call(gv_args)"
   ]
  },
  {
   "cell_type": "markdown",
   "metadata": {},
   "source": [
    "#### 11.3 Generate PNG from GraphViz representation"
   ]
  },
  {
   "cell_type": "code",
   "execution_count": 78,
   "metadata": {
    "scrolled": true
   },
   "outputs": [
    {
     "name": "stdout",
     "output_type": "stream",
     "text": [
      "Calling external process ...\n",
      "dot -Tpng dt_surrogate_mojo.gv -o dt_surrogate_mojo.png\n"
     ]
    }
   ],
   "source": [
    "png_file_name = model_id + '.png'\n",
    "png_args = str('dot -Tpng ' + gv_file_name + ' -o ' + png_file_name)\n",
    "png_args = png_args.split()\n",
    "\n",
    "print('Calling external process ...')\n",
    "print(' '.join(png_args))\n",
    "\n",
    "_ = subprocess.call(png_args)"
   ]
  },
  {
   "cell_type": "markdown",
   "metadata": {},
   "source": [
    "#### 11.4 Display decision tree surrogate"
   ]
  },
  {
   "cell_type": "code",
   "execution_count": 79,
   "metadata": {
    "scrolled": true
   },
   "outputs": [
    {
     "data": {
      "image/png": "[encoded data removed]",
      "text/plain": [
       "<IPython.core.display.Image object>"
      ]
     },
     "metadata": {},
     "output_type": "display_data"
    }
   ],
   "source": [
    "display(Image((png_file_name)))"
   ]
  },
  {
   "cell_type": "markdown",
   "metadata": {},
   "source": [
    "#### From this surrogate model we can see...  the decision path without summary:\n",
    "- Some of the most important variables\n",
    "- Important interactions\n",
    "- The decision path for the most negative reviews\n",
    "- The decision path for the most positive reviews"
   ]
  },
  {
   "cell_type": "markdown",
   "metadata": {},
   "source": [
    "#### 11.5 AUC & Confusion Matrix-Without Summary:"
   ]
  },
  {
   "cell_type": "code",
   "execution_count": 80,
   "metadata": {},
   "outputs": [
    {
     "data": {
      "text/plain": [
       "0.5510744996455851"
      ]
     },
     "execution_count": 80,
     "metadata": {},
     "output_type": "execute_result"
    }
   ],
   "source": [
    "dt_performance = surrogate.model_performance(ext_test)\n",
    "dt_performance.auc()"
   ]
  },
  {
   "cell_type": "code",
   "execution_count": 81,
   "metadata": {
    "scrolled": true
   },
   "outputs": [
    {
     "name": "stdout",
     "output_type": "stream",
     "text": [
      "Confusion Matrix (Act/Pred) for max f1 @ threshold = 0.6306452274172152: \n"
     ]
    },
    {
     "data": {
      "text/html": [
       "<div style=\"overflow:auto\"><table style=\"width:50%\"><tr><td><b></b></td>\n",
       "<td><b>0</b></td>\n",
       "<td><b>1</b></td>\n",
       "<td><b>Error</b></td>\n",
       "<td><b>Rate</b></td></tr>\n",
       "<tr><td>0</td>\n",
       "<td>1918.0</td>\n",
       "<td>13976.0</td>\n",
       "<td>0.8793</td>\n",
       "<td> (13976.0/15894.0)</td></tr>\n",
       "<tr><td>1</td>\n",
       "<td>686.0</td>\n",
       "<td>27822.0</td>\n",
       "<td>0.0241</td>\n",
       "<td> (686.0/28508.0)</td></tr>\n",
       "<tr><td>Total</td>\n",
       "<td>2604.0</td>\n",
       "<td>41798.0</td>\n",
       "<td>0.3302</td>\n",
       "<td> (14662.0/44402.0)</td></tr></table></div>"
      ],
      "text/plain": [
       "       0     1      Error    Rate\n",
       "-----  ----  -----  -------  -----------------\n",
       "0      1918  13976  0.8793   (13976.0/15894.0)\n",
       "1      686   27822  0.0241   (686.0/28508.0)\n",
       "Total  2604  41798  0.3302   (14662.0/44402.0)"
      ]
     },
     "metadata": {},
     "output_type": "display_data"
    },
    {
     "data": {
      "text/plain": []
     },
     "execution_count": 81,
     "metadata": {},
     "output_type": "execute_result"
    }
   ],
   "source": [
    "surrogate.confusion_matrix()"
   ]
  },
  {
   "cell_type": "code",
   "execution_count": 82,
   "metadata": {},
   "outputs": [
    {
     "data": {
      "text/plain": [
       "{'train': 0.01138911406297094, 'valid': None}"
      ]
     },
     "execution_count": 82,
     "metadata": {},
     "output_type": "execute_result"
    }
   ],
   "source": [
    "surrogate.r2(train=True, valid=True)"
   ]
  },
  {
   "cell_type": "markdown",
   "metadata": {},
   "source": [
    "#### 11.6 Train With summary:"
   ]
  },
  {
   "cell_type": "code",
   "execution_count": 83,
   "metadata": {},
   "outputs": [],
   "source": [
    "predictors = predictors + summary_vecs.names\n",
    "response = 'PositiveReview'"
   ]
  },
  {
   "cell_type": "code",
   "execution_count": 84,
   "metadata": {
    "scrolled": true
   },
   "outputs": [
    {
     "name": "stdout",
     "output_type": "stream",
     "text": [
      "gbm Model Build progress: |███████████████████████████████████████████████| 100%\n"
     ]
    }
   ],
   "source": [
    "# initialize single tree surrogate model\n",
    "model_id = 'dt_surrogate_mojo_WithSummary'\n",
    "\n",
    "# train single tree surrogate model\n",
    "surrogate_plus = H2OGradientBoostingEstimator(ntrees=1,\n",
    "                                         sample_rate=1,\n",
    "                                         col_sample_rate=1,\n",
    "                                         max_depth=3,\n",
    "                                         seed=12345,\n",
    "                                         model_id=model_id)\n",
    "\n",
    "_ = surrogate_plus.train(x=predictors, y=response, training_frame=ext_train)"
   ]
  },
  {
   "cell_type": "code",
   "execution_count": 85,
   "metadata": {
    "scrolled": true
   },
   "outputs": [
    {
     "name": "stdout",
     "output_type": "stream",
     "text": [
      "Model Details\n",
      "=============\n",
      "H2OGradientBoostingEstimator :  Gradient Boosting Machine\n",
      "Model Key:  dt_surrogate_mojo_WithSummary\n",
      "\n",
      "\n",
      "ModelMetricsBinomial: gbm\n",
      "** Reported on train data. **\n",
      "\n",
      "MSE: 0.2247968275996043\n",
      "RMSE: 0.474127438142536\n",
      "LogLoss: 0.6413462404814723\n",
      "Mean Per-Class Error: 0.3500468583353069\n",
      "AUC: 0.6938619175932089\n",
      "pr_auc: 0.4829607600757417\n",
      "Gini: 0.38772383518641784\n",
      "Confusion Matrix (Act/Pred) for max f1 @ threshold = 0.6264891161727294: \n"
     ]
    },
    {
     "data": {
      "text/html": [
       "<div style=\"overflow:auto\"><table style=\"width:50%\"><tr><td><b></b></td>\n",
       "<td><b>0</b></td>\n",
       "<td><b>1</b></td>\n",
       "<td><b>Error</b></td>\n",
       "<td><b>Rate</b></td></tr>\n",
       "<tr><td>0</td>\n",
       "<td>4766.0</td>\n",
       "<td>11128.0</td>\n",
       "<td>0.7001</td>\n",
       "<td> (11128.0/15894.0)</td></tr>\n",
       "<tr><td>1</td>\n",
       "<td>2729.0</td>\n",
       "<td>25779.0</td>\n",
       "<td>0.0957</td>\n",
       "<td> (2729.0/28508.0)</td></tr>\n",
       "<tr><td>Total</td>\n",
       "<td>7495.0</td>\n",
       "<td>36907.0</td>\n",
       "<td>0.3121</td>\n",
       "<td> (13857.0/44402.0)</td></tr></table></div>"
      ],
      "text/plain": [
       "       0     1      Error    Rate\n",
       "-----  ----  -----  -------  -----------------\n",
       "0      4766  11128  0.7001   (11128.0/15894.0)\n",
       "1      2729  25779  0.0957   (2729.0/28508.0)\n",
       "Total  7495  36907  0.3121   (13857.0/44402.0)"
      ]
     },
     "metadata": {},
     "output_type": "display_data"
    },
    {
     "name": "stdout",
     "output_type": "stream",
     "text": [
      "Maximum Metrics: Maximum metrics at their respective thresholds\n",
      "\n"
     ]
    },
    {
     "data": {
      "text/html": [
       "<div style=\"overflow:auto\"><table style=\"width:50%\"><tr><td><b>metric</b></td>\n",
       "<td><b>threshold</b></td>\n",
       "<td><b>value</b></td>\n",
       "<td><b>idx</b></td></tr>\n",
       "<tr><td>max f1</td>\n",
       "<td>0.6264891</td>\n",
       "<td>0.7881679</td>\n",
       "<td>6.0</td></tr>\n",
       "<tr><td>max f2</td>\n",
       "<td>0.6137990</td>\n",
       "<td>0.8996806</td>\n",
       "<td>7.0</td></tr>\n",
       "<tr><td>max f0point5</td>\n",
       "<td>0.6389462</td>\n",
       "<td>0.7496684</td>\n",
       "<td>4.0</td></tr>\n",
       "<tr><td>max accuracy</td>\n",
       "<td>0.6281197</td>\n",
       "<td>0.6886852</td>\n",
       "<td>5.0</td></tr>\n",
       "<tr><td>max precision</td>\n",
       "<td>0.6603034</td>\n",
       "<td>0.8268297</td>\n",
       "<td>0.0</td></tr>\n",
       "<tr><td>max recall</td>\n",
       "<td>0.6137990</td>\n",
       "<td>1.0</td>\n",
       "<td>7.0</td></tr>\n",
       "<tr><td>max specificity</td>\n",
       "<td>0.6603034</td>\n",
       "<td>0.8654209</td>\n",
       "<td>0.0</td></tr>\n",
       "<tr><td>max absolute_mcc</td>\n",
       "<td>0.6389462</td>\n",
       "<td>0.3023854</td>\n",
       "<td>4.0</td></tr>\n",
       "<tr><td>max min_per_class_accuracy</td>\n",
       "<td>0.6466159</td>\n",
       "<td>0.6243866</td>\n",
       "<td>2.0</td></tr>\n",
       "<tr><td>max mean_per_class_accuracy</td>\n",
       "<td>0.6461853</td>\n",
       "<td>0.6499531</td>\n",
       "<td>3.0</td></tr></table></div>"
      ],
      "text/plain": [
       "metric                       threshold    value     idx\n",
       "---------------------------  -----------  --------  -----\n",
       "max f1                       0.626489     0.788168  6\n",
       "max f2                       0.613799     0.899681  7\n",
       "max f0point5                 0.638946     0.749668  4\n",
       "max accuracy                 0.62812      0.688685  5\n",
       "max precision                0.660303     0.82683   0\n",
       "max recall                   0.613799     1         7\n",
       "max specificity              0.660303     0.865421  0\n",
       "max absolute_mcc             0.638946     0.302385  4\n",
       "max min_per_class_accuracy   0.646616     0.624387  2\n",
       "max mean_per_class_accuracy  0.646185     0.649953  3"
      ]
     },
     "metadata": {},
     "output_type": "display_data"
    },
    {
     "name": "stdout",
     "output_type": "stream",
     "text": [
      "Gains/Lift Table: Avg response rate: 64.20 %, avg score: 64.19 %\n",
      "\n"
     ]
    },
    {
     "data": {
      "text/html": [
       "<div style=\"overflow:auto\"><table style=\"width:50%\"><tr><td><b></b></td>\n",
       "<td><b>group</b></td>\n",
       "<td><b>cumulative_data_fraction</b></td>\n",
       "<td><b>lower_threshold</b></td>\n",
       "<td><b>lift</b></td>\n",
       "<td><b>cumulative_lift</b></td>\n",
       "<td><b>response_rate</b></td>\n",
       "<td><b>score</b></td>\n",
       "<td><b>cumulative_response_rate</b></td>\n",
       "<td><b>cumulative_score</b></td>\n",
       "<td><b>capture_rate</b></td>\n",
       "<td><b>cumulative_capture_rate</b></td>\n",
       "<td><b>gain</b></td>\n",
       "<td><b>cumulative_gain</b></td></tr>\n",
       "<tr><td></td>\n",
       "<td>1</td>\n",
       "<td>0.2781857</td>\n",
       "<td>0.6603034</td>\n",
       "<td>1.2878101</td>\n",
       "<td>1.2878101</td>\n",
       "<td>0.8268297</td>\n",
       "<td>0.6603034</td>\n",
       "<td>0.8268297</td>\n",
       "<td>0.6603034</td>\n",
       "<td>0.3582503</td>\n",
       "<td>0.3582503</td>\n",
       "<td>28.7810113</td>\n",
       "<td>28.7810113</td></tr>\n",
       "<tr><td></td>\n",
       "<td>2</td>\n",
       "<td>0.5179046</td>\n",
       "<td>0.6473066</td>\n",
       "<td>1.0822506</td>\n",
       "<td>1.1926642</td>\n",
       "<td>0.6948516</td>\n",
       "<td>0.6473066</td>\n",
       "<td>0.7657419</td>\n",
       "<td>0.6542877</td>\n",
       "<td>0.2594359</td>\n",
       "<td>0.6176863</td>\n",
       "<td>8.2250559</td>\n",
       "<td>19.2664180</td></tr>\n",
       "<tr><td></td>\n",
       "<td>3</td>\n",
       "<td>0.6305797</td>\n",
       "<td>0.6461853</td>\n",
       "<td>1.0672007</td>\n",
       "<td>1.1702457</td>\n",
       "<td>0.6851889</td>\n",
       "<td>0.6463461</td>\n",
       "<td>0.7513483</td>\n",
       "<td>0.6528686</td>\n",
       "<td>0.1202469</td>\n",
       "<td>0.7379332</td>\n",
       "<td>6.7200679</td>\n",
       "<td>17.0245740</td></tr>\n",
       "<tr><td></td>\n",
       "<td>4</td>\n",
       "<td>0.7994910</td>\n",
       "<td>0.6281197</td>\n",
       "<td>0.8421033</td>\n",
       "<td>1.1009179</td>\n",
       "<td>0.5406667</td>\n",
       "<td>0.6318281</td>\n",
       "<td>0.7068368</td>\n",
       "<td>0.6484233</td>\n",
       "<td>0.1422408</td>\n",
       "<td>0.8801740</td>\n",
       "<td>-15.7896684</td>\n",
       "<td>10.0917923</td></tr>\n",
       "<tr><td></td>\n",
       "<td>5</td>\n",
       "<td>0.8312013</td>\n",
       "<td>0.6264891</td>\n",
       "<td>0.7599585</td>\n",
       "<td>1.0879103</td>\n",
       "<td>0.4879261</td>\n",
       "<td>0.6264891</td>\n",
       "<td>0.6984854</td>\n",
       "<td>0.6475865</td>\n",
       "<td>0.0240985</td>\n",
       "<td>0.9042725</td>\n",
       "<td>-24.0041521</td>\n",
       "<td>8.7910339</td></tr>\n",
       "<tr><td></td>\n",
       "<td>6</td>\n",
       "<td>1.0</td>\n",
       "<td>0.6137990</td>\n",
       "<td>0.5671105</td>\n",
       "<td>1.0</td>\n",
       "<td>0.3641094</td>\n",
       "<td>0.6137990</td>\n",
       "<td>0.6420432</td>\n",
       "<td>0.6418832</td>\n",
       "<td>0.0957275</td>\n",
       "<td>1.0</td>\n",
       "<td>-43.2889510</td>\n",
       "<td>0.0</td></tr></table></div>"
      ],
      "text/plain": [
       "    group    cumulative_data_fraction    lower_threshold    lift      cumulative_lift    response_rate    score     cumulative_response_rate    cumulative_score    capture_rate    cumulative_capture_rate    gain      cumulative_gain\n",
       "--  -------  --------------------------  -----------------  --------  -----------------  ---------------  --------  --------------------------  ------------------  --------------  -------------------------  --------  -----------------\n",
       "    1        0.278186                    0.660303           1.28781   1.28781            0.82683          0.660303  0.82683                     0.660303            0.35825         0.35825                    28.781    28.781\n",
       "    2        0.517905                    0.647307           1.08225   1.19266            0.694852         0.647307  0.765742                    0.654288            0.259436        0.617686                   8.22506   19.2664\n",
       "    3        0.63058                     0.646185           1.0672    1.17025            0.685189         0.646346  0.751348                    0.652869            0.120247        0.737933                   6.72007   17.0246\n",
       "    4        0.799491                    0.62812            0.842103  1.10092            0.540667         0.631828  0.706837                    0.648423            0.142241        0.880174                   -15.7897  10.0918\n",
       "    5        0.831201                    0.626489           0.759958  1.08791            0.487926         0.626489  0.698485                    0.647587            0.0240985       0.904272                   -24.0042  8.79103\n",
       "    6        1                           0.613799           0.56711   1                  0.364109         0.613799  0.642043                    0.641883            0.0957275       1                          -43.289   0"
      ]
     },
     "metadata": {},
     "output_type": "display_data"
    },
    {
     "name": "stdout",
     "output_type": "stream",
     "text": [
      "\n",
      "Scoring History: \n"
     ]
    },
    {
     "data": {
      "text/html": [
       "<div style=\"overflow:auto\"><table style=\"width:50%\"><tr><td><b></b></td>\n",
       "<td><b>timestamp</b></td>\n",
       "<td><b>duration</b></td>\n",
       "<td><b>number_of_trees</b></td>\n",
       "<td><b>training_rmse</b></td>\n",
       "<td><b>training_logloss</b></td>\n",
       "<td><b>training_auc</b></td>\n",
       "<td><b>training_pr_auc</b></td>\n",
       "<td><b>training_lift</b></td>\n",
       "<td><b>training_classification_error</b></td></tr>\n",
       "<tr><td></td>\n",
       "<td>2019-04-02 13:46:57</td>\n",
       "<td> 0.002 sec</td>\n",
       "<td>0.0</td>\n",
       "<td>0.4793994</td>\n",
       "<td>0.6522336</td>\n",
       "<td>0.5</td>\n",
       "<td>0.0</td>\n",
       "<td>1.0</td>\n",
       "<td>0.3579568</td></tr>\n",
       "<tr><td></td>\n",
       "<td>2019-04-02 13:46:58</td>\n",
       "<td> 0.243 sec</td>\n",
       "<td>1.0</td>\n",
       "<td>0.4741274</td>\n",
       "<td>0.6413462</td>\n",
       "<td>0.6938619</td>\n",
       "<td>0.4829608</td>\n",
       "<td>1.2878101</td>\n",
       "<td>0.3120805</td></tr></table></div>"
      ],
      "text/plain": [
       "    timestamp            duration    number_of_trees    training_rmse    training_logloss    training_auc    training_pr_auc    training_lift    training_classification_error\n",
       "--  -------------------  ----------  -----------------  ---------------  ------------------  --------------  -----------------  ---------------  -------------------------------\n",
       "    2019-04-02 13:46:57  0.002 sec   0                  0.479399         0.652234            0.5             0                  1                0.357957\n",
       "    2019-04-02 13:46:58  0.243 sec   1                  0.474127         0.641346            0.693862        0.482961           1.28781          0.312081"
      ]
     },
     "metadata": {},
     "output_type": "display_data"
    },
    {
     "name": "stdout",
     "output_type": "stream",
     "text": [
      "Variable Importances: \n"
     ]
    },
    {
     "data": {
      "text/html": [
       "<div style=\"overflow:auto\"><table style=\"width:50%\"><tr><td><b>variable</b></td>\n",
       "<td><b>relative_importance</b></td>\n",
       "<td><b>scaled_importance</b></td>\n",
       "<td><b>percentage</b></td></tr>\n",
       "<tr><td>summary_C55</td>\n",
       "<td>480.3755493</td>\n",
       "<td>1.0</td>\n",
       "<td>0.4106890</td></tr>\n",
       "<tr><td>summary_C91</td>\n",
       "<td>366.3369446</td>\n",
       "<td>0.7626053</td>\n",
       "<td>0.3131936</td></tr>\n",
       "<tr><td>summary_C10</td>\n",
       "<td>154.9094696</td>\n",
       "<td>0.3224758</td>\n",
       "<td>0.1324372</td></tr>\n",
       "<tr><td>summary_C76</td>\n",
       "<td>116.7457504</td>\n",
       "<td>0.2430302</td>\n",
       "<td>0.0998098</td></tr>\n",
       "<tr><td>summary_C54</td>\n",
       "<td>51.3144684</td>\n",
       "<td>0.1068216</td>\n",
       "<td>0.0438704</td></tr>\n",
       "<tr><td>---</td>\n",
       "<td>---</td>\n",
       "<td>---</td>\n",
       "<td>---</td></tr>\n",
       "<tr><td>summary_C96</td>\n",
       "<td>0.0</td>\n",
       "<td>0.0</td>\n",
       "<td>0.0</td></tr>\n",
       "<tr><td>summary_C97</td>\n",
       "<td>0.0</td>\n",
       "<td>0.0</td>\n",
       "<td>0.0</td></tr>\n",
       "<tr><td>summary_C98</td>\n",
       "<td>0.0</td>\n",
       "<td>0.0</td>\n",
       "<td>0.0</td></tr>\n",
       "<tr><td>summary_C99</td>\n",
       "<td>0.0</td>\n",
       "<td>0.0</td>\n",
       "<td>0.0</td></tr>\n",
       "<tr><td>summary_C100</td>\n",
       "<td>0.0</td>\n",
       "<td>0.0</td>\n",
       "<td>0.0</td></tr></table></div>"
      ],
      "text/plain": [
       "variable      relative_importance    scaled_importance    percentage\n",
       "------------  ---------------------  -------------------  -------------------\n",
       "summary_C55   480.37554931640625     1.0                  0.4106889517346401\n",
       "summary_C91   366.3369445800781      0.762605309744408    0.3131935752462014\n",
       "summary_C10   154.9094696044922      0.3224757584455216   0.1324372311958243\n",
       "summary_C76   116.7457504272461      0.24303016794543353  0.09980980491340362\n",
       "summary_C54   51.31446838378906      0.10682156587031047  0.04387043690993061\n",
       "---           ---                    ---                  ---\n",
       "summary_C96   0.0                    0.0                  0.0\n",
       "summary_C97   0.0                    0.0                  0.0\n",
       "summary_C98   0.0                    0.0                  0.0\n",
       "summary_C99   0.0                    0.0                  0.0\n",
       "summary_C100  0.0                    0.0                  0.0"
      ]
     },
     "metadata": {},
     "output_type": "display_data"
    },
    {
     "name": "stdout",
     "output_type": "stream",
     "text": [
      "\n",
      "See the whole table with table.as_data_frame()\n",
      "\n",
      "Generated MOJO path:\n",
      " C:\\Learning\\DataScience\\dt_surrogate_mojo_WithSummary.zip\n"
     ]
    }
   ],
   "source": [
    "# persist MOJO (compiled, representation of trained model)\n",
    "# from which to generate plot of surrogate\n",
    "mojo_path = surrogate_plus.download_mojo(path='../../../../../../../../../Learning/DataScience')\n",
    "\n",
    "print(surrogate_plus)\n",
    "print('Generated MOJO path:\\n', mojo_path)"
   ]
  },
  {
   "cell_type": "code",
   "execution_count": 86,
   "metadata": {
    "scrolled": true
   },
   "outputs": [
    {
     "name": "stdout",
     "output_type": "stream",
     "text": [
      "Discovered H2O jar path:\n",
      " c:\\python37\\lib\\site-packages\\h2o\\backend\\bin\\h2o.jar\n",
      "\n",
      "Calling external process ...\n",
      "java -cp c:\\python37\\lib\\site-packages\\h2o\\backend\\bin\\h2o.jar hex.genmodel.tools.PrintMojo --tree 0 -i C:\\Learning\\DataScience\\dt_surrogate_mojo_WithSummary.zip -o dt_surrogate_mojo_WithSummary.gv --title Amazon Reviews Decision Tree Surrogate-With Summary\n"
     ]
    }
   ],
   "source": [
    "details = False # print more info on tree, details = True\n",
    "title = 'Amazon Reviews Decision Tree Surrogate-With Summary'\n",
    "\n",
    "hs = H2OLocalServer()\n",
    "h2o_jar_path = hs._find_jar()\n",
    "print('Discovered H2O jar path:\\n', h2o_jar_path)\n",
    "\n",
    "gv_file_name = model_id + '.gv'\n",
    "gv_args = str('-cp ' + h2o_jar_path +\n",
    "              ' hex.genmodel.tools.PrintMojo --tree 0 -i '\n",
    "              + mojo_path + ' -o').split()\n",
    "gv_args.insert(0, 'java')\n",
    "gv_args.append(gv_file_name)\n",
    "\n",
    "if details:\n",
    "    gv_args.append('--detail')\n",
    "\n",
    "if title is not None:\n",
    "    gv_args = gv_args + ['--title', title]\n",
    "    \n",
    "print()\n",
    "print('Calling external process ...')\n",
    "print(' '.join(gv_args))\n",
    "    \n",
    "_ = subprocess.call(gv_args)"
   ]
  },
  {
   "cell_type": "code",
   "execution_count": 87,
   "metadata": {
    "scrolled": true
   },
   "outputs": [
    {
     "name": "stdout",
     "output_type": "stream",
     "text": [
      "Calling external process ...\n",
      "dot -Tpng dt_surrogate_mojo_WithSummary.gv -o dt_surrogate_mojo_WithSummary.png\n"
     ]
    }
   ],
   "source": [
    "png_file_name = model_id + '.png'\n",
    "png_args = str('dot -Tpng ' + gv_file_name + ' -o ' + png_file_name)\n",
    "png_args = png_args.split()\n",
    "\n",
    "print('Calling external process ...')\n",
    "print(' '.join(png_args))\n",
    "\n",
    "_ = subprocess.call(png_args)"
   ]
  },
  {
   "cell_type": "code",
   "execution_count": 88,
   "metadata": {
    "scrolled": false
   },
   "outputs": [
    {
     "data": {
      "image/png": "[encoded data removed]",
      "text/plain": [
       "<IPython.core.display.Image object>"
      ]
     },
     "metadata": {},
     "output_type": "display_data"
    }
   ],
   "source": [
    "display(Image((png_file_name)))"
   ]
  },
  {
   "cell_type": "markdown",
   "metadata": {},
   "source": [
    "#### From this surrogate model we can see...  the decision path adding summary:\n",
    "- Some of the most important variables\n",
    "- Important interactions\n",
    "- The decision path for the most negative reviews\n",
    "- The decision path for the most positive reviews"
   ]
  },
  {
   "cell_type": "code",
   "execution_count": 89,
   "metadata": {
    "scrolled": true
   },
   "outputs": [
    {
     "data": {
      "text/plain": [
       "0.6924513911125343"
      ]
     },
     "execution_count": 89,
     "metadata": {},
     "output_type": "execute_result"
    }
   ],
   "source": [
    "dt_performance = surrogate_plus.model_performance(ext_test)\n",
    "dt_performance.auc()"
   ]
  },
  {
   "cell_type": "code",
   "execution_count": 90,
   "metadata": {
    "scrolled": false
   },
   "outputs": [
    {
     "name": "stdout",
     "output_type": "stream",
     "text": [
      "Confusion Matrix (Act/Pred) for max f1 @ threshold = 0.6264891161727294: \n"
     ]
    },
    {
     "data": {
      "text/html": [
       "<div style=\"overflow:auto\"><table style=\"width:50%\"><tr><td><b></b></td>\n",
       "<td><b>0</b></td>\n",
       "<td><b>1</b></td>\n",
       "<td><b>Error</b></td>\n",
       "<td><b>Rate</b></td></tr>\n",
       "<tr><td>0</td>\n",
       "<td>4766.0</td>\n",
       "<td>11128.0</td>\n",
       "<td>0.7001</td>\n",
       "<td> (11128.0/15894.0)</td></tr>\n",
       "<tr><td>1</td>\n",
       "<td>2729.0</td>\n",
       "<td>25779.0</td>\n",
       "<td>0.0957</td>\n",
       "<td> (2729.0/28508.0)</td></tr>\n",
       "<tr><td>Total</td>\n",
       "<td>7495.0</td>\n",
       "<td>36907.0</td>\n",
       "<td>0.3121</td>\n",
       "<td> (13857.0/44402.0)</td></tr></table></div>"
      ],
      "text/plain": [
       "       0     1      Error    Rate\n",
       "-----  ----  -----  -------  -----------------\n",
       "0      4766  11128  0.7001   (11128.0/15894.0)\n",
       "1      2729  25779  0.0957   (2729.0/28508.0)\n",
       "Total  7495  36907  0.3121   (13857.0/44402.0)"
      ]
     },
     "metadata": {},
     "output_type": "display_data"
    },
    {
     "data": {
      "text/plain": []
     },
     "execution_count": 90,
     "metadata": {},
     "output_type": "execute_result"
    }
   ],
   "source": [
    "surrogate_plus.confusion_matrix()"
   ]
  },
  {
   "cell_type": "code",
   "execution_count": 91,
   "metadata": {},
   "outputs": [
    {
     "data": {
      "text/plain": [
       "{'train': 0.0218729167188072, 'valid': None}"
      ]
     },
     "execution_count": 91,
     "metadata": {},
     "output_type": "execute_result"
    }
   ],
   "source": [
    "surrogate_plus.r2(train=True, valid=True)"
   ]
  },
  {
   "cell_type": "markdown",
   "metadata": {},
   "source": [
    "- Most of the variables pictured in this tree also appear as highly important in the GBM variable importance plot.   \n",
    "- e.g.:  For instance, to fall into the lowest probability of default leaf node in the surrogate decision tree a customer must make their first and second payments in a timely fashion and then pay more than 1515.5 Dollars for their fifth payment.   \n",
    "- The global explanatory methods applied thus far tell a consisent and reasonable story about the GBM's behavior. If this was not so, steps should be taken to either reconcile or remove inconsistencies and unreasonable prediction behavior."
   ]
  },
  {
   "cell_type": "code",
   "execution_count": 94,
   "metadata": {
    "scrolled": true
   },
   "outputs": [
    {
     "data": {
      "image/png": "[encoded data removed]",
      "text/plain": [
       "<Figure size 1008x720 with 1 Axes>"
      ]
     },
     "metadata": {
      "needs_background": "light"
     },
     "output_type": "display_data"
    }
   ],
   "source": [
    "surrogate_plus.varimp_plot()"
   ]
  },
  {
   "cell_type": "code",
   "execution_count": 96,
   "metadata": {},
   "outputs": [
    {
     "name": "stdout",
     "output_type": "stream",
     "text": [
      "PartialDependencePlot progress: |█████████████████████████████████████████| 100%\n"
     ]
    },
    {
     "data": {
      "image/png": "[encoded data removed]",
      "text/plain": [
       "<Figure size 504x720 with 1 Axes>"
      ]
     },
     "metadata": {
      "needs_background": "light"
     },
     "output_type": "display_data"
    }
   ],
   "source": [
    "pdp_tree = surrogate_plus.partial_plot(data = ext_train, cols = [\"summary_C55\"])"
   ]
  },
  {
   "cell_type": "markdown",
   "metadata": {},
   "source": [
    "### 13 Pick the model with best performance--Logistic Regression:"
   ]
  },
  {
   "cell_type": "markdown",
   "metadata": {},
   "source": [
    "#### Helper function for finding quantile indices"
   ]
  },
  {
   "cell_type": "code",
   "execution_count": 92,
   "metadata": {},
   "outputs": [],
   "source": [
    "def get_quantile_dict(y, id_, frame):\n",
    "\n",
    "    \"\"\" Returns the percentiles of a column y as the indices for another column id_.\n",
    "    \n",
    "    Args:\n",
    "        y: Column in which to find percentiles.\n",
    "        id_: Id column that stores indices for percentiles of y.\n",
    "        frame: H2OFrame containing y and id_. \n",
    "    \n",
    "    Returns:\n",
    "        Dictionary of percentile values and index column values.\n",
    "    \n",
    "    \"\"\"\n",
    "    \n",
    "    quantiles_df = frame.as_data_frame()\n",
    "    quantiles_df.sort_values(y, inplace=True)\n",
    "    quantiles_df.reset_index(inplace=True)\n",
    "    \n",
    "    percentiles_dict = {}\n",
    "    percentiles_dict[0] = quantiles_df.loc[0, id_]\n",
    "    percentiles_dict[99] = quantiles_df.loc[quantiles_df.shape[0]-1, id_]\n",
    "    inc = quantiles_df.shape[0]//10\n",
    "    \n",
    "    for i in range(1, 10):\n",
    "        percentiles_dict[i * 10] = quantiles_df.loc[i * inc,  id_]\n",
    "\n",
    "    return percentiles_dict"
   ]
  },
  {
   "cell_type": "code",
   "execution_count": 93,
   "metadata": {},
   "outputs": [
    {
     "ename": "ParserError",
     "evalue": "Error tokenizing data. C error: Expected 212 fields in line 29, saw 216\n",
     "output_type": "error",
     "traceback": [
      "\u001b[1;31m---------------------------------------------------------------------------\u001b[0m",
      "\u001b[1;31mParserError\u001b[0m                               Traceback (most recent call last)",
      "\u001b[1;32m<ipython-input-93-bcdb0fc93110>\u001b[0m in \u001b[0;36m<module>\u001b[1;34m\u001b[0m\n\u001b[1;32m----> 1\u001b[1;33m \u001b[0mquantile_dict\u001b[0m \u001b[1;33m=\u001b[0m \u001b[0mget_quantile_dict\u001b[0m\u001b[1;33m(\u001b[0m\u001b[0mresponse\u001b[0m\u001b[1;33m,\u001b[0m \u001b[1;34m'Id'\u001b[0m\u001b[1;33m,\u001b[0m \u001b[0mext_train\u001b[0m\u001b[1;33m)\u001b[0m\u001b[1;33m\u001b[0m\u001b[0m\n\u001b[0m",
      "\u001b[1;32m<ipython-input-92-1203924b396c>\u001b[0m in \u001b[0;36mget_quantile_dict\u001b[1;34m(y, id_, frame)\u001b[0m\n\u001b[0;32m     13\u001b[0m     \"\"\"\n\u001b[0;32m     14\u001b[0m \u001b[1;33m\u001b[0m\u001b[0m\n\u001b[1;32m---> 15\u001b[1;33m     \u001b[0mquantiles_df\u001b[0m \u001b[1;33m=\u001b[0m \u001b[0mframe\u001b[0m\u001b[1;33m.\u001b[0m\u001b[0mas_data_frame\u001b[0m\u001b[1;33m(\u001b[0m\u001b[1;33m)\u001b[0m\u001b[1;33m\u001b[0m\u001b[0m\n\u001b[0m\u001b[0;32m     16\u001b[0m     \u001b[0mquantiles_df\u001b[0m\u001b[1;33m.\u001b[0m\u001b[0msort_values\u001b[0m\u001b[1;33m(\u001b[0m\u001b[0my\u001b[0m\u001b[1;33m,\u001b[0m \u001b[0minplace\u001b[0m\u001b[1;33m=\u001b[0m\u001b[1;32mTrue\u001b[0m\u001b[1;33m)\u001b[0m\u001b[1;33m\u001b[0m\u001b[0m\n\u001b[0;32m     17\u001b[0m     \u001b[0mquantiles_df\u001b[0m\u001b[1;33m.\u001b[0m\u001b[0mreset_index\u001b[0m\u001b[1;33m(\u001b[0m\u001b[0minplace\u001b[0m\u001b[1;33m=\u001b[0m\u001b[1;32mTrue\u001b[0m\u001b[1;33m)\u001b[0m\u001b[1;33m\u001b[0m\u001b[0m\n",
      "\u001b[1;32mc:\\python37\\lib\\site-packages\\h2o\\frame.py\u001b[0m in \u001b[0;36mas_data_frame\u001b[1;34m(self, use_pandas, header)\u001b[0m\n\u001b[0;32m   1295\u001b[0m         \u001b[1;32mif\u001b[0m \u001b[0mcan_use_pandas\u001b[0m\u001b[1;33m(\u001b[0m\u001b[1;33m)\u001b[0m \u001b[1;32mand\u001b[0m \u001b[0muse_pandas\u001b[0m\u001b[1;33m:\u001b[0m\u001b[1;33m\u001b[0m\u001b[0m\n\u001b[0;32m   1296\u001b[0m             \u001b[1;32mimport\u001b[0m \u001b[0mpandas\u001b[0m\u001b[1;33m\u001b[0m\u001b[0m\n\u001b[1;32m-> 1297\u001b[1;33m             \u001b[1;32mreturn\u001b[0m \u001b[0mpandas\u001b[0m\u001b[1;33m.\u001b[0m\u001b[0mread_csv\u001b[0m\u001b[1;33m(\u001b[0m\u001b[0mStringIO\u001b[0m\u001b[1;33m(\u001b[0m\u001b[0mself\u001b[0m\u001b[1;33m.\u001b[0m\u001b[0mget_frame_data\u001b[0m\u001b[1;33m(\u001b[0m\u001b[1;33m)\u001b[0m\u001b[1;33m)\u001b[0m\u001b[1;33m,\u001b[0m \u001b[0mlow_memory\u001b[0m\u001b[1;33m=\u001b[0m\u001b[1;32mFalse\u001b[0m\u001b[1;33m,\u001b[0m \u001b[0mskip_blank_lines\u001b[0m\u001b[1;33m=\u001b[0m\u001b[1;32mFalse\u001b[0m\u001b[1;33m)\u001b[0m\u001b[1;33m\u001b[0m\u001b[0m\n\u001b[0m\u001b[0;32m   1298\u001b[0m         \u001b[0mframe\u001b[0m \u001b[1;33m=\u001b[0m \u001b[1;33m[\u001b[0m\u001b[0mrow\u001b[0m \u001b[1;32mfor\u001b[0m \u001b[0mrow\u001b[0m \u001b[1;32min\u001b[0m \u001b[0mcsv\u001b[0m\u001b[1;33m.\u001b[0m\u001b[0mreader\u001b[0m\u001b[1;33m(\u001b[0m\u001b[0mStringIO\u001b[0m\u001b[1;33m(\u001b[0m\u001b[0mself\u001b[0m\u001b[1;33m.\u001b[0m\u001b[0mget_frame_data\u001b[0m\u001b[1;33m(\u001b[0m\u001b[1;33m)\u001b[0m\u001b[1;33m)\u001b[0m\u001b[1;33m)\u001b[0m\u001b[1;33m]\u001b[0m\u001b[1;33m\u001b[0m\u001b[0m\n\u001b[0;32m   1299\u001b[0m         \u001b[1;32mif\u001b[0m \u001b[1;32mnot\u001b[0m \u001b[0mheader\u001b[0m\u001b[1;33m:\u001b[0m\u001b[1;33m\u001b[0m\u001b[0m\n",
      "\u001b[1;32mc:\\python37\\lib\\site-packages\\pandas\\io\\parsers.py\u001b[0m in \u001b[0;36mparser_f\u001b[1;34m(filepath_or_buffer, sep, delimiter, header, names, index_col, usecols, squeeze, prefix, mangle_dupe_cols, dtype, engine, converters, true_values, false_values, skipinitialspace, skiprows, skipfooter, nrows, na_values, keep_default_na, na_filter, verbose, skip_blank_lines, parse_dates, infer_datetime_format, keep_date_col, date_parser, dayfirst, iterator, chunksize, compression, thousands, decimal, lineterminator, quotechar, quoting, doublequote, escapechar, comment, encoding, dialect, tupleize_cols, error_bad_lines, warn_bad_lines, delim_whitespace, low_memory, memory_map, float_precision)\u001b[0m\n\u001b[0;32m    700\u001b[0m                     skip_blank_lines=skip_blank_lines)\n\u001b[0;32m    701\u001b[0m \u001b[1;33m\u001b[0m\u001b[0m\n\u001b[1;32m--> 702\u001b[1;33m         \u001b[1;32mreturn\u001b[0m \u001b[0m_read\u001b[0m\u001b[1;33m(\u001b[0m\u001b[0mfilepath_or_buffer\u001b[0m\u001b[1;33m,\u001b[0m \u001b[0mkwds\u001b[0m\u001b[1;33m)\u001b[0m\u001b[1;33m\u001b[0m\u001b[0m\n\u001b[0m\u001b[0;32m    703\u001b[0m \u001b[1;33m\u001b[0m\u001b[0m\n\u001b[0;32m    704\u001b[0m     \u001b[0mparser_f\u001b[0m\u001b[1;33m.\u001b[0m\u001b[0m__name__\u001b[0m \u001b[1;33m=\u001b[0m \u001b[0mname\u001b[0m\u001b[1;33m\u001b[0m\u001b[0m\n",
      "\u001b[1;32mc:\\python37\\lib\\site-packages\\pandas\\io\\parsers.py\u001b[0m in \u001b[0;36m_read\u001b[1;34m(filepath_or_buffer, kwds)\u001b[0m\n\u001b[0;32m    433\u001b[0m \u001b[1;33m\u001b[0m\u001b[0m\n\u001b[0;32m    434\u001b[0m     \u001b[1;32mtry\u001b[0m\u001b[1;33m:\u001b[0m\u001b[1;33m\u001b[0m\u001b[0m\n\u001b[1;32m--> 435\u001b[1;33m         \u001b[0mdata\u001b[0m \u001b[1;33m=\u001b[0m \u001b[0mparser\u001b[0m\u001b[1;33m.\u001b[0m\u001b[0mread\u001b[0m\u001b[1;33m(\u001b[0m\u001b[0mnrows\u001b[0m\u001b[1;33m)\u001b[0m\u001b[1;33m\u001b[0m\u001b[0m\n\u001b[0m\u001b[0;32m    436\u001b[0m     \u001b[1;32mfinally\u001b[0m\u001b[1;33m:\u001b[0m\u001b[1;33m\u001b[0m\u001b[0m\n\u001b[0;32m    437\u001b[0m         \u001b[0mparser\u001b[0m\u001b[1;33m.\u001b[0m\u001b[0mclose\u001b[0m\u001b[1;33m(\u001b[0m\u001b[1;33m)\u001b[0m\u001b[1;33m\u001b[0m\u001b[0m\n",
      "\u001b[1;32mc:\\python37\\lib\\site-packages\\pandas\\io\\parsers.py\u001b[0m in \u001b[0;36mread\u001b[1;34m(self, nrows)\u001b[0m\n\u001b[0;32m   1137\u001b[0m     \u001b[1;32mdef\u001b[0m \u001b[0mread\u001b[0m\u001b[1;33m(\u001b[0m\u001b[0mself\u001b[0m\u001b[1;33m,\u001b[0m \u001b[0mnrows\u001b[0m\u001b[1;33m=\u001b[0m\u001b[1;32mNone\u001b[0m\u001b[1;33m)\u001b[0m\u001b[1;33m:\u001b[0m\u001b[1;33m\u001b[0m\u001b[0m\n\u001b[0;32m   1138\u001b[0m         \u001b[0mnrows\u001b[0m \u001b[1;33m=\u001b[0m \u001b[0m_validate_integer\u001b[0m\u001b[1;33m(\u001b[0m\u001b[1;34m'nrows'\u001b[0m\u001b[1;33m,\u001b[0m \u001b[0mnrows\u001b[0m\u001b[1;33m)\u001b[0m\u001b[1;33m\u001b[0m\u001b[0m\n\u001b[1;32m-> 1139\u001b[1;33m         \u001b[0mret\u001b[0m \u001b[1;33m=\u001b[0m \u001b[0mself\u001b[0m\u001b[1;33m.\u001b[0m\u001b[0m_engine\u001b[0m\u001b[1;33m.\u001b[0m\u001b[0mread\u001b[0m\u001b[1;33m(\u001b[0m\u001b[0mnrows\u001b[0m\u001b[1;33m)\u001b[0m\u001b[1;33m\u001b[0m\u001b[0m\n\u001b[0m\u001b[0;32m   1140\u001b[0m \u001b[1;33m\u001b[0m\u001b[0m\n\u001b[0;32m   1141\u001b[0m         \u001b[1;31m# May alter columns / col_dict\u001b[0m\u001b[1;33m\u001b[0m\u001b[1;33m\u001b[0m\u001b[0m\n",
      "\u001b[1;32mc:\\python37\\lib\\site-packages\\pandas\\io\\parsers.py\u001b[0m in \u001b[0;36mread\u001b[1;34m(self, nrows)\u001b[0m\n\u001b[0;32m   1993\u001b[0m     \u001b[1;32mdef\u001b[0m \u001b[0mread\u001b[0m\u001b[1;33m(\u001b[0m\u001b[0mself\u001b[0m\u001b[1;33m,\u001b[0m \u001b[0mnrows\u001b[0m\u001b[1;33m=\u001b[0m\u001b[1;32mNone\u001b[0m\u001b[1;33m)\u001b[0m\u001b[1;33m:\u001b[0m\u001b[1;33m\u001b[0m\u001b[0m\n\u001b[0;32m   1994\u001b[0m         \u001b[1;32mtry\u001b[0m\u001b[1;33m:\u001b[0m\u001b[1;33m\u001b[0m\u001b[0m\n\u001b[1;32m-> 1995\u001b[1;33m             \u001b[0mdata\u001b[0m \u001b[1;33m=\u001b[0m \u001b[0mself\u001b[0m\u001b[1;33m.\u001b[0m\u001b[0m_reader\u001b[0m\u001b[1;33m.\u001b[0m\u001b[0mread\u001b[0m\u001b[1;33m(\u001b[0m\u001b[0mnrows\u001b[0m\u001b[1;33m)\u001b[0m\u001b[1;33m\u001b[0m\u001b[0m\n\u001b[0m\u001b[0;32m   1996\u001b[0m         \u001b[1;32mexcept\u001b[0m \u001b[0mStopIteration\u001b[0m\u001b[1;33m:\u001b[0m\u001b[1;33m\u001b[0m\u001b[0m\n\u001b[0;32m   1997\u001b[0m             \u001b[1;32mif\u001b[0m \u001b[0mself\u001b[0m\u001b[1;33m.\u001b[0m\u001b[0m_first_chunk\u001b[0m\u001b[1;33m:\u001b[0m\u001b[1;33m\u001b[0m\u001b[0m\n",
      "\u001b[1;32mpandas\\_libs\\parsers.pyx\u001b[0m in \u001b[0;36mpandas._libs.parsers.TextReader.read\u001b[1;34m()\u001b[0m\n",
      "\u001b[1;32mpandas\\_libs\\parsers.pyx\u001b[0m in \u001b[0;36mpandas._libs.parsers.TextReader._read_rows\u001b[1;34m()\u001b[0m\n",
      "\u001b[1;32mpandas\\_libs\\parsers.pyx\u001b[0m in \u001b[0;36mpandas._libs.parsers.raise_parser_error\u001b[1;34m()\u001b[0m\n",
      "\u001b[1;31mParserError\u001b[0m: Error tokenizing data. C error: Expected 212 fields in line 29, saw 216\n"
     ]
    }
   ],
   "source": [
    "quantile_dict = get_quantile_dict(response, 'Id', ext_train)"
   ]
  },
  {
   "cell_type": "code",
   "execution_count": null,
   "metadata": {},
   "outputs": [],
   "source": []
  }
 ],
 "metadata": {
  "kernelspec": {
   "display_name": "Python 3",
   "language": "python",
   "name": "python3"
  },
  "language_info": {
   "codemirror_mode": {
    "name": "ipython",
    "version": 3
   },
   "file_extension": ".py",
   "mimetype": "text/x-python",
   "name": "python",
   "nbconvert_exporter": "python",
   "pygments_lexer": "ipython3",
   "version": "3.7.0b3"
  }
 },
 "nbformat": 4,
 "nbformat_minor": 2
}
